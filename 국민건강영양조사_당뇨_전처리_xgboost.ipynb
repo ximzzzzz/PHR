{
 "cells": [
  {
   "cell_type": "code",
   "execution_count": 16,
   "metadata": {},
   "outputs": [],
   "source": [
    "import pandas as pd\n",
    "import numpy as np\n",
    "import seaborn as sns\n",
    "import re\n",
    "import matplotlib.pyplot as plt\n",
    "import xgboost as xgb\n",
    "from xgboost.sklearn import XGBClassifier\n",
    "from sklearn import metrics   #Additional scklearn functions\n",
    "from sklearn.model_selection import GridSearchCV   #Perforing grid search\n",
    "from sklearn.model_selection import cross_validate\n",
    "from sklearn.model_selection import train_test_split"
   ]
  },
  {
   "cell_type": "code",
   "execution_count": 2,
   "metadata": {},
   "outputs": [
    {
     "data": {
      "text/plain": [
       "11"
      ]
     },
     "execution_count": 2,
     "metadata": {},
     "output_type": "execute_result"
    }
   ],
   "source": [
    "# 데이터불러오기 ( 2007 - 2017)\n",
    "d=[]\n",
    "for year in range(7,18):\n",
    "    if year//10==0:\n",
    "        data=pd.read_sas('c:/users/nb-0242/desktop/PHR/질병관리본부/HN'+str(0)+str(year)+'_ALL.sas7bdat', encoding='latin-1')\n",
    "        d.append(data)\n",
    "    else :\n",
    "        data=pd.read_sas('c:/users/nb-0242/desktop/PHR/질병관리본부/HN'+str(year)+'_ALL.sas7bdat', encoding='latin-1')\n",
    "        d.append(data)\n",
    "len(d)"
   ]
  },
  {
   "cell_type": "code",
   "execution_count": 25,
   "metadata": {
    "scrolled": true
   },
   "outputs": [
    {
     "data": {
      "text/plain": [
       "(3764, 268)"
      ]
     },
     "execution_count": 25,
     "metadata": {},
     "output_type": "execute_result"
    }
   ],
   "source": [
    "X_train.shape"
   ]
  },
  {
   "cell_type": "code",
   "execution_count": 30,
   "metadata": {
    "scrolled": true
   },
   "outputs": [
    {
     "data": {
      "text/plain": [
       "['age',\n",
       " 'HE_HB',\n",
       " 'HE_Usg',\n",
       " 'HE_WBC',\n",
       " 'BO2_2',\n",
       " 'N_FE',\n",
       " 'N_DIET',\n",
       " 'HE_Upro',\n",
       " 'HE_RBC',\n",
       " 'HE_ast',\n",
       " 'D_1_1',\n",
       " 'LS_KIND1',\n",
       " 'HE_PLS',\n",
       " 'HE_alt',\n",
       " 'HE_insulin',\n",
       " 'HE_TG',\n",
       " 'house_mm',\n",
       " 'N_WATER',\n",
       " 'HE_DMdr',\n",
       " 'HE_HCT',\n",
       " 'HE_wc',\n",
       " 'BE5_2',\n",
       " 'HE_HDL_st2',\n",
       " 'HE_chol',\n",
       " 'N_CA',\n",
       " 'HE_Frtn',\n",
       " 'HE_crea',\n",
       " 'HE_Ubld',\n",
       " 'HE_dbp_tr',\n",
       " 'ainc_1',\n",
       " 'BD1_11',\n",
       " 'N_FIBER',\n",
       " 'LQ4_07',\n",
       " 'N_NIAC',\n",
       " 'HE_wt',\n",
       " 'N_VA',\n",
       " 'N_CHO',\n",
       " 'HE_ht',\n",
       " 'HE_Uph',\n",
       " 'N_WAT_C',\n",
       " 'HE_sbp1',\n",
       " 'N_RETIN',\n",
       " 'ainc',\n",
       " 'HE_BUN',\n",
       " 'HE_BMI',\n",
       " 'house_prc',\n",
       " 'D_2_wk',\n",
       " 'HE_HPdg',\n",
       " 'LS_FUN',\n",
       " 'HE_sbp_tr',\n",
       " 'N_NA',\n",
       " 'kstrata',\n",
       " 'N_B2',\n",
       " 'N_CAROT',\n",
       " 'HE_dbp1',\n",
       " 'BM1_5',\n",
       " 'LK_EDU',\n",
       " 'BE3_32',\n",
       " 'LQ1_mn',\n",
       " 'LQ4_04',\n",
       " 'suprt_2',\n",
       " 'N_ASH',\n",
       " 'N_B1',\n",
       " 'relat',\n",
       " 'LK_GD_P7',\n",
       " 'BM12_1',\n",
       " 'N_K',\n",
       " 'HE_HBsAg',\n",
       " 'HE_sbp',\n",
       " 'OR1_2',\n",
       " 'N_FAT',\n",
       " 'N_INTK',\n",
       " 'N_PROT',\n",
       " 'marri_2',\n",
       " 'house_yy',\n",
       " 'N_EN',\n",
       " 'HE_sbp2',\n",
       " 'LQ4_03',\n",
       " 'BO1_1',\n",
       " 'BP8',\n",
       " 'BD2',\n",
       " 'OR3',\n",
       " 'allownc',\n",
       " 'LS_FQ1',\n",
       " 'BE3_11',\n",
       " 'L_OUT_FQ',\n",
       " 'BD2_1',\n",
       " 'N_PHOS',\n",
       " 'BM1_4',\n",
       " 'O_DMFTP',\n",
       " 'BP1',\n",
       " 'region',\n",
       " 'live_t',\n",
       " 'house_p_yy',\n",
       " 'HE_ALC',\n",
       " 'HE_dbp',\n",
       " 'OR1_1_3',\n",
       " 'HE_sbp3',\n",
       " 'D_3_1',\n",
       " 'LS_QN_A3']"
      ]
     },
     "execution_count": 30,
     "metadata": {},
     "output_type": "execute_result"
    }
   ],
   "source": [
    "list(pd.Series(xgb1.get_booster().get_fscore()).sort_values(ascending=False)[:100].keys())"
   ]
  },
  {
   "cell_type": "code",
   "execution_count": 39,
   "metadata": {},
   "outputs": [
    {
     "name": "stdout",
     "output_type": "stream",
     "text": [
      "origin shape : (4594, 1101)\n",
      "after shape : (1306, 937)\n"
     ]
    },
    {
     "name": "stderr",
     "output_type": "stream",
     "text": [
      "c:\\users\\nb-0242\\anaconda3\\envs\\ximz\\lib\\site-packages\\ipykernel_launcher.py:23: SettingWithCopyWarning: \n",
      "A value is trying to be set on a copy of a slice from a DataFrame\n",
      "\n",
      "See the caveats in the documentation: http://pandas.pydata.org/pandas-docs/stable/indexing.html#indexing-view-versus-copy\n"
     ]
    }
   ],
   "source": [
    "d7 = garbage_killer(d[0])"
   ]
  },
  {
   "cell_type": "code",
   "execution_count": 42,
   "metadata": {
    "scrolled": true
   },
   "outputs": [],
   "source": [
    "_ = feat_generator(d7,'7xgb')"
   ]
  },
  {
   "cell_type": "code",
   "execution_count": 41,
   "metadata": {},
   "outputs": [],
   "source": [
    "#method()\n",
    "def feat_generator(d7_,name):\n",
    "    feat_list =[]\n",
    "    DE1_var = list(filter(re.compile('^DE1_.*').match, d7_.columns))\n",
    "    dn_var = ['HE_glu2', 'HE_fst', 'DE1_dg', 'DE1_31', 'DE1_32', 'HE_DM','HE_DMdg','HE_glu','HE_Uglu','N_DIET_WHY']\n",
    "    dn_var.extend(DE1_var)\n",
    "    d_var = list(set(dn_var))\n",
    "\n",
    "    for i in range(100):\n",
    "        X_train, X_test, y_train, y_test = train_test_split(d7_.iloc[:,1:], d7_['DE1_dg'],test_size=0.2)\n",
    "        X_train = X_train.iloc[:, ~X_train.columns.isin(d_var)]\n",
    "        X_test = X_test.iloc[:, ~X_test.columns.isin(d_var)]\n",
    "        xgb_ = XGBClassifier()\n",
    "        xgb_.fit(X_train, y_train)\n",
    "#         xgb_yhat = xgb_.predict(X_test)\n",
    "        feat_importances = pd.Series(xgb_.get_booster().get_fscore()).sort_values(ascending=True)\n",
    "        feat_list.append(list(feat_importances[:101].keys()))\n",
    "\n",
    "    feat_list_ = sum(feat_list, [])\n",
    "    uni, cnt = np.unique(feat_list_, return_counts=True)\n",
    "    feat100 = pd.DataFrame(data=cnt,index=uni)\n",
    "    feat100.sort_values(by=0,ascending=False,inplace=True)\n",
    "    feat100.to_csv('c:/users/nb-0242/jupyter/PHR/pp_xgb/feat'+name+'_100.csv', index=True)\n",
    "    return feat100"
   ]
  },
  {
   "cell_type": "code",
   "execution_count": 37,
   "metadata": {},
   "outputs": [],
   "source": [
    "def garbage_killer(d):\n",
    "    # 여성관련 변수 제거\n",
    "    r = re.compile('^HW_.*')\n",
    "    w_var =list(filter(r.match, d.columns))\n",
    "    d_ = d.iloc[:, ~d.columns.isin(w_var)]\n",
    "    \n",
    "    # 가중치 변수 제거\n",
    "    r2 = re.compile('^wt_.*')\n",
    "    weight_var = list(filter(r2.match, d_.columns))\n",
    "    d__ = d_.iloc[:, ~d_.columns.isin(weight_var)]\n",
    "    \n",
    "    #쓰레기변수 삭제\n",
    "    g_var = [x for x in d__.columns if str(d__[x].dtypes) not in ['float64', 'int64']]\n",
    "    d__ = d__.iloc[:, ~d__.columns.isin(g_var)]\n",
    "    \n",
    "    # DE1_dg 보다 결측치 많은 변수 제거 ㅎ , default 2000\n",
    "    dc1_null = d__['DE1_dg'].isnull().sum()\n",
    "    if dc1_null > 2000:\n",
    "        \n",
    "        d_ = d__.iloc[:, d__.isnull().sum().values <dc1_null+1]\n",
    "    else :\n",
    "        d_ = d__.iloc[:, d__.isnull().sum().values < 2000 ]\n",
    "    d_.dropna(inplace=True)\n",
    "    print('origin shape : {}'.format(d.shape))\n",
    "    print('after shape : {}'.format(d_.shape))\n",
    "    return d_"
   ]
  },
  {
   "cell_type": "code",
   "execution_count": null,
   "metadata": {},
   "outputs": [
    {
     "name": "stderr",
     "output_type": "stream",
     "text": [
      "c:\\users\\nb-0242\\anaconda3\\envs\\ximz\\lib\\site-packages\\ipykernel_launcher.py:23: SettingWithCopyWarning: \n",
      "A value is trying to be set on a copy of a slice from a DataFrame\n",
      "\n",
      "See the caveats in the documentation: http://pandas.pydata.org/pandas-docs/stable/indexing.html#indexing-view-versus-copy\n"
     ]
    },
    {
     "name": "stdout",
     "output_type": "stream",
     "text": [
      "origin shape : (9744, 1159)\n",
      "after shape : (5834, 224)\n",
      "origin shape : (10533, 1195)\n",
      "after shape : (7438, 890)\n"
     ]
    }
   ],
   "source": [
    "for idx in range(1,11):\n",
    "    d_year= garbage_killer(d[idx])\n",
    "    _ = feat_generator(d_year, name = str(idx+7)+'xgb')"
   ]
  },
  {
   "cell_type": "code",
   "execution_count": null,
   "metadata": {},
   "outputs": [],
   "source": []
  }
 ],
 "metadata": {
  "kernelspec": {
   "display_name": "Python 3",
   "language": "python",
   "name": "python3"
  },
  "language_info": {
   "codemirror_mode": {
    "name": "ipython",
    "version": 3
   },
   "file_extension": ".py",
   "mimetype": "text/x-python",
   "name": "python",
   "nbconvert_exporter": "python",
   "pygments_lexer": "ipython3",
   "version": "3.5.0"
  }
 },
 "nbformat": 4,
 "nbformat_minor": 2
}
