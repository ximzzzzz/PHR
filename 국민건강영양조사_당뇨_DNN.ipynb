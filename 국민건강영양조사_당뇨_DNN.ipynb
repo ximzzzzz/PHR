{
 "cells": [
  {
   "cell_type": "markdown",
   "metadata": {},
   "source": [
    "# preprocessing"
   ]
  },
  {
   "cell_type": "code",
   "execution_count": 16,
   "metadata": {},
   "outputs": [],
   "source": [
    "data = pd.read_csv('data_no8.csv')\n",
    "data_x = data.iloc[:, data.columns!= 'DE1_dg' ]\n",
    "data_y = data.iloc[:,data.columns=='DE1_dg']"
   ]
  },
  {
   "cell_type": "code",
   "execution_count": 15,
   "metadata": {},
   "outputs": [],
   "source": [
    "# data_xx.to_csv('data_x.csv', index=False)"
   ]
  },
  {
   "cell_type": "code",
   "execution_count": 17,
   "metadata": {},
   "outputs": [
    {
     "data": {
      "text/plain": [
       "0.0    20949\n",
       "1.0     3398\n",
       "Name: DE1_dg, dtype: int64"
      ]
     },
     "execution_count": 17,
     "metadata": {},
     "output_type": "execute_result"
    }
   ],
   "source": [
    "# data_y.loc[data_y['DE1_dg']==8.0,:] = 0\n",
    "# data_y.loc[data_y['DE1_dg']==9.0,:] = 0\n",
    "data_y['DE1_dg'].value_counts()"
   ]
  },
  {
   "cell_type": "code",
   "execution_count": 18,
   "metadata": {},
   "outputs": [],
   "source": [
    "data_y.to_csv('data_y.csv', index=False)"
   ]
  },
  {
   "cell_type": "code",
   "execution_count": 19,
   "metadata": {},
   "outputs": [],
   "source": [
    "from sklearn.preprocessing import StandardScaler"
   ]
  },
  {
   "cell_type": "code",
   "execution_count": 20,
   "metadata": {},
   "outputs": [],
   "source": [
    "data_pre = StandardScaler().fit(data.iloc[:,data.columns!='DE1_dg'])"
   ]
  },
  {
   "cell_type": "code",
   "execution_count": 21,
   "metadata": {},
   "outputs": [],
   "source": [
    "data_x_norm = data_pre.transform(data.iloc[:,data.columns!='DE1_dg'])"
   ]
  },
  {
   "cell_type": "code",
   "execution_count": 22,
   "metadata": {},
   "outputs": [],
   "source": [
    "np.save('data_x_norm', data_x_norm)"
   ]
  },
  {
   "cell_type": "markdown",
   "metadata": {},
   "source": [
    "# begin"
   ]
  },
  {
   "cell_type": "code",
   "execution_count": 1,
   "metadata": {},
   "outputs": [],
   "source": [
    "import tensorflow as tf\n",
    "import numpy as np\n",
    "import matplotlib.pyplot as plt\n",
    "import seaborn as sns\n",
    "import pandas as pd\n",
    "from sklearn.metrics import f1_score\n",
    "from sklearn.model_selection import train_test_split\n",
    "from sklearn.metrics import confusion_matrix"
   ]
  },
  {
   "cell_type": "code",
   "execution_count": 2,
   "metadata": {},
   "outputs": [],
   "source": [
    "# data_x_norm = np.array(data_x)\n",
    "# data_y = np.array(data_y)"
   ]
  },
  {
   "cell_type": "code",
   "execution_count": 3,
   "metadata": {},
   "outputs": [],
   "source": [
    "# data_x = np.loadtxt('data_x.csv',skiprows=1, delimiter=',')\n",
    "data_x_norm = np.load('data_x_norm.npy')\n",
    "data_y = np.loadtxt('data_y.csv', skiprows=1, delimiter=',')\n"
   ]
  },
  {
   "cell_type": "code",
   "execution_count": 4,
   "metadata": {},
   "outputs": [],
   "source": [
    "data_y = data_y.reshape(-1,1)"
   ]
  },
  {
   "cell_type": "code",
   "execution_count": 5,
   "metadata": {
    "scrolled": true
   },
   "outputs": [
    {
     "name": "stdout",
     "output_type": "stream",
     "text": [
      "(24347, 321)\n",
      "(24347, 1)\n"
     ]
    }
   ],
   "source": [
    "print(data_x_norm.shape)\n",
    "print(data_y.shape)"
   ]
  },
  {
   "cell_type": "code",
   "execution_count": 6,
   "metadata": {},
   "outputs": [],
   "source": [
    "X_train, X_test, y_train, y_test = train_test_split(data_x_norm, data_y, test_size=0.2)"
   ]
  },
  {
   "cell_type": "code",
   "execution_count": 7,
   "metadata": {},
   "outputs": [],
   "source": [
    "X = tf.placeholder(tf.float32, shape=(None, 321))\n",
    "Y = tf.placeholder(tf.float32, shape=(None,1))\n",
    "training = tf.placeholder(tf.bool)"
   ]
  },
  {
   "cell_type": "code",
   "execution_count": 8,
   "metadata": {},
   "outputs": [],
   "source": [
    "#layers\n",
    "L = 6\n",
    "# units\n",
    "units=[X.shape[1] ,256,128,64,32,16,8,1]   \n",
    "\n",
    "W1 = tf.get_variable('W1',shape=[units[0],units[1]], initializer= tf.contrib.layers.xavier_initializer())\n",
    "B1 = tf.Variable(tf.random_normal([units[1]]))\n",
    "Z1 = tf.matmul(X,W1)+B1\n",
    "Z1 = tf.layers.batch_normalization(Z1)\n",
    "A1 = tf.nn.relu(Z1)\n",
    "dropout1 = tf.layers.dropout(A1, rate=0.2, training=training)\n",
    "\n",
    "W2 = tf.get_variable('W2',shape=[ units[1],units[2]], initializer= tf.contrib.layers.variance_scaling_initializer())\n",
    "B2 = tf.Variable(tf.random_normal([units[2]]))\n",
    "Z2 = tf.matmul(A1,W2)+B2\n",
    "Z2 = tf.layers.batch_normalization(Z2)\n",
    "A2 = tf.nn.relu(Z2)\n",
    "dropout2 = tf.layers.dropout(A2, rate=0.2, training=training)\n",
    "\n",
    "W3 = tf.get_variable('W3',shape=[ units[2],units[3]], initializer= tf.contrib.layers.variance_scaling_initializer())\n",
    "B3 = tf.Variable(tf.random_normal([units[3]]))\n",
    "Z3 = tf.matmul(A2,W3)+B3\n",
    "Z3 = tf.layers.batch_normalization(Z3)\n",
    "A3 = tf.nn.relu(Z3)\n",
    "dropout3 = tf.layers.dropout(A3, rate=0.2, training=training)\n",
    "\n",
    "W4 = tf.get_variable('W4',shape=[ units[3],units[4]], initializer= tf.contrib.layers.variance_scaling_initializer())\n",
    "B4 = tf.Variable(tf.random_normal([units[4]]))\n",
    "Z4 = tf.matmul(A3,W4)+B4\n",
    "Z4 = tf.layers.batch_normalization(Z4)\n",
    "A4 = tf.nn.relu(Z4)\n",
    "dropout4 = tf.layers.dropout(A4, rate=0.2, training=training)\n",
    "\n",
    "W5 = tf.get_variable('W5', shape = [units[4], units[5]], initializer = tf.contrib.layers.variance_scaling_initializer())\n",
    "B5 = tf.Variable(tf.random_normal([units[5]]))\n",
    "Z5 = tf.matmul(A4,W5)+B5\n",
    "Z5 = tf.layers.batch_normalization(Z5)\n",
    "A5 = tf.nn.relu(Z5)\n",
    "dropout5 = tf.layers.dropout(A5, rate=0.2, training=training)\n",
    "\n",
    "W6 = tf.get_variable('W6', shape = [units[5], units[6]], initializer = tf.contrib.layers.variance_scaling_initializer())\n",
    "B6 = tf.Variable(tf.random_normal([units[6]]))\n",
    "Z6 = tf.matmul(A5,W6)+B6\n",
    "Z6 = tf.layers.batch_normalization(Z6)\n",
    "A6 = tf.nn.sigmoid(Z6)\n",
    "dropout6 = tf.layers.dropout(A6, rate=0.2, training=training)\n",
    "\n",
    "W7 = tf.get_variable('W7', shape = [units[6], units[7]], initializer = tf.contrib.layers.variance_scaling_initializer())\n",
    "B7 = tf.Variable(tf.random_normal([units[7]]))\n",
    "Z7 = tf.matmul(A6,W7)+B7\n",
    "\n",
    "\n",
    "# cost = tf.reduce_mean(tf.matmul(tf.log(tf.transpose(logits)),Y) + \n",
    "#                                  tf.matmul(tf.log(1-tf.transpose(logits)),(1-Y)))\n",
    "cost = tf.reduce_mean(tf.reduce_sum(tf.nn.sigmoid_cross_entropy_with_logits(labels= Y, logits=Z7)))\n",
    "# cost = -tf.reduce_mean(tf.reduce_sum((Y * tf.log(logits)) + ((1-Y) * tf.log(1-logits))))\n",
    "# cost = -tf.reduce_mean(Y * tf.log(logits) + (1 - Y) * tf.log(1 - logits),axis=0)\n",
    "# cost  = -tf.reduce_mean(tf.reduce_sum(Y * tf.log(logits),axis=1))\n",
    "\n",
    "optimizer = tf.train.AdamOptimizer(0.001).minimize(cost)\n",
    "\n",
    "# predicted = tf.nn.sigmoid(Z5)\n",
    "# correct_pred = tf.equal(tf.round(predicted), Y)\n",
    "# accuracy = tf.reduce_mean(tf.cast(correct_pred, tf.float32))"
   ]
  },
  {
   "cell_type": "code",
   "execution_count": 13,
   "metadata": {
    "scrolled": true
   },
   "outputs": [
    {
     "name": "stdout",
     "output_type": "stream",
     "text": [
      "iter : 0, cost : 204.38754272460938\n",
      "iter : 100, cost : 197.24627685546875\n",
      "iter : 200, cost : 79.94312286376953\n",
      "iter : 300, cost : 71.14630126953125\n",
      "iter : 400, cost : 67.66644287109375\n",
      "iter : 500, cost : 65.84284973144531\n",
      "iter : 600, cost : 64.27703857421875\n",
      "iter : 700, cost : 41.407203674316406\n",
      "iter : 800, cost : 41.020484924316406\n",
      "iter : 900, cost : 40.731903076171875\n",
      "iter : 1000, cost : 39.966392517089844\n",
      "iter : 1100, cost : 39.457420349121094\n",
      "iter : 1200, cost : 23.557254791259766\n",
      "iter : 1300, cost : 22.742835998535156\n",
      "iter : 1400, cost : 22.299514770507812\n",
      "iter : 1500, cost : 21.849695205688477\n",
      "iter : 1600, cost : 18.888526916503906\n",
      "iter : 1700, cost : 18.284435272216797\n",
      "iter : 1800, cost : 17.93531608581543\n",
      "iter : 1900, cost : 17.639572143554688\n",
      "iter : 2000, cost : 17.367820739746094\n",
      "iter : 2100, cost : 17.094396591186523\n",
      "iter : 2200, cost : 16.81051254272461\n",
      "iter : 2300, cost : 16.517288208007812\n",
      "iter : 2400, cost : 16.21856689453125\n",
      "iter : 2500, cost : 15.917881965637207\n",
      "iter : 2600, cost : 15.617166519165039\n",
      "iter : 2700, cost : 15.3174409866333\n",
      "iter : 2800, cost : 15.019527435302734\n",
      "iter : 2900, cost : 14.724320411682129\n",
      "iter : 3000, cost : 14.433073043823242\n",
      "iter : 3100, cost : 14.147322654724121\n",
      "iter : 3200, cost : 13.869144439697266\n",
      "iter : 3300, cost : 13.60093879699707\n",
      "iter : 3400, cost : 13.022024154663086\n",
      "iter : 3500, cost : 12.77978801727295\n",
      "iter : 3600, cost : 12.505159378051758\n",
      "iter : 3700, cost : 12.227985382080078\n",
      "iter : 3800, cost : 11.95993709564209\n",
      "iter : 3900, cost : 53.984981536865234\n"
     ]
    }
   ],
   "source": [
    "\n",
    "# sess = tf.Session()\n",
    "# sess.run(tf.global_variables_initializer())\n",
    "# mini -> 128 ->500\n",
    "mini = 500\n",
    "epoch=4000\n",
    "n_mini = epoch//mini\n",
    "for i in range(epoch):\n",
    "    for j in range(n_mini):\n",
    "        c , _ = sess.run([cost, optimizer], \n",
    "                         feed_dict={X: X_train[j * mini : (j+1) * mini], Y: y_train[j * mini : (j+1) * mini],\n",
    "                                   training:True})\n",
    "    c , _ = sess.run([cost, optimizer], \n",
    "                         feed_dict={X: X_train[n_mini * mini :], Y: y_train[n_mini * mini :],\n",
    "                                   training:True})\n",
    "    \n",
    "    if i%100==0:\n",
    "        print('iter : {}, cost : {}'.format(i,c))"
   ]
  },
  {
   "cell_type": "code",
   "execution_count": 14,
   "metadata": {},
   "outputs": [],
   "source": [
    "yhat_test = sess.run(tf.round(tf.nn.sigmoid(Z7)), feed_dict={X:X_test, training:False})"
   ]
  },
  {
   "cell_type": "code",
   "execution_count": 15,
   "metadata": {},
   "outputs": [
    {
     "data": {
      "text/plain": [
       "0.9277207392197125"
      ]
     },
     "execution_count": 15,
     "metadata": {},
     "output_type": "execute_result"
    }
   ],
   "source": [
    "#accuracy\n",
    "np.mean(np.equal(yhat_test,y_test))"
   ]
  },
  {
   "cell_type": "code",
   "execution_count": 16,
   "metadata": {},
   "outputs": [
    {
     "data": {
      "text/plain": [
       "0.7345399698340874"
      ]
     },
     "execution_count": 16,
     "metadata": {},
     "output_type": "execute_result"
    }
   ],
   "source": [
    "#f1 score\n",
    "f1_score(y_test,yhat_test)"
   ]
  },
  {
   "cell_type": "code",
   "execution_count": 38,
   "metadata": {
    "scrolled": true
   },
   "outputs": [
    {
     "data": {
      "text/plain": [
       "<matplotlib.axes._subplots.AxesSubplot at 0x22fd16cda20>"
      ]
     },
     "execution_count": 38,
     "metadata": {},
     "output_type": "execute_result"
    },
    {
     "data": {
      "image/png": "[encoded data removed]",
      "text/plain": [
       "<Figure size 432x288 with 2 Axes>"
      ]
     },
     "metadata": {
      "needs_background": "light"
     },
     "output_type": "display_data"
    }
   ],
   "source": [
    "# confusion matrix\n",
    "cm = confusion_matrix(y_test, yhat_test)\n",
    "sns.heatmap(cm,annot=True,fmt=\".3f\", linewidths=.5, square = True, cmap = 'Blues_r')"
   ]
  },
  {
   "cell_type": "code",
   "execution_count": 43,
   "metadata": {},
   "outputs": [
    {
     "data": {
      "text/plain": [
       "'c:/users/nb-0242/jupyter/PHR_DNN'"
      ]
     },
     "execution_count": 43,
     "metadata": {},
     "output_type": "execute_result"
    }
   ],
   "source": [
    "#model save\n",
    "saver = tf.train.Saver()\n",
    "saver.save(sess,'c:/users/nb-0242/jupyter/PHR_DNN')"
   ]
  },
  {
   "cell_type": "code",
   "execution_count": null,
   "metadata": {},
   "outputs": [],
   "source": []
  }
 ],
 "metadata": {
  "kernelspec": {
   "display_name": "Python 3",
   "language": "python",
   "name": "python3"
  },
  "language_info": {
   "codemirror_mode": {
    "name": "ipython",
    "version": 3
   },
   "file_extension": ".py",
   "mimetype": "text/x-python",
   "name": "python",
   "nbconvert_exporter": "python",
   "pygments_lexer": "ipython3",
   "version": "3.5.0"
  }
 },
 "nbformat": 4,
 "nbformat_minor": 2
}
