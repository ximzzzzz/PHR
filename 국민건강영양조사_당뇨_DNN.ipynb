{
 "cells": [
  {
   "cell_type": "markdown",
   "metadata": {},
   "source": [
    "# preprocessing"
   ]
  },
  {
   "cell_type": "code",
   "execution_count": 2,
   "metadata": {},
   "outputs": [],
   "source": [
    "data = pd.read_csv('data_.csv')\n",
    "# data_x = data_x.iloc[:, data_x.columns!= 'DE1_dg' ]\n",
    "# data_y = data_x.iloc[:,data_x.columns=='DE1_dg']"
   ]
  },
  {
   "cell_type": "code",
   "execution_count": 15,
   "metadata": {},
   "outputs": [],
   "source": [
    "data_xx.to_csv('data_x.csv', index=False)"
   ]
  },
  {
   "cell_type": "code",
   "execution_count": 15,
   "metadata": {},
   "outputs": [
    {
     "name": "stderr",
     "output_type": "stream",
     "text": [
      "c:\\users\\nb-0242\\anaconda3\\envs\\ximz\\lib\\site-packages\\pandas\\core\\indexing.py:189: SettingWithCopyWarning: \n",
      "A value is trying to be set on a copy of a slice from a DataFrame\n",
      "\n",
      "See the caveats in the documentation: http://pandas.pydata.org/pandas-docs/stable/indexing.html#indexing-view-versus-copy\n",
      "  self._setitem_with_indexer(indexer, value)\n",
      "c:\\users\\nb-0242\\anaconda3\\envs\\ximz\\lib\\site-packages\\ipykernel_launcher.py:1: SettingWithCopyWarning: \n",
      "A value is trying to be set on a copy of a slice from a DataFrame\n",
      "\n",
      "See the caveats in the documentation: http://pandas.pydata.org/pandas-docs/stable/indexing.html#indexing-view-versus-copy\n",
      "  \"\"\"Entry point for launching an IPython kernel.\n"
     ]
    },
    {
     "data": {
      "text/plain": [
       "0.0    48660\n",
       "1.0     4021\n",
       "Name: DE1_dg, dtype: int64"
      ]
     },
     "execution_count": 15,
     "metadata": {},
     "output_type": "execute_result"
    }
   ],
   "source": [
    "data_y.loc[data_y['DE1_dg']==8.0,:] = 0\n",
    "data_y['DE1_dg'].value_counts()"
   ]
  },
  {
   "cell_type": "code",
   "execution_count": 16,
   "metadata": {},
   "outputs": [],
   "source": [
    "data_y.to_csv('data_y.csv', index=False)"
   ]
  },
  {
   "cell_type": "code",
   "execution_count": 3,
   "metadata": {},
   "outputs": [],
   "source": [
    "from sklearn.preprocessing import StandardScaler"
   ]
  },
  {
   "cell_type": "code",
   "execution_count": 4,
   "metadata": {},
   "outputs": [],
   "source": [
    "data_pre = StandardScaler().fit(data.iloc[:,data.columns!='DE1_dg'])"
   ]
  },
  {
   "cell_type": "code",
   "execution_count": 12,
   "metadata": {},
   "outputs": [
    {
     "data": {
      "text/html": [
       "<div>\n",
       "<style scoped>\n",
       "    .dataframe tbody tr th:only-of-type {\n",
       "        vertical-align: middle;\n",
       "    }\n",
       "\n",
       "    .dataframe tbody tr th {\n",
       "        vertical-align: top;\n",
       "    }\n",
       "\n",
       "    .dataframe thead th {\n",
       "        text-align: right;\n",
       "    }\n",
       "</style>\n",
       "<table border=\"1\" class=\"dataframe\">\n",
       "  <thead>\n",
       "    <tr style=\"text-align: right;\">\n",
       "      <th></th>\n",
       "      <th>HE_wt</th>\n",
       "      <th>N_VITC</th>\n",
       "      <th>age</th>\n",
       "      <th>HE_BMI</th>\n",
       "      <th>HE_wc</th>\n",
       "      <th>N_FE</th>\n",
       "      <th>N_B1</th>\n",
       "      <th>N_B2</th>\n",
       "      <th>N_CA</th>\n",
       "      <th>N_CAROT</th>\n",
       "      <th>...</th>\n",
       "      <th>HE_BUN</th>\n",
       "      <th>HE_TG</th>\n",
       "      <th>HE_chol</th>\n",
       "      <th>BM8</th>\n",
       "      <th>BM7</th>\n",
       "      <th>BE3_31</th>\n",
       "      <th>L_OUT_FQ</th>\n",
       "      <th>HE_HBsAg</th>\n",
       "      <th>BD1_11</th>\n",
       "      <th>DE1_dg</th>\n",
       "    </tr>\n",
       "  </thead>\n",
       "  <tbody>\n",
       "    <tr>\n",
       "      <th>0</th>\n",
       "      <td>56.5</td>\n",
       "      <td>28.144062</td>\n",
       "      <td>38.0</td>\n",
       "      <td>22.070312</td>\n",
       "      <td>78.0</td>\n",
       "      <td>9.906326</td>\n",
       "      <td>2.129463</td>\n",
       "      <td>1.162732</td>\n",
       "      <td>354.696362</td>\n",
       "      <td>2123.850327</td>\n",
       "      <td>...</td>\n",
       "      <td>10.2</td>\n",
       "      <td>66.0</td>\n",
       "      <td>186.0</td>\n",
       "      <td>2.0</td>\n",
       "      <td>2.0</td>\n",
       "      <td>8.0</td>\n",
       "      <td>4.0</td>\n",
       "      <td>0.3</td>\n",
       "      <td>8.0</td>\n",
       "      <td>8.0</td>\n",
       "    </tr>\n",
       "    <tr>\n",
       "      <th>1</th>\n",
       "      <td>63.7</td>\n",
       "      <td>14.517030</td>\n",
       "      <td>20.0</td>\n",
       "      <td>20.401699</td>\n",
       "      <td>75.0</td>\n",
       "      <td>14.080673</td>\n",
       "      <td>0.560153</td>\n",
       "      <td>0.483796</td>\n",
       "      <td>640.070701</td>\n",
       "      <td>286.469587</td>\n",
       "      <td>...</td>\n",
       "      <td>13.3</td>\n",
       "      <td>94.0</td>\n",
       "      <td>139.0</td>\n",
       "      <td>3.0</td>\n",
       "      <td>3.0</td>\n",
       "      <td>6.0</td>\n",
       "      <td>3.0</td>\n",
       "      <td>0.3</td>\n",
       "      <td>3.0</td>\n",
       "      <td>8.0</td>\n",
       "    </tr>\n",
       "    <tr>\n",
       "      <th>2</th>\n",
       "      <td>63.0</td>\n",
       "      <td>138.550033</td>\n",
       "      <td>23.0</td>\n",
       "      <td>21.494781</td>\n",
       "      <td>74.5</td>\n",
       "      <td>21.453717</td>\n",
       "      <td>2.670493</td>\n",
       "      <td>2.015267</td>\n",
       "      <td>595.618808</td>\n",
       "      <td>8277.230522</td>\n",
       "      <td>...</td>\n",
       "      <td>6.7</td>\n",
       "      <td>215.0</td>\n",
       "      <td>175.0</td>\n",
       "      <td>5.0</td>\n",
       "      <td>2.0</td>\n",
       "      <td>8.0</td>\n",
       "      <td>1.0</td>\n",
       "      <td>0.4</td>\n",
       "      <td>5.0</td>\n",
       "      <td>8.0</td>\n",
       "    </tr>\n",
       "    <tr>\n",
       "      <th>3</th>\n",
       "      <td>54.9</td>\n",
       "      <td>103.136254</td>\n",
       "      <td>37.0</td>\n",
       "      <td>20.337484</td>\n",
       "      <td>72.4</td>\n",
       "      <td>54.075376</td>\n",
       "      <td>1.028786</td>\n",
       "      <td>0.601815</td>\n",
       "      <td>451.542912</td>\n",
       "      <td>4011.061803</td>\n",
       "      <td>...</td>\n",
       "      <td>14.7</td>\n",
       "      <td>49.0</td>\n",
       "      <td>160.0</td>\n",
       "      <td>5.0</td>\n",
       "      <td>4.0</td>\n",
       "      <td>1.0</td>\n",
       "      <td>2.0</td>\n",
       "      <td>0.3</td>\n",
       "      <td>2.0</td>\n",
       "      <td>8.0</td>\n",
       "    </tr>\n",
       "    <tr>\n",
       "      <th>4</th>\n",
       "      <td>91.0</td>\n",
       "      <td>160.457330</td>\n",
       "      <td>30.0</td>\n",
       "      <td>33.792804</td>\n",
       "      <td>100.7</td>\n",
       "      <td>8.966009</td>\n",
       "      <td>0.722666</td>\n",
       "      <td>0.682925</td>\n",
       "      <td>312.266760</td>\n",
       "      <td>10330.283306</td>\n",
       "      <td>...</td>\n",
       "      <td>13.8</td>\n",
       "      <td>96.0</td>\n",
       "      <td>195.0</td>\n",
       "      <td>5.0</td>\n",
       "      <td>5.0</td>\n",
       "      <td>8.0</td>\n",
       "      <td>1.0</td>\n",
       "      <td>0.4</td>\n",
       "      <td>4.0</td>\n",
       "      <td>8.0</td>\n",
       "    </tr>\n",
       "    <tr>\n",
       "      <th>5</th>\n",
       "      <td>60.1</td>\n",
       "      <td>0.560718</td>\n",
       "      <td>70.0</td>\n",
       "      <td>26.675532</td>\n",
       "      <td>96.6</td>\n",
       "      <td>0.998063</td>\n",
       "      <td>0.108687</td>\n",
       "      <td>0.043766</td>\n",
       "      <td>19.642663</td>\n",
       "      <td>17.056209</td>\n",
       "      <td>...</td>\n",
       "      <td>26.9</td>\n",
       "      <td>102.0</td>\n",
       "      <td>207.0</td>\n",
       "      <td>2.0</td>\n",
       "      <td>2.0</td>\n",
       "      <td>8.0</td>\n",
       "      <td>5.0</td>\n",
       "      <td>0.3</td>\n",
       "      <td>8.0</td>\n",
       "      <td>8.0</td>\n",
       "    </tr>\n",
       "    <tr>\n",
       "      <th>6</th>\n",
       "      <td>56.7</td>\n",
       "      <td>99.117880</td>\n",
       "      <td>41.0</td>\n",
       "      <td>27.496295</td>\n",
       "      <td>83.0</td>\n",
       "      <td>16.572288</td>\n",
       "      <td>1.004673</td>\n",
       "      <td>1.137287</td>\n",
       "      <td>331.439696</td>\n",
       "      <td>5227.723890</td>\n",
       "      <td>...</td>\n",
       "      <td>17.9</td>\n",
       "      <td>74.0</td>\n",
       "      <td>130.0</td>\n",
       "      <td>5.0</td>\n",
       "      <td>5.0</td>\n",
       "      <td>8.0</td>\n",
       "      <td>1.0</td>\n",
       "      <td>0.3</td>\n",
       "      <td>8.0</td>\n",
       "      <td>8.0</td>\n",
       "    </tr>\n",
       "    <tr>\n",
       "      <th>7</th>\n",
       "      <td>50.7</td>\n",
       "      <td>39.229149</td>\n",
       "      <td>54.0</td>\n",
       "      <td>21.573651</td>\n",
       "      <td>76.0</td>\n",
       "      <td>6.366494</td>\n",
       "      <td>0.821524</td>\n",
       "      <td>0.397352</td>\n",
       "      <td>239.383662</td>\n",
       "      <td>335.698035</td>\n",
       "      <td>...</td>\n",
       "      <td>12.1</td>\n",
       "      <td>175.0</td>\n",
       "      <td>266.0</td>\n",
       "      <td>2.0</td>\n",
       "      <td>2.0</td>\n",
       "      <td>8.0</td>\n",
       "      <td>2.0</td>\n",
       "      <td>0.4</td>\n",
       "      <td>4.0</td>\n",
       "      <td>8.0</td>\n",
       "    </tr>\n",
       "    <tr>\n",
       "      <th>8</th>\n",
       "      <td>68.3</td>\n",
       "      <td>60.960609</td>\n",
       "      <td>21.0</td>\n",
       "      <td>25.117672</td>\n",
       "      <td>84.3</td>\n",
       "      <td>5.660753</td>\n",
       "      <td>0.558477</td>\n",
       "      <td>0.597908</td>\n",
       "      <td>409.751881</td>\n",
       "      <td>788.574381</td>\n",
       "      <td>...</td>\n",
       "      <td>14.3</td>\n",
       "      <td>49.0</td>\n",
       "      <td>202.0</td>\n",
       "      <td>4.0</td>\n",
       "      <td>3.0</td>\n",
       "      <td>4.0</td>\n",
       "      <td>2.0</td>\n",
       "      <td>0.4</td>\n",
       "      <td>4.0</td>\n",
       "      <td>8.0</td>\n",
       "    </tr>\n",
       "    <tr>\n",
       "      <th>9</th>\n",
       "      <td>57.6</td>\n",
       "      <td>149.761943</td>\n",
       "      <td>64.0</td>\n",
       "      <td>25.806035</td>\n",
       "      <td>90.2</td>\n",
       "      <td>16.816691</td>\n",
       "      <td>2.687990</td>\n",
       "      <td>2.051522</td>\n",
       "      <td>671.774181</td>\n",
       "      <td>12941.982092</td>\n",
       "      <td>...</td>\n",
       "      <td>14.3</td>\n",
       "      <td>162.0</td>\n",
       "      <td>272.0</td>\n",
       "      <td>5.0</td>\n",
       "      <td>4.0</td>\n",
       "      <td>8.0</td>\n",
       "      <td>2.0</td>\n",
       "      <td>0.4</td>\n",
       "      <td>4.0</td>\n",
       "      <td>1.0</td>\n",
       "    </tr>\n",
       "  </tbody>\n",
       "</table>\n",
       "<p>10 rows × 74 columns</p>\n",
       "</div>"
      ],
      "text/plain": [
       "   HE_wt      N_VITC   age     HE_BMI  HE_wc       N_FE      N_B1      N_B2  \\\n",
       "0   56.5   28.144062  38.0  22.070312   78.0   9.906326  2.129463  1.162732   \n",
       "1   63.7   14.517030  20.0  20.401699   75.0  14.080673  0.560153  0.483796   \n",
       "2   63.0  138.550033  23.0  21.494781   74.5  21.453717  2.670493  2.015267   \n",
       "3   54.9  103.136254  37.0  20.337484   72.4  54.075376  1.028786  0.601815   \n",
       "4   91.0  160.457330  30.0  33.792804  100.7   8.966009  0.722666  0.682925   \n",
       "5   60.1    0.560718  70.0  26.675532   96.6   0.998063  0.108687  0.043766   \n",
       "6   56.7   99.117880  41.0  27.496295   83.0  16.572288  1.004673  1.137287   \n",
       "7   50.7   39.229149  54.0  21.573651   76.0   6.366494  0.821524  0.397352   \n",
       "8   68.3   60.960609  21.0  25.117672   84.3   5.660753  0.558477  0.597908   \n",
       "9   57.6  149.761943  64.0  25.806035   90.2  16.816691  2.687990  2.051522   \n",
       "\n",
       "         N_CA       N_CAROT   ...    HE_BUN  HE_TG  HE_chol  BM8  BM7  BE3_31  \\\n",
       "0  354.696362   2123.850327   ...      10.2   66.0    186.0  2.0  2.0     8.0   \n",
       "1  640.070701    286.469587   ...      13.3   94.0    139.0  3.0  3.0     6.0   \n",
       "2  595.618808   8277.230522   ...       6.7  215.0    175.0  5.0  2.0     8.0   \n",
       "3  451.542912   4011.061803   ...      14.7   49.0    160.0  5.0  4.0     1.0   \n",
       "4  312.266760  10330.283306   ...      13.8   96.0    195.0  5.0  5.0     8.0   \n",
       "5   19.642663     17.056209   ...      26.9  102.0    207.0  2.0  2.0     8.0   \n",
       "6  331.439696   5227.723890   ...      17.9   74.0    130.0  5.0  5.0     8.0   \n",
       "7  239.383662    335.698035   ...      12.1  175.0    266.0  2.0  2.0     8.0   \n",
       "8  409.751881    788.574381   ...      14.3   49.0    202.0  4.0  3.0     4.0   \n",
       "9  671.774181  12941.982092   ...      14.3  162.0    272.0  5.0  4.0     8.0   \n",
       "\n",
       "   L_OUT_FQ  HE_HBsAg  BD1_11  DE1_dg  \n",
       "0       4.0       0.3     8.0     8.0  \n",
       "1       3.0       0.3     3.0     8.0  \n",
       "2       1.0       0.4     5.0     8.0  \n",
       "3       2.0       0.3     2.0     8.0  \n",
       "4       1.0       0.4     4.0     8.0  \n",
       "5       5.0       0.3     8.0     8.0  \n",
       "6       1.0       0.3     8.0     8.0  \n",
       "7       2.0       0.4     4.0     8.0  \n",
       "8       2.0       0.4     4.0     8.0  \n",
       "9       2.0       0.4     4.0     1.0  \n",
       "\n",
       "[10 rows x 74 columns]"
      ]
     },
     "execution_count": 12,
     "metadata": {},
     "output_type": "execute_result"
    }
   ],
   "source": [
    "data.head(10)"
   ]
  },
  {
   "cell_type": "code",
   "execution_count": 5,
   "metadata": {},
   "outputs": [],
   "source": [
    "data_x_norm = data_pre.transform(data.iloc[:,data.columns!='DE1_dg'])"
   ]
  },
  {
   "cell_type": "code",
   "execution_count": 6,
   "metadata": {},
   "outputs": [],
   "source": [
    "np.save('data_x_norm', data_x_norm)"
   ]
  },
  {
   "cell_type": "markdown",
   "metadata": {},
   "source": [
    "# begin"
   ]
  },
  {
   "cell_type": "code",
   "execution_count": 1,
   "metadata": {},
   "outputs": [],
   "source": [
    "import tensorflow as tf\n",
    "import numpy as np\n",
    "import matplotlib.pyplot as plt\n",
    "import seaborn as sns\n",
    "import pandas as pd\n",
    "from sklearn.metrics import f1_score\n",
    "from sklearn.model_selection import train_test_split\n",
    "from sklearn.metrics import confusion_matrix"
   ]
  },
  {
   "cell_type": "code",
   "execution_count": 2,
   "metadata": {},
   "outputs": [],
   "source": [
    "# data_x = np.loadtxt('data_x.csv',skiprows=1, delimiter=',')\n",
    "data_x_norm = np.load('data_x_norm.npy')\n",
    "data_y = np.loadtxt('data_y.csv', skiprows=1, delimiter=',')\n"
   ]
  },
  {
   "cell_type": "code",
   "execution_count": 3,
   "metadata": {},
   "outputs": [],
   "source": [
    "data_y = data_y.reshape(-1,1)"
   ]
  },
  {
   "cell_type": "code",
   "execution_count": 4,
   "metadata": {
    "scrolled": true
   },
   "outputs": [
    {
     "name": "stdout",
     "output_type": "stream",
     "text": [
      "(52681, 73)\n",
      "(52681, 1)\n"
     ]
    }
   ],
   "source": [
    "print(data_x_norm.shape)\n",
    "print(data_y.shape)"
   ]
  },
  {
   "cell_type": "code",
   "execution_count": 5,
   "metadata": {},
   "outputs": [],
   "source": [
    "X_train, X_test, y_train, y_test = train_test_split(data_x_norm, data_y, test_size=0.2)"
   ]
  },
  {
   "cell_type": "code",
   "execution_count": 6,
   "metadata": {},
   "outputs": [],
   "source": [
    "X = tf.placeholder(tf.float32, shape=(None, 73))\n",
    "Y = tf.placeholder(tf.float32, shape=(None,1))\n",
    "training = tf.placeholder(tf.bool)"
   ]
  },
  {
   "cell_type": "code",
   "execution_count": 7,
   "metadata": {},
   "outputs": [],
   "source": [
    "#layers\n",
    "L = 5\n",
    "# units\n",
    "units=[X.shape[1] ,250,125,62,31,1]   \n",
    "\n",
    "W1 = tf.get_variable('W1',shape=[units[0],units[1]], initializer= tf.contrib.layers.xavier_initializer())\n",
    "B1 = tf.Variable(tf.random_normal([units[1]]))\n",
    "Z1 = tf.matmul(X,W1)+B1\n",
    "# Z1 = tf.layers.batch_normalization(Z1)\n",
    "A1 = tf.nn.relu(Z1)\n",
    "dropout1 = tf.layers.dropout(A1, rate=0.2, training=training)\n",
    "\n",
    "W2 = tf.get_variable('W2',shape=[ units[1],units[2]], initializer= tf.contrib.layers.variance_scaling_initializer())\n",
    "B2 = tf.Variable(tf.random_normal([units[2]]))\n",
    "Z2 = tf.matmul(A1,W2)+B2\n",
    "Z2 = tf.layers.batch_normalization(Z2)\n",
    "A2 = tf.nn.relu(Z2)\n",
    "dropout2 = tf.layers.dropout(A2, rate=0.2, training=training)\n",
    "\n",
    "W3 = tf.get_variable('W3',shape=[ units[2],units[3]], initializer= tf.contrib.layers.variance_scaling_initializer())\n",
    "B3 = tf.Variable(tf.random_normal([units[3]]))\n",
    "Z3 = tf.matmul(A2,W3)+B3\n",
    "Z3 = tf.layers.batch_normalization(Z3)\n",
    "A3 = tf.nn.relu(Z3)\n",
    "dropout3 = tf.layers.dropout(A3, rate=0.2, training=training)\n",
    "\n",
    "W4 = tf.get_variable('W4',shape=[ units[3],units[4]], initializer= tf.contrib.layers.variance_scaling_initializer())\n",
    "B4 = tf.Variable(tf.random_normal([units[4]]))\n",
    "Z4 = tf.matmul(A3,W4)+B4\n",
    "A4 = tf.nn.relu(Z4)\n",
    "dropout4 = tf.layers.dropout(A4, rate=0.2, training=training)\n",
    "\n",
    "W5 = tf.get_variable('W5', shape = [units[4], units[5]], initializer = tf.contrib.layers.variance_scaling_initializer())\n",
    "B5 = tf.Variable(tf.random_normal([units[5]]))\n",
    "Z5 = tf.matmul(A4,W5)+B5\n",
    "\n",
    "logits = tf.nn.sigmoid(Z5)\n",
    "\n",
    "# cost = tf.reduce_mean(tf.matmul(tf.log(tf.transpose(logits)),Y) + \n",
    "#                                  tf.matmul(tf.log(1-tf.transpose(logits)),(1-Y)))\n",
    "cost = tf.reduce_mean(tf.reduce_sum(tf.nn.sigmoid_cross_entropy_with_logits(labels= Y, logits=Z5)))\n",
    "# cost = -tf.reduce_mean(tf.reduce_sum((Y * tf.log(logits)) + ((1-Y) * tf.log(1-logits))))\n",
    "# cost = -tf.reduce_mean(Y * tf.log(logits) + (1 - Y) * tf.log(1 - logits),axis=0)\n",
    "# cost  = -tf.reduce_mean(tf.reduce_sum(Y * tf.log(logits),axis=1))\n",
    "\n",
    "optimizer = tf.train.AdamOptimizer(0.005).minimize(cost)\n",
    "\n",
    "# predicted = tf.nn.sigmoid(Z5)\n",
    "# correct_pred = tf.equal(tf.round(predicted), Y)\n",
    "# accuracy = tf.reduce_mean(tf.cast(correct_pred, tf.float32))"
   ]
  },
  {
   "cell_type": "code",
   "execution_count": 45,
   "metadata": {
    "scrolled": true
   },
   "outputs": [
    {
     "name": "stdout",
     "output_type": "stream",
     "text": [
      "iter : 0, cost : 19.633949279785156\n",
      "iter : 100, cost : 18.661846160888672\n",
      "iter : 200, cost : 18.58959197998047\n",
      "iter : 300, cost : 11.12685489654541\n",
      "iter : 400, cost : 10.4171142578125\n",
      "iter : 500, cost : 10.12913990020752\n",
      "iter : 600, cost : 10.366851806640625\n",
      "iter : 700, cost : 7.059657573699951\n",
      "iter : 800, cost : 7.055397987365723\n",
      "iter : 900, cost : 7.054274082183838\n",
      "iter : 1000, cost : 7.053788185119629\n",
      "iter : 1100, cost : 7.053477764129639\n",
      "iter : 1200, cost : 7.053239822387695\n",
      "iter : 1300, cost : 7.053056716918945\n",
      "iter : 1400, cost : 7.052919387817383\n"
     ]
    }
   ],
   "source": [
    "\n",
    "# sess = tf.Session()\n",
    "# sess.run(tf.global_variables_initializer())\n",
    "# mini -> 128 ->500\n",
    "mini = 500\n",
    "n_mini = 1500//mini\n",
    "for i in range(1500):\n",
    "    for j in range(n_mini):\n",
    "        c , _ = sess.run([cost, optimizer], \n",
    "                         feed_dict={X: X_train[j * mini : (j+1) * mini], Y: y_train[j * mini : (j+1) * mini],\n",
    "                                   training:True})\n",
    "    c , _ = sess.run([cost, optimizer], \n",
    "                         feed_dict={X: X_train[n_mini * mini :], Y: y_train[n_mini * mini :],\n",
    "                                   training:True})\n",
    "    \n",
    "    if i%100==0:\n",
    "        print('iter : {}, cost : {}'.format(i,c))"
   ]
  },
  {
   "cell_type": "code",
   "execution_count": 50,
   "metadata": {},
   "outputs": [],
   "source": [
    "yhat_test = sess.run(tf.round(tf.nn.sigmoid(Z5)), feed_dict={X:X_test, training:False})"
   ]
  },
  {
   "cell_type": "code",
   "execution_count": 51,
   "metadata": {},
   "outputs": [
    {
     "data": {
      "text/plain": [
       "0.9138274651229003"
      ]
     },
     "execution_count": 51,
     "metadata": {},
     "output_type": "execute_result"
    }
   ],
   "source": [
    "#accuracy\n",
    "np.mean(np.equal(yhat_test,y_test))"
   ]
  },
  {
   "cell_type": "code",
   "execution_count": 52,
   "metadata": {},
   "outputs": [
    {
     "data": {
      "text/plain": [
       "0.33915574963609896"
      ]
     },
     "execution_count": 52,
     "metadata": {},
     "output_type": "execute_result"
    }
   ],
   "source": [
    "#f1 score\n",
    "f1_score(y_test,yhat_test)"
   ]
  },
  {
   "cell_type": "code",
   "execution_count": 53,
   "metadata": {},
   "outputs": [
    {
     "data": {
      "text/plain": [
       "<matplotlib.axes._subplots.AxesSubplot at 0x1a514d9bc50>"
      ]
     },
     "execution_count": 53,
     "metadata": {},
     "output_type": "execute_result"
    },
    {
     "data": {
      "image/png": "[encoded data removed]",
      "text/plain": [
       "<Figure size 432x288 with 2 Axes>"
      ]
     },
     "metadata": {
      "needs_background": "light"
     },
     "output_type": "display_data"
    }
   ],
   "source": [
    "# confusion matrix\n",
    "cm = confusion_matrix(y_test, yhat_test)\n",
    "sns.heatmap(cm,annot=True,fmt=\".3f\", linewidths=.5, square = True, cmap = 'Blues_r')"
   ]
  },
  {
   "cell_type": "code",
   "execution_count": 43,
   "metadata": {},
   "outputs": [
    {
     "data": {
      "text/plain": [
       "'c:/users/nb-0242/jupyter/PHR_DNN'"
      ]
     },
     "execution_count": 43,
     "metadata": {},
     "output_type": "execute_result"
    }
   ],
   "source": [
    "#model save\n",
    "saver = tf.train.Saver()\n",
    "saver.save(sess,'c:/users/nb-0242/jupyter/PHR_DNN')"
   ]
  },
  {
   "cell_type": "code",
   "execution_count": null,
   "metadata": {},
   "outputs": [],
   "source": []
  }
 ],
 "metadata": {
  "kernelspec": {
   "display_name": "Python 3",
   "language": "python",
   "name": "python3"
  },
  "language_info": {
   "codemirror_mode": {
    "name": "ipython",
    "version": 3
   },
   "file_extension": ".py",
   "mimetype": "text/x-python",
   "name": "python",
   "nbconvert_exporter": "python",
   "pygments_lexer": "ipython3",
   "version": "3.5.0"
  }
 },
 "nbformat": 4,
 "nbformat_minor": 2
}
