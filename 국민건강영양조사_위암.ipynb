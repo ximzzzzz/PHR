{
 "cells": [
  {
   "cell_type": "code",
   "execution_count": 2,
   "metadata": {
    "scrolled": true
   },
   "outputs": [],
   "source": [
    "import pandas as pd\n",
    "import numpy as np\n",
    "import seaborn as sns\n",
    "import re"
   ]
  },
  {
   "cell_type": "code",
   "execution_count": 4,
   "metadata": {},
   "outputs": [],
   "source": [
    "data = pd.read_sas('c:/users/nb-0242/desktop/PHR/HN17_ALL.sas7bdat', encoding='latin-1')"
   ]
  },
  {
   "cell_type": "markdown",
   "metadata": {},
   "source": [
    "# 전처리"
   ]
  },
  {
   "cell_type": "markdown",
   "metadata": {},
   "source": [
    "<h3> 가중치 관련 변수 제거"
   ]
  },
  {
   "cell_type": "code",
   "execution_count": 8,
   "metadata": {},
   "outputs": [
    {
     "data": {
      "text/plain": [
       "['wt_hs',\n",
       " 'wt_itvex',\n",
       " 'wt_pft',\n",
       " 'wt_hm',\n",
       " 'wt_ex1',\n",
       " 'wt_ntr',\n",
       " 'wt_tot',\n",
       " 'wt_pfhm',\n",
       " 'wt_pfnt',\n",
       " 'wt_hmnt',\n",
       " 'wt_pfhmnt',\n",
       " 'wt_ex1nt',\n",
       " 'wt_ex1hm',\n",
       " 'wt_ex1pf',\n",
       " 'wt_tot1',\n",
       " 'wt_ex1pfnt',\n",
       " 'wt_ex1hmnt',\n",
       " 'wt_tot1nt']"
      ]
     },
     "execution_count": 8,
     "metadata": {},
     "output_type": "execute_result"
    }
   ],
   "source": [
    "r = re.compile('^wt_*')\n",
    "wt_var = list(filter(r.match, data.columns))\n",
    "wt_var"
   ]
  },
  {
   "cell_type": "code",
   "execution_count": 9,
   "metadata": {},
   "outputs": [],
   "source": [
    "train_data = data.iloc[:, ~data.columns.isin(wt_var)]"
   ]
  },
  {
   "cell_type": "markdown",
   "metadata": {},
   "source": [
    "<h3> 결측치가 1000개 이상인 변수 제거하기"
   ]
  },
  {
   "cell_type": "code",
   "execution_count": 113,
   "metadata": {},
   "outputs": [],
   "source": [
    "train_data_ = train_data.iloc[:, train_data.isnull().sum().values < 1000]"
   ]
  },
  {
   "cell_type": "code",
   "execution_count": 14,
   "metadata": {},
   "outputs": [
    {
     "data": {
      "text/plain": [
       "964"
      ]
     },
     "execution_count": 14,
     "metadata": {},
     "output_type": "execute_result"
    }
   ],
   "source": [
    "max(train_data_.isnull().sum())"
   ]
  },
  {
   "cell_type": "code",
   "execution_count": 26,
   "metadata": {},
   "outputs": [
    {
     "data": {
      "text/plain": [
       "(8127, 496)"
      ]
     },
     "execution_count": 26,
     "metadata": {},
     "output_type": "execute_result"
    }
   ],
   "source": [
    "train_data_.shape"
   ]
  },
  {
   "cell_type": "code",
   "execution_count": 25,
   "metadata": {
    "scrolled": true
   },
   "outputs": [
    {
     "data": {
      "text/plain": [
       "incm           28\n",
       "ho_incm        28\n",
       "incm5          28\n",
       "ho_incm5       28\n",
       "edu           798\n",
       "ainc           28\n",
       "D_1_1         428\n",
       "D_2_1         428\n",
       "D_2_wk        428\n",
       "DI1_dg        428\n",
       "DI1_ag        428\n",
       "DI1_pr        428\n",
       "DI1_pt        428\n",
       "DI1_2         428\n",
       "DI2_dg        428\n",
       "DI2_ag        428\n",
       "DI2_pr        428\n",
       "DI2_pt        428\n",
       "DI2_2         428\n",
       "DI3_dg        428\n",
       "DI3_ag        428\n",
       "DI3_pr        428\n",
       "DI3_pt        428\n",
       "DI3_2         428\n",
       "DI4_dg        766\n",
       "DI4_pr        766\n",
       "DI4_pt        766\n",
       "DI5_dg        428\n",
       "DI5_ag        428\n",
       "DI5_pr        428\n",
       "             ... \n",
       "N_DAY         964\n",
       "N_INTK        960\n",
       "N_EN          960\n",
       "N_WATER       960\n",
       "N_PROT        960\n",
       "N_FAT         960\n",
       "N_SFA         960\n",
       "N_MUFA        960\n",
       "N_PUFA        960\n",
       "N_N3          960\n",
       "N_N6          960\n",
       "N_CHOL        960\n",
       "N_CHO         960\n",
       "N_TDF         960\n",
       "N_CA          960\n",
       "N_PHOS        960\n",
       "N_FE          960\n",
       "N_NA          960\n",
       "N_K           960\n",
       "N_VA          960\n",
       "N_VA_RAE      960\n",
       "N_CAROT       960\n",
       "N_RETIN       960\n",
       "N_B1          960\n",
       "N_B2          960\n",
       "N_NIAC        960\n",
       "N_VITC        960\n",
       "LF_secur_y    961\n",
       "LF_BUYER      959\n",
       "LF_safe       959\n",
       "Length: 473, dtype: int64"
      ]
     },
     "execution_count": 25,
     "metadata": {},
     "output_type": "execute_result"
    }
   ],
   "source": [
    "train_data_.iloc[:, train_data_.isnull().sum().values >1].isnull().sum()"
   ]
  },
  {
   "cell_type": "code",
   "execution_count": 114,
   "metadata": {},
   "outputs": [
    {
     "name": "stderr",
     "output_type": "stream",
     "text": [
      "c:\\users\\nb-0242\\anaconda3\\envs\\ximz\\lib\\site-packages\\ipykernel_launcher.py:1: SettingWithCopyWarning: \n",
      "A value is trying to be set on a copy of a slice from a DataFrame\n",
      "\n",
      "See the caveats in the documentation: http://pandas.pydata.org/pandas-docs/stable/indexing.html#indexing-view-versus-copy\n",
      "  \"\"\"Entry point for launching an IPython kernel.\n"
     ]
    }
   ],
   "source": [
    "train_data_.dropna(axis=0, inplace= True)"
   ]
  },
  {
   "cell_type": "code",
   "execution_count": 115,
   "metadata": {
    "scrolled": true
   },
   "outputs": [
    {
     "data": {
      "text/plain": [
       "(6400, 496)"
      ]
     },
     "execution_count": 115,
     "metadata": {},
     "output_type": "execute_result"
    }
   ],
   "source": [
    "train_data_.shape"
   ]
  },
  {
   "cell_type": "code",
   "execution_count": 116,
   "metadata": {},
   "outputs": [
    {
     "name": "stdout",
     "output_type": "stream",
     "text": [
      "(6400, 496)\n"
     ]
    },
    {
     "data": {
      "text/html": [
       "<div>\n",
       "<style scoped>\n",
       "    .dataframe tbody tr th:only-of-type {\n",
       "        vertical-align: middle;\n",
       "    }\n",
       "\n",
       "    .dataframe tbody tr th {\n",
       "        vertical-align: top;\n",
       "    }\n",
       "\n",
       "    .dataframe thead th {\n",
       "        text-align: right;\n",
       "    }\n",
       "</style>\n",
       "<table border=\"1\" class=\"dataframe\">\n",
       "  <thead>\n",
       "    <tr style=\"text-align: right;\">\n",
       "      <th></th>\n",
       "      <th>mod_d</th>\n",
       "      <th>ID</th>\n",
       "      <th>ID_fam</th>\n",
       "      <th>year</th>\n",
       "      <th>region</th>\n",
       "      <th>town_t</th>\n",
       "      <th>apt_t</th>\n",
       "      <th>psu</th>\n",
       "      <th>sex</th>\n",
       "      <th>age</th>\n",
       "      <th>...</th>\n",
       "      <th>N_VA_RAE</th>\n",
       "      <th>N_CAROT</th>\n",
       "      <th>N_RETIN</th>\n",
       "      <th>N_B1</th>\n",
       "      <th>N_B2</th>\n",
       "      <th>N_NIAC</th>\n",
       "      <th>N_VITC</th>\n",
       "      <th>LF_secur_y</th>\n",
       "      <th>LF_BUYER</th>\n",
       "      <th>LF_safe</th>\n",
       "    </tr>\n",
       "  </thead>\n",
       "  <tbody>\n",
       "    <tr>\n",
       "      <th>0</th>\n",
       "      <td>2019.01.16.</td>\n",
       "      <td>A601169401</td>\n",
       "      <td>A6011694</td>\n",
       "      <td>2017.0</td>\n",
       "      <td>1.0</td>\n",
       "      <td>1.0</td>\n",
       "      <td>1.0</td>\n",
       "      <td>A601</td>\n",
       "      <td>1.0</td>\n",
       "      <td>76.0</td>\n",
       "      <td>...</td>\n",
       "      <td>107.968989</td>\n",
       "      <td>759.925836</td>\n",
       "      <td>44.641836</td>\n",
       "      <td>1.148658</td>\n",
       "      <td>0.883505</td>\n",
       "      <td>8.357358</td>\n",
       "      <td>33.239210</td>\n",
       "      <td>1.0</td>\n",
       "      <td>1.0</td>\n",
       "      <td>2.0</td>\n",
       "    </tr>\n",
       "    <tr>\n",
       "      <th>1</th>\n",
       "      <td>2019.01.16.</td>\n",
       "      <td>A601177901</td>\n",
       "      <td>A6011779</td>\n",
       "      <td>2017.0</td>\n",
       "      <td>1.0</td>\n",
       "      <td>1.0</td>\n",
       "      <td>1.0</td>\n",
       "      <td>A601</td>\n",
       "      <td>1.0</td>\n",
       "      <td>39.0</td>\n",
       "      <td>...</td>\n",
       "      <td>258.086652</td>\n",
       "      <td>2716.612108</td>\n",
       "      <td>31.702310</td>\n",
       "      <td>2.037906</td>\n",
       "      <td>1.542775</td>\n",
       "      <td>20.282287</td>\n",
       "      <td>64.621705</td>\n",
       "      <td>1.0</td>\n",
       "      <td>1.0</td>\n",
       "      <td>1.0</td>\n",
       "    </tr>\n",
       "    <tr>\n",
       "      <th>2</th>\n",
       "      <td>2019.01.16.</td>\n",
       "      <td>A601177902</td>\n",
       "      <td>A6011779</td>\n",
       "      <td>2017.0</td>\n",
       "      <td>1.0</td>\n",
       "      <td>1.0</td>\n",
       "      <td>1.0</td>\n",
       "      <td>A601</td>\n",
       "      <td>2.0</td>\n",
       "      <td>35.0</td>\n",
       "      <td>...</td>\n",
       "      <td>163.987809</td>\n",
       "      <td>1572.307650</td>\n",
       "      <td>32.962171</td>\n",
       "      <td>1.042056</td>\n",
       "      <td>0.940837</td>\n",
       "      <td>15.316899</td>\n",
       "      <td>53.504714</td>\n",
       "      <td>1.0</td>\n",
       "      <td>1.0</td>\n",
       "      <td>1.0</td>\n",
       "    </tr>\n",
       "    <tr>\n",
       "      <th>3</th>\n",
       "      <td>2019.01.16.</td>\n",
       "      <td>A601177903</td>\n",
       "      <td>A6011779</td>\n",
       "      <td>2017.0</td>\n",
       "      <td>1.0</td>\n",
       "      <td>1.0</td>\n",
       "      <td>1.0</td>\n",
       "      <td>A601</td>\n",
       "      <td>1.0</td>\n",
       "      <td>1.0</td>\n",
       "      <td>...</td>\n",
       "      <td>419.057128</td>\n",
       "      <td>903.445531</td>\n",
       "      <td>343.770000</td>\n",
       "      <td>0.514549</td>\n",
       "      <td>1.266080</td>\n",
       "      <td>4.822195</td>\n",
       "      <td>91.302935</td>\n",
       "      <td>1.0</td>\n",
       "      <td>1.0</td>\n",
       "      <td>1.0</td>\n",
       "    </tr>\n",
       "    <tr>\n",
       "      <th>4</th>\n",
       "      <td>2019.01.16.</td>\n",
       "      <td>A601208501</td>\n",
       "      <td>A6012085</td>\n",
       "      <td>2017.0</td>\n",
       "      <td>1.0</td>\n",
       "      <td>1.0</td>\n",
       "      <td>1.0</td>\n",
       "      <td>A601</td>\n",
       "      <td>1.0</td>\n",
       "      <td>71.0</td>\n",
       "      <td>...</td>\n",
       "      <td>369.152154</td>\n",
       "      <td>1621.345842</td>\n",
       "      <td>234.040000</td>\n",
       "      <td>1.485135</td>\n",
       "      <td>1.622947</td>\n",
       "      <td>15.722913</td>\n",
       "      <td>20.956242</td>\n",
       "      <td>1.0</td>\n",
       "      <td>1.0</td>\n",
       "      <td>2.0</td>\n",
       "    </tr>\n",
       "  </tbody>\n",
       "</table>\n",
       "<p>5 rows × 496 columns</p>\n",
       "</div>"
      ],
      "text/plain": [
       "         mod_d          ID    ID_fam    year  region  town_t  apt_t   psu  \\\n",
       "0  2019.01.16.  A601169401  A6011694  2017.0     1.0     1.0    1.0  A601   \n",
       "1  2019.01.16.  A601177901  A6011779  2017.0     1.0     1.0    1.0  A601   \n",
       "2  2019.01.16.  A601177902  A6011779  2017.0     1.0     1.0    1.0  A601   \n",
       "3  2019.01.16.  A601177903  A6011779  2017.0     1.0     1.0    1.0  A601   \n",
       "4  2019.01.16.  A601208501  A6012085  2017.0     1.0     1.0    1.0  A601   \n",
       "\n",
       "   sex   age   ...       N_VA_RAE      N_CAROT     N_RETIN      N_B1  \\\n",
       "0  1.0  76.0   ...     107.968989   759.925836   44.641836  1.148658   \n",
       "1  1.0  39.0   ...     258.086652  2716.612108   31.702310  2.037906   \n",
       "2  2.0  35.0   ...     163.987809  1572.307650   32.962171  1.042056   \n",
       "3  1.0   1.0   ...     419.057128   903.445531  343.770000  0.514549   \n",
       "4  1.0  71.0   ...     369.152154  1621.345842  234.040000  1.485135   \n",
       "\n",
       "       N_B2     N_NIAC     N_VITC  LF_secur_y  LF_BUYER  LF_safe  \n",
       "0  0.883505   8.357358  33.239210         1.0       1.0      2.0  \n",
       "1  1.542775  20.282287  64.621705         1.0       1.0      1.0  \n",
       "2  0.940837  15.316899  53.504714         1.0       1.0      1.0  \n",
       "3  1.266080   4.822195  91.302935         1.0       1.0      1.0  \n",
       "4  1.622947  15.722913  20.956242         1.0       1.0      2.0  \n",
       "\n",
       "[5 rows x 496 columns]"
      ]
     },
     "execution_count": 116,
     "metadata": {},
     "output_type": "execute_result"
    }
   ],
   "source": [
    "train_data_.reset_index(inplace=True, drop=True)\n",
    "print(train_data_.shape)\n",
    "train_data_.head()"
   ]
  },
  {
   "cell_type": "markdown",
   "metadata": {},
   "source": [
    "# MODELING"
   ]
  },
  {
   "cell_type": "code",
   "execution_count": 37,
   "metadata": {},
   "outputs": [],
   "source": [
    "from sklearn.ensemble import RandomForestClassifier\n",
    "import sklearn"
   ]
  },
  {
   "cell_type": "code",
   "execution_count": 38,
   "metadata": {},
   "outputs": [],
   "source": [
    "wi_var = ['DC1_dg', 'DC1_ag', 'DC1_pr', 'DC1_pt']"
   ]
  },
  {
   "cell_type": "code",
   "execution_count": 83,
   "metadata": {},
   "outputs": [],
   "source": [
    "idx = np.random.choice(np.arange(0,6400),size=int(len(train_data_)*0.8), replace=False)"
   ]
  },
  {
   "cell_type": "code",
   "execution_count": 117,
   "metadata": {},
   "outputs": [],
   "source": [
    "del train_data_['N_DAY']"
   ]
  },
  {
   "cell_type": "code",
   "execution_count": 110,
   "metadata": {},
   "outputs": [],
   "source": [
    "bad_df = train_data_.index.isin(idx)"
   ]
  },
  {
   "cell_type": "code",
   "execution_count": 118,
   "metadata": {
    "scrolled": true
   },
   "outputs": [],
   "source": [
    "train_ = train_data_[bad_df]\n",
    "test_ = train_data_[~bad_df]"
   ]
  },
  {
   "cell_type": "code",
   "execution_count": 127,
   "metadata": {},
   "outputs": [],
   "source": [
    "train_x = train_.iloc[:,~train_.columns.isin(wi_var)].iloc[:,4:]\n",
    "train_y = train_['DC1_dg']\n",
    "test_x = test_.iloc[:,~test_.columns.isin(wi_var)].iloc[:,4:]\n",
    "test_y = test_['DC1_dg']"
   ]
  },
  {
   "cell_type": "code",
   "execution_count": 128,
   "metadata": {},
   "outputs": [],
   "source": [
    "#조사구번호를 일단 지우기\n",
    "len(set(train_['psu']))\n",
    "del train_x['psu']\n",
    "del test_x['psu']"
   ]
  },
  {
   "cell_type": "code",
   "execution_count": 129,
   "metadata": {},
   "outputs": [
    {
     "data": {
      "text/html": [
       "<div>\n",
       "<style scoped>\n",
       "    .dataframe tbody tr th:only-of-type {\n",
       "        vertical-align: middle;\n",
       "    }\n",
       "\n",
       "    .dataframe tbody tr th {\n",
       "        vertical-align: top;\n",
       "    }\n",
       "\n",
       "    .dataframe thead th {\n",
       "        text-align: right;\n",
       "    }\n",
       "</style>\n",
       "<table border=\"1\" class=\"dataframe\">\n",
       "  <thead>\n",
       "    <tr style=\"text-align: right;\">\n",
       "      <th></th>\n",
       "      <th>region</th>\n",
       "      <th>town_t</th>\n",
       "      <th>apt_t</th>\n",
       "      <th>sex</th>\n",
       "      <th>age</th>\n",
       "      <th>incm</th>\n",
       "      <th>ho_incm</th>\n",
       "      <th>incm5</th>\n",
       "      <th>ho_incm5</th>\n",
       "      <th>edu</th>\n",
       "      <th>...</th>\n",
       "      <th>N_VA_RAE</th>\n",
       "      <th>N_CAROT</th>\n",
       "      <th>N_RETIN</th>\n",
       "      <th>N_B1</th>\n",
       "      <th>N_B2</th>\n",
       "      <th>N_NIAC</th>\n",
       "      <th>N_VITC</th>\n",
       "      <th>LF_secur_y</th>\n",
       "      <th>LF_BUYER</th>\n",
       "      <th>LF_safe</th>\n",
       "    </tr>\n",
       "  </thead>\n",
       "  <tbody>\n",
       "    <tr>\n",
       "      <th>0</th>\n",
       "      <td>1.0</td>\n",
       "      <td>1.0</td>\n",
       "      <td>1.0</td>\n",
       "      <td>1.0</td>\n",
       "      <td>76.0</td>\n",
       "      <td>3.0</td>\n",
       "      <td>1.0</td>\n",
       "      <td>3.0</td>\n",
       "      <td>2.0</td>\n",
       "      <td>3.0</td>\n",
       "      <td>...</td>\n",
       "      <td>107.968989</td>\n",
       "      <td>759.925836</td>\n",
       "      <td>44.641836</td>\n",
       "      <td>1.148658</td>\n",
       "      <td>0.883505</td>\n",
       "      <td>8.357358</td>\n",
       "      <td>33.239210</td>\n",
       "      <td>1.0</td>\n",
       "      <td>1.0</td>\n",
       "      <td>2.0</td>\n",
       "    </tr>\n",
       "    <tr>\n",
       "      <th>1</th>\n",
       "      <td>1.0</td>\n",
       "      <td>1.0</td>\n",
       "      <td>1.0</td>\n",
       "      <td>1.0</td>\n",
       "      <td>39.0</td>\n",
       "      <td>1.0</td>\n",
       "      <td>2.0</td>\n",
       "      <td>2.0</td>\n",
       "      <td>3.0</td>\n",
       "      <td>3.0</td>\n",
       "      <td>...</td>\n",
       "      <td>258.086652</td>\n",
       "      <td>2716.612108</td>\n",
       "      <td>31.702310</td>\n",
       "      <td>2.037906</td>\n",
       "      <td>1.542775</td>\n",
       "      <td>20.282287</td>\n",
       "      <td>64.621705</td>\n",
       "      <td>1.0</td>\n",
       "      <td>1.0</td>\n",
       "      <td>1.0</td>\n",
       "    </tr>\n",
       "    <tr>\n",
       "      <th>2</th>\n",
       "      <td>1.0</td>\n",
       "      <td>1.0</td>\n",
       "      <td>1.0</td>\n",
       "      <td>2.0</td>\n",
       "      <td>35.0</td>\n",
       "      <td>1.0</td>\n",
       "      <td>2.0</td>\n",
       "      <td>2.0</td>\n",
       "      <td>3.0</td>\n",
       "      <td>4.0</td>\n",
       "      <td>...</td>\n",
       "      <td>163.987809</td>\n",
       "      <td>1572.307650</td>\n",
       "      <td>32.962171</td>\n",
       "      <td>1.042056</td>\n",
       "      <td>0.940837</td>\n",
       "      <td>15.316899</td>\n",
       "      <td>53.504714</td>\n",
       "      <td>1.0</td>\n",
       "      <td>1.0</td>\n",
       "      <td>1.0</td>\n",
       "    </tr>\n",
       "    <tr>\n",
       "      <th>3</th>\n",
       "      <td>1.0</td>\n",
       "      <td>1.0</td>\n",
       "      <td>1.0</td>\n",
       "      <td>1.0</td>\n",
       "      <td>1.0</td>\n",
       "      <td>2.0</td>\n",
       "      <td>2.0</td>\n",
       "      <td>2.0</td>\n",
       "      <td>3.0</td>\n",
       "      <td>1.0</td>\n",
       "      <td>...</td>\n",
       "      <td>419.057128</td>\n",
       "      <td>903.445531</td>\n",
       "      <td>343.770000</td>\n",
       "      <td>0.514549</td>\n",
       "      <td>1.266080</td>\n",
       "      <td>4.822195</td>\n",
       "      <td>91.302935</td>\n",
       "      <td>1.0</td>\n",
       "      <td>1.0</td>\n",
       "      <td>1.0</td>\n",
       "    </tr>\n",
       "    <tr>\n",
       "      <th>4</th>\n",
       "      <td>1.0</td>\n",
       "      <td>1.0</td>\n",
       "      <td>1.0</td>\n",
       "      <td>1.0</td>\n",
       "      <td>71.0</td>\n",
       "      <td>2.0</td>\n",
       "      <td>2.0</td>\n",
       "      <td>3.0</td>\n",
       "      <td>2.0</td>\n",
       "      <td>1.0</td>\n",
       "      <td>...</td>\n",
       "      <td>369.152154</td>\n",
       "      <td>1621.345842</td>\n",
       "      <td>234.040000</td>\n",
       "      <td>1.485135</td>\n",
       "      <td>1.622947</td>\n",
       "      <td>15.722913</td>\n",
       "      <td>20.956242</td>\n",
       "      <td>1.0</td>\n",
       "      <td>1.0</td>\n",
       "      <td>2.0</td>\n",
       "    </tr>\n",
       "  </tbody>\n",
       "</table>\n",
       "<p>5 rows × 486 columns</p>\n",
       "</div>"
      ],
      "text/plain": [
       "   region  town_t  apt_t  sex   age  incm  ho_incm  incm5  ho_incm5  edu  \\\n",
       "0     1.0     1.0    1.0  1.0  76.0   3.0      1.0    3.0       2.0  3.0   \n",
       "1     1.0     1.0    1.0  1.0  39.0   1.0      2.0    2.0       3.0  3.0   \n",
       "2     1.0     1.0    1.0  2.0  35.0   1.0      2.0    2.0       3.0  4.0   \n",
       "3     1.0     1.0    1.0  1.0   1.0   2.0      2.0    2.0       3.0  1.0   \n",
       "4     1.0     1.0    1.0  1.0  71.0   2.0      2.0    3.0       2.0  1.0   \n",
       "\n",
       "    ...       N_VA_RAE      N_CAROT     N_RETIN      N_B1      N_B2  \\\n",
       "0   ...     107.968989   759.925836   44.641836  1.148658  0.883505   \n",
       "1   ...     258.086652  2716.612108   31.702310  2.037906  1.542775   \n",
       "2   ...     163.987809  1572.307650   32.962171  1.042056  0.940837   \n",
       "3   ...     419.057128   903.445531  343.770000  0.514549  1.266080   \n",
       "4   ...     369.152154  1621.345842  234.040000  1.485135  1.622947   \n",
       "\n",
       "      N_NIAC     N_VITC  LF_secur_y  LF_BUYER  LF_safe  \n",
       "0   8.357358  33.239210         1.0       1.0      2.0  \n",
       "1  20.282287  64.621705         1.0       1.0      1.0  \n",
       "2  15.316899  53.504714         1.0       1.0      1.0  \n",
       "3   4.822195  91.302935         1.0       1.0      1.0  \n",
       "4  15.722913  20.956242         1.0       1.0      2.0  \n",
       "\n",
       "[5 rows x 486 columns]"
      ]
     },
     "execution_count": 129,
     "metadata": {},
     "output_type": "execute_result"
    }
   ],
   "source": [
    "train_x.head()"
   ]
  },
  {
   "cell_type": "code",
   "execution_count": 98,
   "metadata": {},
   "outputs": [],
   "source": [
    "rf = RandomForestClassifier(n_jobs=-1, )"
   ]
  },
  {
   "cell_type": "code",
   "execution_count": 130,
   "metadata": {},
   "outputs": [
    {
     "data": {
      "text/plain": [
       "RandomForestClassifier(bootstrap=True, class_weight=None, criterion='gini',\n",
       "            max_depth=None, max_features='auto', max_leaf_nodes=None,\n",
       "            min_impurity_decrease=0.0, min_impurity_split=None,\n",
       "            min_samples_leaf=1, min_samples_split=2,\n",
       "            min_weight_fraction_leaf=0.0, n_estimators=10, n_jobs=-1,\n",
       "            oob_score=False, random_state=None, verbose=0,\n",
       "            warm_start=False)"
      ]
     },
     "execution_count": 130,
     "metadata": {},
     "output_type": "execute_result"
    }
   ],
   "source": [
    "rf.fit(train_x, train_y,)"
   ]
  },
  {
   "cell_type": "code",
   "execution_count": 131,
   "metadata": {},
   "outputs": [],
   "source": [
    "test_yhat = rf.predict(test_x)"
   ]
  },
  {
   "cell_type": "code",
   "execution_count": 132,
   "metadata": {},
   "outputs": [
    {
     "data": {
      "text/plain": [
       "0.9921875"
      ]
     },
     "execution_count": 132,
     "metadata": {},
     "output_type": "execute_result"
    }
   ],
   "source": [
    "np.sum(np.equal(test_yhat, test_y.values.reshape(-1,)))/len(test_y)"
   ]
  },
  {
   "cell_type": "code",
   "execution_count": 133,
   "metadata": {},
   "outputs": [
    {
     "data": {
      "text/plain": [
       "array([0., 0., 0., ..., 0., 8., 0.])"
      ]
     },
     "execution_count": 133,
     "metadata": {},
     "output_type": "execute_result"
    }
   ],
   "source": [
    "test_yhat"
   ]
  },
  {
   "cell_type": "code",
   "execution_count": 137,
   "metadata": {},
   "outputs": [],
   "source": [
    "import matplotlib.pyplot as plt"
   ]
  },
  {
   "cell_type": "code",
   "execution_count": 139,
   "metadata": {},
   "outputs": [
    {
     "data": {
      "text/plain": [
       "<matplotlib.axes._subplots.AxesSubplot at 0x256c1a83b38>"
      ]
     },
     "execution_count": 139,
     "metadata": {},
     "output_type": "execute_result"
    },
    {
     "data": {
      "image/png": "[encoded data removed]",
      "text/plain": [
       "<Figure size 1440x1440 with 1 Axes>"
      ]
     },
     "metadata": {
      "needs_background": "light"
     },
     "output_type": "display_data"
    }
   ],
   "source": [
    "plt.figure(figsize=(20,20))\n",
    "feat_importances = pd.Series(rf.feature_importances_, index=test_x.columns)\n",
    "feat_importances.nlargest(30).plot(kind='barh')"
   ]
  },
  {
   "cell_type": "markdown",
   "metadata": {},
   "source": [
    "DM3_dg : 류마티스성 관절염 의사진단 여부\n",
    "BA2_22 : 1년간 음주운전차량: 동승 횟수\n",
    "BS12_36 : 평생사용담배종류: 피운 적 없음\n",
    "DN6_yd : (소아,청소년) 요로감염 의사진단\n",
    "DI4_dg : 심근경색증 또는 협심증 의사진단 여부\n",
    "DK9_dg : c형감염 의사진단 여부\n",
    "LQ_3EQL : 일상활동(지장있음, 없음..)\n",
    "DK8_dg : b형감염 의사진단 여부\n",
    "EC_lgw_2 : (성인)\n",
    "    최장일자리: 표준직업분류 \n",
    "    대분류 코드+실업/비경활 상태\n",
    "  \n"
   ]
  },
  {
   "cell_type": "code",
   "execution_count": null,
   "metadata": {},
   "outputs": [],
   "source": []
  }
 ],
 "metadata": {
  "kernelspec": {
   "display_name": "Python 3",
   "language": "python",
   "name": "python3"
  },
  "language_info": {
   "codemirror_mode": {
    "name": "ipython",
    "version": 3
   },
   "file_extension": ".py",
   "mimetype": "text/x-python",
   "name": "python",
   "nbconvert_exporter": "python",
   "pygments_lexer": "ipython3",
   "version": "3.5.0"
  }
 },
 "nbformat": 4,
 "nbformat_minor": 2
}
