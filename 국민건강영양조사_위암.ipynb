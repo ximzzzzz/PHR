{
 "cells": [
  {
   "cell_type": "code",
   "execution_count": 93,
   "metadata": {
    "scrolled": true
   },
   "outputs": [],
   "source": [
    "import pandas as pd\n",
    "import numpy as np\n",
    "import seaborn as sns\n",
    "import re\n",
    "from sklearn.ensemble import RandomForestClassifier\n",
    "import sklearn\n",
    "import matplotlib.pyplot as plt\n",
    "import sys\n",
    "from sklearn.model_selection import train_test_split"
   ]
  },
  {
   "cell_type": "code",
   "execution_count": 2,
   "metadata": {},
   "outputs": [],
   "source": [
    "data = pd.read_sas('c:/users/nb-0242/desktop/PHR/질병관리본부/HN17_ALL.sas7bdat', encoding='latin-1')"
   ]
  },
  {
   "cell_type": "markdown",
   "metadata": {},
   "source": [
    "# 전처리"
   ]
  },
  {
   "cell_type": "markdown",
   "metadata": {},
   "source": [
    "<h3> 가중치 관련 변수 제거"
   ]
  },
  {
   "cell_type": "code",
   "execution_count": 3,
   "metadata": {},
   "outputs": [
    {
     "data": {
      "text/plain": [
       "['wt_hs',\n",
       " 'wt_itvex',\n",
       " 'wt_pft',\n",
       " 'wt_hm',\n",
       " 'wt_ex1',\n",
       " 'wt_ntr',\n",
       " 'wt_tot',\n",
       " 'wt_pfhm',\n",
       " 'wt_pfnt',\n",
       " 'wt_hmnt',\n",
       " 'wt_pfhmnt',\n",
       " 'wt_ex1nt',\n",
       " 'wt_ex1hm',\n",
       " 'wt_ex1pf',\n",
       " 'wt_tot1',\n",
       " 'wt_ex1pfnt',\n",
       " 'wt_ex1hmnt',\n",
       " 'wt_tot1nt']"
      ]
     },
     "execution_count": 3,
     "metadata": {},
     "output_type": "execute_result"
    }
   ],
   "source": [
    "r = re.compile('^wt_*')\n",
    "wt_var = list(filter(r.match, data.columns))\n",
    "wt_var"
   ]
  },
  {
   "cell_type": "code",
   "execution_count": 4,
   "metadata": {},
   "outputs": [],
   "source": [
    "train_data = data.iloc[:, ~data.columns.isin(wt_var)]"
   ]
  },
  {
   "cell_type": "markdown",
   "metadata": {},
   "source": [
    "<h3> 결측치가 1000개 이상인 변수 제거하기"
   ]
  },
  {
   "cell_type": "code",
   "execution_count": 5,
   "metadata": {},
   "outputs": [],
   "source": [
    "train_data_ = train_data.iloc[:, train_data.isnull().sum().values < 1000]"
   ]
  },
  {
   "cell_type": "code",
   "execution_count": 6,
   "metadata": {},
   "outputs": [
    {
     "data": {
      "text/plain": [
       "964"
      ]
     },
     "execution_count": 6,
     "metadata": {},
     "output_type": "execute_result"
    }
   ],
   "source": [
    "max(train_data_.isnull().sum())"
   ]
  },
  {
   "cell_type": "code",
   "execution_count": 7,
   "metadata": {},
   "outputs": [
    {
     "data": {
      "text/plain": [
       "(8127, 496)"
      ]
     },
     "execution_count": 7,
     "metadata": {},
     "output_type": "execute_result"
    }
   ],
   "source": [
    "train_data_.shape"
   ]
  },
  {
   "cell_type": "code",
   "execution_count": 8,
   "metadata": {
    "scrolled": true
   },
   "outputs": [
    {
     "data": {
      "text/plain": [
       "incm           28\n",
       "ho_incm        28\n",
       "incm5          28\n",
       "ho_incm5       28\n",
       "edu           798\n",
       "ainc           28\n",
       "D_1_1         428\n",
       "D_2_1         428\n",
       "D_2_wk        428\n",
       "DI1_dg        428\n",
       "DI1_ag        428\n",
       "DI1_pr        428\n",
       "DI1_pt        428\n",
       "DI1_2         428\n",
       "DI2_dg        428\n",
       "DI2_ag        428\n",
       "DI2_pr        428\n",
       "DI2_pt        428\n",
       "DI2_2         428\n",
       "DI3_dg        428\n",
       "DI3_ag        428\n",
       "DI3_pr        428\n",
       "DI3_pt        428\n",
       "DI3_2         428\n",
       "DI4_dg        766\n",
       "DI4_pr        766\n",
       "DI4_pt        766\n",
       "DI5_dg        428\n",
       "DI5_ag        428\n",
       "DI5_pr        428\n",
       "             ... \n",
       "N_DAY         964\n",
       "N_INTK        960\n",
       "N_EN          960\n",
       "N_WATER       960\n",
       "N_PROT        960\n",
       "N_FAT         960\n",
       "N_SFA         960\n",
       "N_MUFA        960\n",
       "N_PUFA        960\n",
       "N_N3          960\n",
       "N_N6          960\n",
       "N_CHOL        960\n",
       "N_CHO         960\n",
       "N_TDF         960\n",
       "N_CA          960\n",
       "N_PHOS        960\n",
       "N_FE          960\n",
       "N_NA          960\n",
       "N_K           960\n",
       "N_VA          960\n",
       "N_VA_RAE      960\n",
       "N_CAROT       960\n",
       "N_RETIN       960\n",
       "N_B1          960\n",
       "N_B2          960\n",
       "N_NIAC        960\n",
       "N_VITC        960\n",
       "LF_secur_y    961\n",
       "LF_BUYER      959\n",
       "LF_safe       959\n",
       "Length: 473, dtype: int64"
      ]
     },
     "execution_count": 8,
     "metadata": {},
     "output_type": "execute_result"
    }
   ],
   "source": [
    "train_data_.iloc[:, train_data_.isnull().sum().values >1].isnull().sum()"
   ]
  },
  {
   "cell_type": "markdown",
   "metadata": {},
   "source": [
    "# 결측치 그냥 다 버림;"
   ]
  },
  {
   "cell_type": "code",
   "execution_count": 9,
   "metadata": {},
   "outputs": [
    {
     "name": "stderr",
     "output_type": "stream",
     "text": [
      "c:\\users\\nb-0242\\anaconda3\\envs\\ximz\\lib\\site-packages\\ipykernel_launcher.py:1: SettingWithCopyWarning: \n",
      "A value is trying to be set on a copy of a slice from a DataFrame\n",
      "\n",
      "See the caveats in the documentation: http://pandas.pydata.org/pandas-docs/stable/indexing.html#indexing-view-versus-copy\n",
      "  \"\"\"Entry point for launching an IPython kernel.\n"
     ]
    }
   ],
   "source": [
    "train_data_.dropna(axis=0, inplace= True)"
   ]
  },
  {
   "cell_type": "code",
   "execution_count": 10,
   "metadata": {
    "scrolled": true
   },
   "outputs": [
    {
     "data": {
      "text/plain": [
       "(6400, 496)"
      ]
     },
     "execution_count": 10,
     "metadata": {},
     "output_type": "execute_result"
    }
   ],
   "source": [
    "train_data_.shape"
   ]
  },
  {
   "cell_type": "code",
   "execution_count": 11,
   "metadata": {},
   "outputs": [
    {
     "name": "stdout",
     "output_type": "stream",
     "text": [
      "(6400, 496)\n"
     ]
    },
    {
     "data": {
      "text/html": [
       "<div>\n",
       "<style scoped>\n",
       "    .dataframe tbody tr th:only-of-type {\n",
       "        vertical-align: middle;\n",
       "    }\n",
       "\n",
       "    .dataframe tbody tr th {\n",
       "        vertical-align: top;\n",
       "    }\n",
       "\n",
       "    .dataframe thead th {\n",
       "        text-align: right;\n",
       "    }\n",
       "</style>\n",
       "<table border=\"1\" class=\"dataframe\">\n",
       "  <thead>\n",
       "    <tr style=\"text-align: right;\">\n",
       "      <th></th>\n",
       "      <th>mod_d</th>\n",
       "      <th>ID</th>\n",
       "      <th>ID_fam</th>\n",
       "      <th>year</th>\n",
       "      <th>region</th>\n",
       "      <th>town_t</th>\n",
       "      <th>apt_t</th>\n",
       "      <th>psu</th>\n",
       "      <th>sex</th>\n",
       "      <th>age</th>\n",
       "      <th>...</th>\n",
       "      <th>N_VA_RAE</th>\n",
       "      <th>N_CAROT</th>\n",
       "      <th>N_RETIN</th>\n",
       "      <th>N_B1</th>\n",
       "      <th>N_B2</th>\n",
       "      <th>N_NIAC</th>\n",
       "      <th>N_VITC</th>\n",
       "      <th>LF_secur_y</th>\n",
       "      <th>LF_BUYER</th>\n",
       "      <th>LF_safe</th>\n",
       "    </tr>\n",
       "  </thead>\n",
       "  <tbody>\n",
       "    <tr>\n",
       "      <th>0</th>\n",
       "      <td>2019.01.16.</td>\n",
       "      <td>A601169401</td>\n",
       "      <td>A6011694</td>\n",
       "      <td>2017.0</td>\n",
       "      <td>1.0</td>\n",
       "      <td>1.0</td>\n",
       "      <td>1.0</td>\n",
       "      <td>A601</td>\n",
       "      <td>1.0</td>\n",
       "      <td>76.0</td>\n",
       "      <td>...</td>\n",
       "      <td>107.968989</td>\n",
       "      <td>759.925836</td>\n",
       "      <td>44.641836</td>\n",
       "      <td>1.148658</td>\n",
       "      <td>0.883505</td>\n",
       "      <td>8.357358</td>\n",
       "      <td>33.239210</td>\n",
       "      <td>1.0</td>\n",
       "      <td>1.0</td>\n",
       "      <td>2.0</td>\n",
       "    </tr>\n",
       "    <tr>\n",
       "      <th>1</th>\n",
       "      <td>2019.01.16.</td>\n",
       "      <td>A601177901</td>\n",
       "      <td>A6011779</td>\n",
       "      <td>2017.0</td>\n",
       "      <td>1.0</td>\n",
       "      <td>1.0</td>\n",
       "      <td>1.0</td>\n",
       "      <td>A601</td>\n",
       "      <td>1.0</td>\n",
       "      <td>39.0</td>\n",
       "      <td>...</td>\n",
       "      <td>258.086652</td>\n",
       "      <td>2716.612108</td>\n",
       "      <td>31.702310</td>\n",
       "      <td>2.037906</td>\n",
       "      <td>1.542775</td>\n",
       "      <td>20.282287</td>\n",
       "      <td>64.621705</td>\n",
       "      <td>1.0</td>\n",
       "      <td>1.0</td>\n",
       "      <td>1.0</td>\n",
       "    </tr>\n",
       "    <tr>\n",
       "      <th>2</th>\n",
       "      <td>2019.01.16.</td>\n",
       "      <td>A601177902</td>\n",
       "      <td>A6011779</td>\n",
       "      <td>2017.0</td>\n",
       "      <td>1.0</td>\n",
       "      <td>1.0</td>\n",
       "      <td>1.0</td>\n",
       "      <td>A601</td>\n",
       "      <td>2.0</td>\n",
       "      <td>35.0</td>\n",
       "      <td>...</td>\n",
       "      <td>163.987809</td>\n",
       "      <td>1572.307650</td>\n",
       "      <td>32.962171</td>\n",
       "      <td>1.042056</td>\n",
       "      <td>0.940837</td>\n",
       "      <td>15.316899</td>\n",
       "      <td>53.504714</td>\n",
       "      <td>1.0</td>\n",
       "      <td>1.0</td>\n",
       "      <td>1.0</td>\n",
       "    </tr>\n",
       "    <tr>\n",
       "      <th>3</th>\n",
       "      <td>2019.01.16.</td>\n",
       "      <td>A601177903</td>\n",
       "      <td>A6011779</td>\n",
       "      <td>2017.0</td>\n",
       "      <td>1.0</td>\n",
       "      <td>1.0</td>\n",
       "      <td>1.0</td>\n",
       "      <td>A601</td>\n",
       "      <td>1.0</td>\n",
       "      <td>1.0</td>\n",
       "      <td>...</td>\n",
       "      <td>419.057128</td>\n",
       "      <td>903.445531</td>\n",
       "      <td>343.770000</td>\n",
       "      <td>0.514549</td>\n",
       "      <td>1.266080</td>\n",
       "      <td>4.822195</td>\n",
       "      <td>91.302935</td>\n",
       "      <td>1.0</td>\n",
       "      <td>1.0</td>\n",
       "      <td>1.0</td>\n",
       "    </tr>\n",
       "    <tr>\n",
       "      <th>4</th>\n",
       "      <td>2019.01.16.</td>\n",
       "      <td>A601208501</td>\n",
       "      <td>A6012085</td>\n",
       "      <td>2017.0</td>\n",
       "      <td>1.0</td>\n",
       "      <td>1.0</td>\n",
       "      <td>1.0</td>\n",
       "      <td>A601</td>\n",
       "      <td>1.0</td>\n",
       "      <td>71.0</td>\n",
       "      <td>...</td>\n",
       "      <td>369.152154</td>\n",
       "      <td>1621.345842</td>\n",
       "      <td>234.040000</td>\n",
       "      <td>1.485135</td>\n",
       "      <td>1.622947</td>\n",
       "      <td>15.722913</td>\n",
       "      <td>20.956242</td>\n",
       "      <td>1.0</td>\n",
       "      <td>1.0</td>\n",
       "      <td>2.0</td>\n",
       "    </tr>\n",
       "  </tbody>\n",
       "</table>\n",
       "<p>5 rows × 496 columns</p>\n",
       "</div>"
      ],
      "text/plain": [
       "         mod_d          ID    ID_fam    year  region  town_t  apt_t   psu  \\\n",
       "0  2019.01.16.  A601169401  A6011694  2017.0     1.0     1.0    1.0  A601   \n",
       "1  2019.01.16.  A601177901  A6011779  2017.0     1.0     1.0    1.0  A601   \n",
       "2  2019.01.16.  A601177902  A6011779  2017.0     1.0     1.0    1.0  A601   \n",
       "3  2019.01.16.  A601177903  A6011779  2017.0     1.0     1.0    1.0  A601   \n",
       "4  2019.01.16.  A601208501  A6012085  2017.0     1.0     1.0    1.0  A601   \n",
       "\n",
       "   sex   age   ...       N_VA_RAE      N_CAROT     N_RETIN      N_B1  \\\n",
       "0  1.0  76.0   ...     107.968989   759.925836   44.641836  1.148658   \n",
       "1  1.0  39.0   ...     258.086652  2716.612108   31.702310  2.037906   \n",
       "2  2.0  35.0   ...     163.987809  1572.307650   32.962171  1.042056   \n",
       "3  1.0   1.0   ...     419.057128   903.445531  343.770000  0.514549   \n",
       "4  1.0  71.0   ...     369.152154  1621.345842  234.040000  1.485135   \n",
       "\n",
       "       N_B2     N_NIAC     N_VITC  LF_secur_y  LF_BUYER  LF_safe  \n",
       "0  0.883505   8.357358  33.239210         1.0       1.0      2.0  \n",
       "1  1.542775  20.282287  64.621705         1.0       1.0      1.0  \n",
       "2  0.940837  15.316899  53.504714         1.0       1.0      1.0  \n",
       "3  1.266080   4.822195  91.302935         1.0       1.0      1.0  \n",
       "4  1.622947  15.722913  20.956242         1.0       1.0      2.0  \n",
       "\n",
       "[5 rows x 496 columns]"
      ]
     },
     "execution_count": 11,
     "metadata": {},
     "output_type": "execute_result"
    }
   ],
   "source": [
    "train_data_.reset_index(inplace=True, drop=True)\n",
    "print(train_data_.shape)\n",
    "train_data_.head()"
   ]
  },
  {
   "cell_type": "markdown",
   "metadata": {},
   "source": [
    "# MODELING"
   ]
  },
  {
   "cell_type": "code",
   "execution_count": 3,
   "metadata": {},
   "outputs": [],
   "source": [
    "from sklearn.ensemble import RandomForestClassifier\n",
    "import sklearn"
   ]
  },
  {
   "cell_type": "code",
   "execution_count": 13,
   "metadata": {},
   "outputs": [],
   "source": [
    "wi_var = ['DC1_dg', 'DC1_ag', 'DC1_pr', 'DC1_pt']"
   ]
  },
  {
   "cell_type": "code",
   "execution_count": 14,
   "metadata": {},
   "outputs": [],
   "source": [
    "idx = np.random.choice(np.arange(0,6400),size=int(len(train_data_)*0.8), replace=False)"
   ]
  },
  {
   "cell_type": "code",
   "execution_count": 15,
   "metadata": {},
   "outputs": [],
   "source": [
    "del train_data_['N_DAY']"
   ]
  },
  {
   "cell_type": "code",
   "execution_count": 16,
   "metadata": {},
   "outputs": [],
   "source": [
    "bad_df = train_data_.index.isin(idx)"
   ]
  },
  {
   "cell_type": "code",
   "execution_count": 17,
   "metadata": {
    "scrolled": true
   },
   "outputs": [],
   "source": [
    "train_ = train_data_[bad_df]\n",
    "test_ = train_data_[~bad_df]"
   ]
  },
  {
   "cell_type": "code",
   "execution_count": 18,
   "metadata": {},
   "outputs": [],
   "source": [
    "train_x = train_.iloc[:,~train_.columns.isin(wi_var)].iloc[:,4:]\n",
    "train_y = train_['DC1_dg']\n",
    "test_x = test_.iloc[:,~test_.columns.isin(wi_var)].iloc[:,4:]\n",
    "test_y = test_['DC1_dg']"
   ]
  },
  {
   "cell_type": "code",
   "execution_count": 19,
   "metadata": {},
   "outputs": [],
   "source": [
    "#조사구번호를 일단 지우기\n",
    "len(set(train_['psu']))\n",
    "del train_x['psu']\n",
    "del test_x['psu']"
   ]
  },
  {
   "cell_type": "code",
   "execution_count": 20,
   "metadata": {},
   "outputs": [
    {
     "data": {
      "text/html": [
       "<div>\n",
       "<style scoped>\n",
       "    .dataframe tbody tr th:only-of-type {\n",
       "        vertical-align: middle;\n",
       "    }\n",
       "\n",
       "    .dataframe tbody tr th {\n",
       "        vertical-align: top;\n",
       "    }\n",
       "\n",
       "    .dataframe thead th {\n",
       "        text-align: right;\n",
       "    }\n",
       "</style>\n",
       "<table border=\"1\" class=\"dataframe\">\n",
       "  <thead>\n",
       "    <tr style=\"text-align: right;\">\n",
       "      <th></th>\n",
       "      <th>region</th>\n",
       "      <th>town_t</th>\n",
       "      <th>apt_t</th>\n",
       "      <th>sex</th>\n",
       "      <th>age</th>\n",
       "      <th>incm</th>\n",
       "      <th>ho_incm</th>\n",
       "      <th>incm5</th>\n",
       "      <th>ho_incm5</th>\n",
       "      <th>edu</th>\n",
       "      <th>...</th>\n",
       "      <th>N_VA_RAE</th>\n",
       "      <th>N_CAROT</th>\n",
       "      <th>N_RETIN</th>\n",
       "      <th>N_B1</th>\n",
       "      <th>N_B2</th>\n",
       "      <th>N_NIAC</th>\n",
       "      <th>N_VITC</th>\n",
       "      <th>LF_secur_y</th>\n",
       "      <th>LF_BUYER</th>\n",
       "      <th>LF_safe</th>\n",
       "    </tr>\n",
       "  </thead>\n",
       "  <tbody>\n",
       "    <tr>\n",
       "      <th>0</th>\n",
       "      <td>1.0</td>\n",
       "      <td>1.0</td>\n",
       "      <td>1.0</td>\n",
       "      <td>1.0</td>\n",
       "      <td>76.0</td>\n",
       "      <td>3.0</td>\n",
       "      <td>1.0</td>\n",
       "      <td>3.0</td>\n",
       "      <td>2.0</td>\n",
       "      <td>3.0</td>\n",
       "      <td>...</td>\n",
       "      <td>107.968989</td>\n",
       "      <td>759.925836</td>\n",
       "      <td>44.641836</td>\n",
       "      <td>1.148658</td>\n",
       "      <td>0.883505</td>\n",
       "      <td>8.357358</td>\n",
       "      <td>33.239210</td>\n",
       "      <td>1.0</td>\n",
       "      <td>1.0</td>\n",
       "      <td>2.0</td>\n",
       "    </tr>\n",
       "    <tr>\n",
       "      <th>1</th>\n",
       "      <td>1.0</td>\n",
       "      <td>1.0</td>\n",
       "      <td>1.0</td>\n",
       "      <td>1.0</td>\n",
       "      <td>39.0</td>\n",
       "      <td>1.0</td>\n",
       "      <td>2.0</td>\n",
       "      <td>2.0</td>\n",
       "      <td>3.0</td>\n",
       "      <td>3.0</td>\n",
       "      <td>...</td>\n",
       "      <td>258.086652</td>\n",
       "      <td>2716.612108</td>\n",
       "      <td>31.702310</td>\n",
       "      <td>2.037906</td>\n",
       "      <td>1.542775</td>\n",
       "      <td>20.282287</td>\n",
       "      <td>64.621705</td>\n",
       "      <td>1.0</td>\n",
       "      <td>1.0</td>\n",
       "      <td>1.0</td>\n",
       "    </tr>\n",
       "    <tr>\n",
       "      <th>3</th>\n",
       "      <td>1.0</td>\n",
       "      <td>1.0</td>\n",
       "      <td>1.0</td>\n",
       "      <td>1.0</td>\n",
       "      <td>1.0</td>\n",
       "      <td>2.0</td>\n",
       "      <td>2.0</td>\n",
       "      <td>2.0</td>\n",
       "      <td>3.0</td>\n",
       "      <td>1.0</td>\n",
       "      <td>...</td>\n",
       "      <td>419.057128</td>\n",
       "      <td>903.445531</td>\n",
       "      <td>343.770000</td>\n",
       "      <td>0.514549</td>\n",
       "      <td>1.266080</td>\n",
       "      <td>4.822195</td>\n",
       "      <td>91.302935</td>\n",
       "      <td>1.0</td>\n",
       "      <td>1.0</td>\n",
       "      <td>1.0</td>\n",
       "    </tr>\n",
       "    <tr>\n",
       "      <th>4</th>\n",
       "      <td>1.0</td>\n",
       "      <td>1.0</td>\n",
       "      <td>1.0</td>\n",
       "      <td>1.0</td>\n",
       "      <td>71.0</td>\n",
       "      <td>2.0</td>\n",
       "      <td>2.0</td>\n",
       "      <td>3.0</td>\n",
       "      <td>2.0</td>\n",
       "      <td>1.0</td>\n",
       "      <td>...</td>\n",
       "      <td>369.152154</td>\n",
       "      <td>1621.345842</td>\n",
       "      <td>234.040000</td>\n",
       "      <td>1.485135</td>\n",
       "      <td>1.622947</td>\n",
       "      <td>15.722913</td>\n",
       "      <td>20.956242</td>\n",
       "      <td>1.0</td>\n",
       "      <td>1.0</td>\n",
       "      <td>2.0</td>\n",
       "    </tr>\n",
       "    <tr>\n",
       "      <th>5</th>\n",
       "      <td>1.0</td>\n",
       "      <td>1.0</td>\n",
       "      <td>1.0</td>\n",
       "      <td>2.0</td>\n",
       "      <td>68.0</td>\n",
       "      <td>2.0</td>\n",
       "      <td>2.0</td>\n",
       "      <td>2.0</td>\n",
       "      <td>2.0</td>\n",
       "      <td>2.0</td>\n",
       "      <td>...</td>\n",
       "      <td>217.801175</td>\n",
       "      <td>1828.243862</td>\n",
       "      <td>65.447520</td>\n",
       "      <td>1.299015</td>\n",
       "      <td>0.753211</td>\n",
       "      <td>6.786803</td>\n",
       "      <td>29.879524</td>\n",
       "      <td>1.0</td>\n",
       "      <td>1.0</td>\n",
       "      <td>2.0</td>\n",
       "    </tr>\n",
       "  </tbody>\n",
       "</table>\n",
       "<p>5 rows × 486 columns</p>\n",
       "</div>"
      ],
      "text/plain": [
       "   region  town_t  apt_t  sex   age  incm  ho_incm  incm5  ho_incm5  edu  \\\n",
       "0     1.0     1.0    1.0  1.0  76.0   3.0      1.0    3.0       2.0  3.0   \n",
       "1     1.0     1.0    1.0  1.0  39.0   1.0      2.0    2.0       3.0  3.0   \n",
       "3     1.0     1.0    1.0  1.0   1.0   2.0      2.0    2.0       3.0  1.0   \n",
       "4     1.0     1.0    1.0  1.0  71.0   2.0      2.0    3.0       2.0  1.0   \n",
       "5     1.0     1.0    1.0  2.0  68.0   2.0      2.0    2.0       2.0  2.0   \n",
       "\n",
       "    ...       N_VA_RAE      N_CAROT     N_RETIN      N_B1      N_B2  \\\n",
       "0   ...     107.968989   759.925836   44.641836  1.148658  0.883505   \n",
       "1   ...     258.086652  2716.612108   31.702310  2.037906  1.542775   \n",
       "3   ...     419.057128   903.445531  343.770000  0.514549  1.266080   \n",
       "4   ...     369.152154  1621.345842  234.040000  1.485135  1.622947   \n",
       "5   ...     217.801175  1828.243862   65.447520  1.299015  0.753211   \n",
       "\n",
       "      N_NIAC     N_VITC  LF_secur_y  LF_BUYER  LF_safe  \n",
       "0   8.357358  33.239210         1.0       1.0      2.0  \n",
       "1  20.282287  64.621705         1.0       1.0      1.0  \n",
       "3   4.822195  91.302935         1.0       1.0      1.0  \n",
       "4  15.722913  20.956242         1.0       1.0      2.0  \n",
       "5   6.786803  29.879524         1.0       1.0      2.0  \n",
       "\n",
       "[5 rows x 486 columns]"
      ]
     },
     "execution_count": 20,
     "metadata": {},
     "output_type": "execute_result"
    }
   ],
   "source": [
    "train_x.head()"
   ]
  },
  {
   "cell_type": "code",
   "execution_count": 21,
   "metadata": {},
   "outputs": [],
   "source": [
    "rf = RandomForestClassifier(n_jobs=-1, )"
   ]
  },
  {
   "cell_type": "code",
   "execution_count": 22,
   "metadata": {},
   "outputs": [
    {
     "name": "stderr",
     "output_type": "stream",
     "text": [
      "c:\\users\\nb-0242\\anaconda3\\envs\\ximz\\lib\\site-packages\\sklearn\\ensemble\\forest.py:248: FutureWarning: The default value of n_estimators will change from 10 in version 0.20 to 100 in 0.22.\n",
      "  \"10 in version 0.20 to 100 in 0.22.\", FutureWarning)\n"
     ]
    },
    {
     "data": {
      "text/plain": [
       "RandomForestClassifier(bootstrap=True, class_weight=None, criterion='gini',\n",
       "            max_depth=None, max_features='auto', max_leaf_nodes=None,\n",
       "            min_impurity_decrease=0.0, min_impurity_split=None,\n",
       "            min_samples_leaf=1, min_samples_split=2,\n",
       "            min_weight_fraction_leaf=0.0, n_estimators=10, n_jobs=-1,\n",
       "            oob_score=False, random_state=None, verbose=0,\n",
       "            warm_start=False)"
      ]
     },
     "execution_count": 22,
     "metadata": {},
     "output_type": "execute_result"
    }
   ],
   "source": [
    "rf.fit(train_x, train_y,)"
   ]
  },
  {
   "cell_type": "code",
   "execution_count": 23,
   "metadata": {},
   "outputs": [],
   "source": [
    "test_yhat = rf.predict(test_x)"
   ]
  },
  {
   "cell_type": "code",
   "execution_count": 24,
   "metadata": {},
   "outputs": [
    {
     "data": {
      "text/plain": [
       "0.990625"
      ]
     },
     "execution_count": 24,
     "metadata": {},
     "output_type": "execute_result"
    }
   ],
   "source": [
    "np.sum(np.equal(test_yhat, test_y.values.reshape(-1,)))/len(test_y)"
   ]
  },
  {
   "cell_type": "code",
   "execution_count": 25,
   "metadata": {},
   "outputs": [
    {
     "data": {
      "text/plain": [
       "array([0., 0., 0., ..., 0., 8., 0.])"
      ]
     },
     "execution_count": 25,
     "metadata": {},
     "output_type": "execute_result"
    }
   ],
   "source": [
    "test_yhat"
   ]
  },
  {
   "cell_type": "code",
   "execution_count": 4,
   "metadata": {},
   "outputs": [],
   "source": [
    "import matplotlib.pyplot as plt"
   ]
  },
  {
   "cell_type": "code",
   "execution_count": 27,
   "metadata": {
    "scrolled": true
   },
   "outputs": [
    {
     "data": {
      "text/plain": [
       "<matplotlib.axes._subplots.AxesSubplot at 0x23a10fce198>"
      ]
     },
     "execution_count": 27,
     "metadata": {},
     "output_type": "execute_result"
    },
    {
     "data": {
      "image/png": "[encoded data removed]",
      "text/plain": [
       "<Figure size 1440x1440 with 1 Axes>"
      ]
     },
     "metadata": {
      "needs_background": "light"
     },
     "output_type": "display_data"
    }
   ],
   "source": [
    "plt.figure(figsize=(20,20))\n",
    "feat_importances = pd.Series(rf.feature_importances_, index=test_x.columns)\n",
    "feat_importances.nlargest(30).plot(kind='barh')"
   ]
  },
  {
   "cell_type": "markdown",
   "metadata": {},
   "source": [
    "# 첫번째 시도 중요변수\n",
    "<h5>BA2_22 : 1년간 음주운전차량: 동승 횟수\n",
    "<h5>DM3_dg : 류마티스성 관절염 의사진단 여부\n",
    "<h5>BS12_36 : 평생사용담배종류: 피운 적 없음\n",
    "<h5>DN6_yd : (소아,청소년) 요로감염 의사진단\n",
    "<h5>DI4_dg : 심근경색증 또는 협심증 의사진단 여부\n",
    "<h5>DK9_dg : c형감염 의사진단 여부\n",
    "<h5>LQ_3EQL : 일상활동(지장있음, 없음..)\n",
    "<h5>DK8_dg : b형감염 의사진단 여부\n",
    "<h5>EC_lgw_2 : (성인) 최장일자리: 표준직업분류 대분류 코드+실업/비경활 상태\n",
    "<h5>BE3_93 : 장소이동 신체활동 시간\n"
   ]
  },
  {
   "cell_type": "code",
   "execution_count": 55,
   "metadata": {},
   "outputs": [
    {
     "data": {
      "text/plain": [
       "BS1_1      0.190397\n",
       "DI1_dg     0.096087\n",
       "DF2_dg     0.095903\n",
       "LQ_5EQL    0.095897\n",
       "LQ_3EQL    0.095760\n",
       "DH6_dg     0.095649\n",
       "DH2_dg     0.095586\n",
       "DC7_dg     0.095462\n",
       "BM7        0.094866\n",
       "BM14       0.001151\n",
       "dtype: float64"
      ]
     },
     "execution_count": 55,
     "metadata": {},
     "output_type": "execute_result"
    }
   ],
   "source": [
    "#두 번째 시도 중요변수\n",
    "feat_importances.nlargest(10)"
   ]
  },
  {
   "cell_type": "code",
   "execution_count": 28,
   "metadata": {
    "scrolled": true
   },
   "outputs": [
    {
     "data": {
      "text/plain": [
       "age        0.096913\n",
       "DH2_dg     0.096228\n",
       "DJ9_yd     0.096206\n",
       "LQ_2EQL    0.095933\n",
       "BE3_91     0.095590\n",
       "DE2_dg     0.095474\n",
       "BS12_1     0.095183\n",
       "DK8_dg     0.094812\n",
       "BE3_81     0.094602\n",
       "DI3_dg     0.094403\n",
       "dtype: float64"
      ]
     },
     "execution_count": 28,
     "metadata": {},
     "output_type": "execute_result"
    }
   ],
   "source": [
    "#세 번째 시도 변수\n",
    "feat_importances.nlargest(10)"
   ]
  },
  {
   "cell_type": "markdown",
   "metadata": {},
   "source": [
    "<h3> 중요변수가 계속바뀌는 괴기한 현상발생"
   ]
  },
  {
   "cell_type": "markdown",
   "metadata": {},
   "source": [
    "# MODELING (발병 관련변수 제거 후 재시도)"
   ]
  },
  {
   "cell_type": "code",
   "execution_count": 5,
   "metadata": {},
   "outputs": [],
   "source": [
    "data = pd.read_sas('c:/users/nb-0242/desktop/PHR/질병관리본부/HN17_ALL.sas7bdat', encoding='latin-1')"
   ]
  },
  {
   "cell_type": "code",
   "execution_count": 6,
   "metadata": {},
   "outputs": [],
   "source": [
    "r = re.compile('^wt_*')\n",
    "wt_var = list(filter(r.match, data.columns))\n",
    "pre_ = data.iloc[:, ~data.columns.isin(wt_var)]"
   ]
  },
  {
   "cell_type": "code",
   "execution_count": 7,
   "metadata": {},
   "outputs": [],
   "source": [
    "r2 = re.compile('.*_[dapp][ggrt]')\n",
    "disease_var = list(filter(r2.match, pre_.columns))\n",
    "dis_var = disease_var[:-1]\n",
    "# pre__ = pre_.iloc[:, ~pre_.columns.isin(dis_var)]"
   ]
  },
  {
   "cell_type": "code",
   "execution_count": 103,
   "metadata": {},
   "outputs": [
    {
     "data": {
      "text/plain": [
       "(8127, 698)"
      ]
     },
     "execution_count": 103,
     "metadata": {},
     "output_type": "execute_result"
    }
   ],
   "source": [
    "pre__.shape"
   ]
  },
  {
   "cell_type": "code",
   "execution_count": 87,
   "metadata": {},
   "outputs": [
    {
     "data": {
      "text/plain": [
       "(8127, 819)"
      ]
     },
     "execution_count": 87,
     "metadata": {},
     "output_type": "execute_result"
    }
   ],
   "source": [
    "data.shape"
   ]
  },
  {
   "cell_type": "code",
   "execution_count": 8,
   "metadata": {},
   "outputs": [
    {
     "name": "stderr",
     "output_type": "stream",
     "text": [
      "c:\\users\\nb-0242\\anaconda3\\envs\\ximz\\lib\\site-packages\\ipykernel_launcher.py:4: SettingWithCopyWarning: \n",
      "A value is trying to be set on a copy of a slice from a DataFrame\n",
      "\n",
      "See the caveats in the documentation: http://pandas.pydata.org/pandas-docs/stable/indexing.html#indexing-view-versus-copy\n",
      "  after removing the cwd from sys.path.\n"
     ]
    }
   ],
   "source": [
    "#결측 변수 덜고\n",
    "pre__ = pre_.iloc[:, pre_.isnull().sum().values < 1000]\n",
    "#결측건 덜고\n",
    "pre__.dropna(axis=0, inplace= True)"
   ]
  },
  {
   "cell_type": "code",
   "execution_count": 105,
   "metadata": {
    "scrolled": true
   },
   "outputs": [
    {
     "data": {
      "text/plain": [
       "(6400, 496)"
      ]
     },
     "execution_count": 105,
     "metadata": {},
     "output_type": "execute_result"
    }
   ],
   "source": [
    "pre__.shape"
   ]
  },
  {
   "cell_type": "code",
   "execution_count": 9,
   "metadata": {},
   "outputs": [],
   "source": [
    "del pre__['N_DAY']\n",
    "del pre__['psu']"
   ]
  },
  {
   "cell_type": "code",
   "execution_count": 10,
   "metadata": {},
   "outputs": [],
   "source": [
    "idx = np.random.choice(np.arange(0,len(pre__)),size=int(len(pre__)*0.8), replace=False)\n",
    "idx_df = pre__.index.isin(idx)\n",
    "train_ = pre__[idx_df]\n",
    "test_ = pre__[~idx_df]"
   ]
  },
  {
   "cell_type": "code",
   "execution_count": 11,
   "metadata": {},
   "outputs": [],
   "source": [
    "train_x = train_.iloc[:,~train_.columns.isin(dis_var)].iloc[:,4:]\n",
    "train_y = train_['DC1_dg']\n",
    "test_x = test_.iloc[:,~test_.columns.isin(dis_var)].iloc[:,4:]\n",
    "test_y = test_['DC1_dg']"
   ]
  },
  {
   "cell_type": "code",
   "execution_count": 12,
   "metadata": {},
   "outputs": [
    {
     "name": "stderr",
     "output_type": "stream",
     "text": [
      "c:\\users\\nb-0242\\anaconda3\\envs\\ximz\\lib\\site-packages\\sklearn\\ensemble\\forest.py:248: FutureWarning: The default value of n_estimators will change from 10 in version 0.20 to 100 in 0.22.\n",
      "  \"10 in version 0.20 to 100 in 0.22.\", FutureWarning)\n"
     ]
    },
    {
     "data": {
      "text/plain": [
       "RandomForestClassifier(bootstrap=True, class_weight=None, criterion='gini',\n",
       "            max_depth=None, max_features='auto', max_leaf_nodes=None,\n",
       "            min_impurity_decrease=0.0, min_impurity_split=None,\n",
       "            min_samples_leaf=1, min_samples_split=2,\n",
       "            min_weight_fraction_leaf=0.0, n_estimators=10, n_jobs=-1,\n",
       "            oob_score=False, random_state=None, verbose=0,\n",
       "            warm_start=False)"
      ]
     },
     "execution_count": 12,
     "metadata": {},
     "output_type": "execute_result"
    }
   ],
   "source": [
    "rf = RandomForestClassifier(n_jobs=-1, )\n",
    "rf.fit(train_x,train_y)"
   ]
  },
  {
   "cell_type": "code",
   "execution_count": 13,
   "metadata": {},
   "outputs": [],
   "source": [
    "test_yhat = rf.predict(test_x)"
   ]
  },
  {
   "cell_type": "code",
   "execution_count": 14,
   "metadata": {},
   "outputs": [
    {
     "data": {
      "text/plain": [
       "0.9901918976545843"
      ]
     },
     "execution_count": 14,
     "metadata": {},
     "output_type": "execute_result"
    }
   ],
   "source": [
    "np.sum(np.equal(test_yhat, test_y.values.reshape(-1,)))/len(test_y)"
   ]
  },
  {
   "cell_type": "code",
   "execution_count": 15,
   "metadata": {},
   "outputs": [
    {
     "data": {
      "text/plain": [
       "<matplotlib.axes._subplots.AxesSubplot at 0x1a77e09a320>"
      ]
     },
     "execution_count": 15,
     "metadata": {},
     "output_type": "execute_result"
    },
    {
     "data": {
      "image/png": "[encoded data removed]",
      "text/plain": [
       "<Figure size 1440x1440 with 1 Axes>"
      ]
     },
     "metadata": {
      "needs_background": "light"
     },
     "output_type": "display_data"
    }
   ],
   "source": [
    "plt.figure(figsize=(20,20))\n",
    "feat_importances = pd.Series(rf.feature_importances_, index=test_x.columns)\n",
    "feat_importances.nlargest(30).plot(kind='barh')"
   ]
  },
  {
   "cell_type": "code",
   "execution_count": null,
   "metadata": {},
   "outputs": [],
   "source": []
  },
  {
   "cell_type": "code",
   "execution_count": null,
   "metadata": {},
   "outputs": [],
   "source": []
  },
  {
   "cell_type": "code",
   "execution_count": null,
   "metadata": {},
   "outputs": [],
   "source": []
  },
  {
   "cell_type": "code",
   "execution_count": 120,
   "metadata": {},
   "outputs": [
    {
     "data": {
      "text/plain": [
       "BS12_1       0.192104\n",
       "LQ_2EQL      0.096198\n",
       "BM8          0.096132\n",
       "BS12_32      0.095957\n",
       "LQ_4EQL      0.095486\n",
       "BE3_91       0.095343\n",
       "EC_lgw_4     0.084483\n",
       "DN6_yd       0.073619\n",
       "EC_pedu_2    0.064127\n",
       "BM7          0.031825\n",
       "dtype: float64"
      ]
     },
     "execution_count": 120,
     "metadata": {},
     "output_type": "execute_result"
    }
   ],
   "source": [
    "#발병 변수 모두 제외한 결과 #1\n",
    "feat_importances.nlargest(10)"
   ]
  },
  {
   "cell_type": "code",
   "execution_count": 16,
   "metadata": {},
   "outputs": [
    {
     "data": {
      "text/plain": [
       "BS1_1      0.095889\n",
       "BE3_81     0.095838\n",
       "DI9_yd     0.095805\n",
       "BS12_31    0.095507\n",
       "LQ_2EQL    0.094197\n",
       "BS12_36    0.093997\n",
       "EC1_1      0.076051\n",
       "BP16_22    0.064378\n",
       "BP7        0.062126\n",
       "BP16_13    0.060504\n",
       "dtype: float64"
      ]
     },
     "execution_count": 16,
     "metadata": {},
     "output_type": "execute_result"
    }
   ],
   "source": [
    "#발병 변수 모두 제외한 결과 #2\n",
    "feat_importances.nlargest(10)"
   ]
  },
  {
   "cell_type": "code",
   "execution_count": 17,
   "metadata": {},
   "outputs": [
    {
     "data": {
      "text/plain": [
       "(4055, 351)"
      ]
     },
     "execution_count": 17,
     "metadata": {},
     "output_type": "execute_result"
    }
   ],
   "source": [
    "train_x.shape"
   ]
  },
  {
   "cell_type": "code",
   "execution_count": null,
   "metadata": {},
   "outputs": [],
   "source": []
  },
  {
   "cell_type": "markdown",
   "metadata": {},
   "source": [
    "# 중요변수만으로 예측 가즈아"
   ]
  },
  {
   "cell_type": "code",
   "execution_count": 22,
   "metadata": {},
   "outputs": [],
   "source": [
    "feat_20 = feat_importances.nlargest(20).keys()"
   ]
  },
  {
   "cell_type": "code",
   "execution_count": 42,
   "metadata": {},
   "outputs": [],
   "source": [
    "feat_20 = feat_20.append(pd.Index(['DC1_dg']))"
   ]
  },
  {
   "cell_type": "code",
   "execution_count": 47,
   "metadata": {},
   "outputs": [],
   "source": [
    "pre_ = data[feat_20]"
   ]
  },
  {
   "cell_type": "code",
   "execution_count": 48,
   "metadata": {},
   "outputs": [
    {
     "data": {
      "text/html": [
       "<div>\n",
       "<style scoped>\n",
       "    .dataframe tbody tr th:only-of-type {\n",
       "        vertical-align: middle;\n",
       "    }\n",
       "\n",
       "    .dataframe tbody tr th {\n",
       "        vertical-align: top;\n",
       "    }\n",
       "\n",
       "    .dataframe thead th {\n",
       "        text-align: right;\n",
       "    }\n",
       "</style>\n",
       "<table border=\"1\" class=\"dataframe\">\n",
       "  <thead>\n",
       "    <tr style=\"text-align: right;\">\n",
       "      <th></th>\n",
       "      <th>BS1_1</th>\n",
       "      <th>BE3_81</th>\n",
       "      <th>DI9_yd</th>\n",
       "      <th>BS12_31</th>\n",
       "      <th>LQ_2EQL</th>\n",
       "      <th>BS12_36</th>\n",
       "      <th>EC1_1</th>\n",
       "      <th>BP16_22</th>\n",
       "      <th>BP7</th>\n",
       "      <th>BP16_13</th>\n",
       "      <th>...</th>\n",
       "      <th>LQ_3EQL</th>\n",
       "      <th>LQ_1EQL</th>\n",
       "      <th>BE3_71</th>\n",
       "      <th>N_PHOS</th>\n",
       "      <th>HE_wc</th>\n",
       "      <th>EC_lgw_2</th>\n",
       "      <th>HE_BMI</th>\n",
       "      <th>N_INTK</th>\n",
       "      <th>BE3_92</th>\n",
       "      <th>DC1_dg</th>\n",
       "    </tr>\n",
       "  </thead>\n",
       "  <tbody>\n",
       "    <tr>\n",
       "      <th>0</th>\n",
       "      <td>3.0</td>\n",
       "      <td>2.0</td>\n",
       "      <td>8.0</td>\n",
       "      <td>0.0</td>\n",
       "      <td>1.0</td>\n",
       "      <td>1.0</td>\n",
       "      <td>1.0</td>\n",
       "      <td>0.0</td>\n",
       "      <td>2.0</td>\n",
       "      <td>5.0</td>\n",
       "      <td>...</td>\n",
       "      <td>1.0</td>\n",
       "      <td>1.0</td>\n",
       "      <td>1.0</td>\n",
       "      <td>930.035851</td>\n",
       "      <td>81.4</td>\n",
       "      <td>5.0</td>\n",
       "      <td>21.483406</td>\n",
       "      <td>846.981951</td>\n",
       "      <td>8.0</td>\n",
       "      <td>0.0</td>\n",
       "    </tr>\n",
       "    <tr>\n",
       "      <th>1</th>\n",
       "      <td>NaN</td>\n",
       "      <td>NaN</td>\n",
       "      <td>NaN</td>\n",
       "      <td>NaN</td>\n",
       "      <td>NaN</td>\n",
       "      <td>NaN</td>\n",
       "      <td>NaN</td>\n",
       "      <td>NaN</td>\n",
       "      <td>NaN</td>\n",
       "      <td>NaN</td>\n",
       "      <td>...</td>\n",
       "      <td>NaN</td>\n",
       "      <td>NaN</td>\n",
       "      <td>NaN</td>\n",
       "      <td>1020.660557</td>\n",
       "      <td>NaN</td>\n",
       "      <td>NaN</td>\n",
       "      <td>NaN</td>\n",
       "      <td>1725.435361</td>\n",
       "      <td>NaN</td>\n",
       "      <td>NaN</td>\n",
       "    </tr>\n",
       "    <tr>\n",
       "      <th>2</th>\n",
       "      <td>2.0</td>\n",
       "      <td>2.0</td>\n",
       "      <td>8.0</td>\n",
       "      <td>0.0</td>\n",
       "      <td>1.0</td>\n",
       "      <td>1.0</td>\n",
       "      <td>1.0</td>\n",
       "      <td>0.0</td>\n",
       "      <td>2.0</td>\n",
       "      <td>21.0</td>\n",
       "      <td>...</td>\n",
       "      <td>1.0</td>\n",
       "      <td>1.0</td>\n",
       "      <td>2.0</td>\n",
       "      <td>1177.886606</td>\n",
       "      <td>75.7</td>\n",
       "      <td>9.0</td>\n",
       "      <td>21.268015</td>\n",
       "      <td>1941.845543</td>\n",
       "      <td>8.0</td>\n",
       "      <td>0.0</td>\n",
       "    </tr>\n",
       "    <tr>\n",
       "      <th>3</th>\n",
       "      <td>3.0</td>\n",
       "      <td>2.0</td>\n",
       "      <td>8.0</td>\n",
       "      <td>0.0</td>\n",
       "      <td>1.0</td>\n",
       "      <td>1.0</td>\n",
       "      <td>2.0</td>\n",
       "      <td>0.0</td>\n",
       "      <td>2.0</td>\n",
       "      <td>8.0</td>\n",
       "      <td>...</td>\n",
       "      <td>1.0</td>\n",
       "      <td>1.0</td>\n",
       "      <td>2.0</td>\n",
       "      <td>830.767297</td>\n",
       "      <td>77.6</td>\n",
       "      <td>2.0</td>\n",
       "      <td>20.292201</td>\n",
       "      <td>728.108984</td>\n",
       "      <td>2.0</td>\n",
       "      <td>0.0</td>\n",
       "    </tr>\n",
       "    <tr>\n",
       "      <th>4</th>\n",
       "      <td>8.0</td>\n",
       "      <td>8.0</td>\n",
       "      <td>0.0</td>\n",
       "      <td>8.0</td>\n",
       "      <td>8.0</td>\n",
       "      <td>8.0</td>\n",
       "      <td>8.0</td>\n",
       "      <td>88.0</td>\n",
       "      <td>8.0</td>\n",
       "      <td>88.0</td>\n",
       "      <td>...</td>\n",
       "      <td>8.0</td>\n",
       "      <td>8.0</td>\n",
       "      <td>8.0</td>\n",
       "      <td>831.596210</td>\n",
       "      <td>48.3</td>\n",
       "      <td>88.0</td>\n",
       "      <td>15.501730</td>\n",
       "      <td>875.438959</td>\n",
       "      <td>8.0</td>\n",
       "      <td>8.0</td>\n",
       "    </tr>\n",
       "  </tbody>\n",
       "</table>\n",
       "<p>5 rows × 21 columns</p>\n",
       "</div>"
      ],
      "text/plain": [
       "   BS1_1  BE3_81  DI9_yd  BS12_31  LQ_2EQL  BS12_36  EC1_1  BP16_22  BP7  \\\n",
       "0    3.0     2.0     8.0      0.0      1.0      1.0    1.0      0.0  2.0   \n",
       "1    NaN     NaN     NaN      NaN      NaN      NaN    NaN      NaN  NaN   \n",
       "2    2.0     2.0     8.0      0.0      1.0      1.0    1.0      0.0  2.0   \n",
       "3    3.0     2.0     8.0      0.0      1.0      1.0    2.0      0.0  2.0   \n",
       "4    8.0     8.0     0.0      8.0      8.0      8.0    8.0     88.0  8.0   \n",
       "\n",
       "   BP16_13   ...    LQ_3EQL  LQ_1EQL  BE3_71       N_PHOS  HE_wc  EC_lgw_2  \\\n",
       "0      5.0   ...        1.0      1.0     1.0   930.035851   81.4       5.0   \n",
       "1      NaN   ...        NaN      NaN     NaN  1020.660557    NaN       NaN   \n",
       "2     21.0   ...        1.0      1.0     2.0  1177.886606   75.7       9.0   \n",
       "3      8.0   ...        1.0      1.0     2.0   830.767297   77.6       2.0   \n",
       "4     88.0   ...        8.0      8.0     8.0   831.596210   48.3      88.0   \n",
       "\n",
       "      HE_BMI       N_INTK  BE3_92  DC1_dg  \n",
       "0  21.483406   846.981951     8.0     0.0  \n",
       "1        NaN  1725.435361     NaN     NaN  \n",
       "2  21.268015  1941.845543     8.0     0.0  \n",
       "3  20.292201   728.108984     2.0     0.0  \n",
       "4  15.501730   875.438959     8.0     8.0  \n",
       "\n",
       "[5 rows x 21 columns]"
      ]
     },
     "execution_count": 48,
     "metadata": {},
     "output_type": "execute_result"
    }
   ],
   "source": [
    "pre_.head()"
   ]
  },
  {
   "cell_type": "code",
   "execution_count": 55,
   "metadata": {
    "scrolled": true
   },
   "outputs": [
    {
     "name": "stderr",
     "output_type": "stream",
     "text": [
      "c:\\users\\nb-0242\\anaconda3\\envs\\ximz\\lib\\site-packages\\ipykernel_launcher.py:1: SettingWithCopyWarning: \n",
      "A value is trying to be set on a copy of a slice from a DataFrame\n",
      "\n",
      "See the caveats in the documentation: http://pandas.pydata.org/pandas-docs/stable/indexing.html#indexing-view-versus-copy\n",
      "  \"\"\"Entry point for launching an IPython kernel.\n"
     ]
    }
   ],
   "source": [
    "pre_.dropna(inplace=True)\n",
    "pre_.reset_index(drop=True,inplace=True)"
   ]
  },
  {
   "cell_type": "code",
   "execution_count": 56,
   "metadata": {},
   "outputs": [],
   "source": [
    "idx = np.random.choice(np.arange(0,len(pre_)),size=int(len(pre_)*0.8), replace=False)\n",
    "idx_df = pre_.index.isin(idx)\n",
    "train_ = pre_[idx_df]\n",
    "test_ = pre_[~idx_df]"
   ]
  },
  {
   "cell_type": "code",
   "execution_count": 57,
   "metadata": {},
   "outputs": [],
   "source": [
    "train_x = train_.iloc[:,train_.columns!='DC1_dg']\n",
    "train_y = train_['DC1_dg']\n",
    "test_x = test_.iloc[:,test_.columns!='DC1_dg']\n",
    "test_y = test_['DC1_dg']"
   ]
  },
  {
   "cell_type": "code",
   "execution_count": 59,
   "metadata": {},
   "outputs": [
    {
     "name": "stderr",
     "output_type": "stream",
     "text": [
      "c:\\users\\nb-0242\\anaconda3\\envs\\ximz\\lib\\site-packages\\sklearn\\ensemble\\forest.py:248: FutureWarning: The default value of n_estimators will change from 10 in version 0.20 to 100 in 0.22.\n",
      "  \"10 in version 0.20 to 100 in 0.22.\", FutureWarning)\n"
     ]
    },
    {
     "data": {
      "text/plain": [
       "RandomForestClassifier(bootstrap=True, class_weight=None, criterion='gini',\n",
       "            max_depth=None, max_features='auto', max_leaf_nodes=None,\n",
       "            min_impurity_decrease=0.0, min_impurity_split=None,\n",
       "            min_samples_leaf=1, min_samples_split=2,\n",
       "            min_weight_fraction_leaf=0.0, n_estimators=10, n_jobs=-1,\n",
       "            oob_score=False, random_state=None, verbose=0,\n",
       "            warm_start=False)"
      ]
     },
     "execution_count": 59,
     "metadata": {},
     "output_type": "execute_result"
    }
   ],
   "source": [
    "rf1 = RandomForestClassifier(n_jobs=-1, )\n",
    "rf1.fit(train_x,train_y)"
   ]
  },
  {
   "cell_type": "code",
   "execution_count": 60,
   "metadata": {},
   "outputs": [
    {
     "data": {
      "text/plain": [
       "0.9895444361463779"
      ]
     },
     "execution_count": 60,
     "metadata": {},
     "output_type": "execute_result"
    }
   ],
   "source": [
    "test_yhat = rf1.predict(test_x)\n",
    "np.sum(np.equal(test_yhat, test_y.values.reshape(-1,)))/len(test_y)"
   ]
  },
  {
   "cell_type": "code",
   "execution_count": 65,
   "metadata": {},
   "outputs": [
    {
     "data": {
      "text/plain": [
       "<matplotlib.axes._subplots.AxesSubplot at 0x1a70425b588>"
      ]
     },
     "execution_count": 65,
     "metadata": {},
     "output_type": "execute_result"
    },
    {
     "data": {
      "image/png": "[encoded data removed]",
      "text/plain": [
       "<Figure size 1440x720 with 1 Axes>"
      ]
     },
     "metadata": {
      "needs_background": "light"
     },
     "output_type": "display_data"
    }
   ],
   "source": [
    "plt.figure(figsize=(20,10))\n",
    "feat_importances = pd.Series(rf1.feature_importances_, index=test_x.columns)\n",
    "feat_importances.nlargest(20).plot(kind='barh')"
   ]
  },
  {
   "cell_type": "code",
   "execution_count": null,
   "metadata": {},
   "outputs": [],
   "source": []
  },
  {
   "cell_type": "code",
   "execution_count": null,
   "metadata": {},
   "outputs": [],
   "source": []
  },
  {
   "cell_type": "code",
   "execution_count": null,
   "metadata": {},
   "outputs": [],
   "source": []
  },
  {
   "cell_type": "markdown",
   "metadata": {},
   "source": [
    "# 전체 데이터셋 ㄱㄱ"
   ]
  },
  {
   "cell_type": "code",
   "execution_count": 27,
   "metadata": {},
   "outputs": [],
   "source": [
    "mod = sys.modules[__name__]\n",
    "for year in range(7,18):\n",
    "    if year//10==0:\n",
    "        setattr(mod, 'data{}'.format(year),pd.read_sas('c:/users/nb-0242/desktop/PHR/질병관리본부/HN'+str(0)+str(year)+'_ALL.sas7bdat', encoding='latin-1'))\n",
    "        \n",
    "    else :\n",
    "        \n",
    "        setattr(mod, 'data{}'.format(year), pd.read_sas('c:/users/nb-0242/desktop/PHR/질병관리본부/HN'+str(year)+'_ALL.sas7bdat', encoding='latin-1'))"
   ]
  },
  {
   "cell_type": "code",
   "execution_count": 32,
   "metadata": {},
   "outputs": [
    {
     "name": "stdout",
     "output_type": "stream",
     "text": [
      "(4594, 1101)\n",
      "(9744, 1159)\n",
      "(10533, 1195)\n",
      "(8958, 815)\n",
      "(8518, 812)\n",
      "(8058, 739)\n",
      "(8018, 728)\n",
      "(7550, 727)\n",
      "(7380, 767)\n",
      "(8150, 768)\n",
      "(8127, 819)\n"
     ]
    }
   ],
   "source": [
    "print(data7.shape)\n",
    "print(data8.shape)\n",
    "print(data9.shape)\n",
    "print(data10.shape)\n",
    "print(data11.shape)\n",
    "print(data12.shape)\n",
    "print(data13.shape)\n",
    "print(data14.shape)\n",
    "print(data15.shape)\n",
    "print(data16.shape)\n",
    "print(data17.shape)\n",
    "#존나불편 ;"
   ]
  },
  {
   "cell_type": "code",
   "execution_count": 73,
   "metadata": {},
   "outputs": [
    {
     "data": {
      "text/plain": [
       "11"
      ]
     },
     "execution_count": 73,
     "metadata": {},
     "output_type": "execute_result"
    }
   ],
   "source": [
    "d=[]\n",
    "for year in range(7,18):\n",
    "    if year//10==0:\n",
    "        data=pd.read_sas('c:/users/nb-0242/desktop/PHR/질병관리본부/HN'+str(0)+str(year)+'_ALL.sas7bdat', encoding='latin-1')\n",
    "        d.append(data)\n",
    "    else :\n",
    "        data=pd.read_sas('c:/users/nb-0242/desktop/PHR/질병관리본부/HN'+str(year)+'_ALL.sas7bdat', encoding='latin-1')\n",
    "        d.append(data)\n",
    "len(d)"
   ]
  },
  {
   "cell_type": "code",
   "execution_count": 85,
   "metadata": {
    "scrolled": false
   },
   "outputs": [
    {
     "name": "stdout",
     "output_type": "stream",
     "text": [
      "(4594, 1101)\n",
      "(9744, 1159)\n",
      "(10533, 1195)\n",
      "(8958, 815)\n",
      "(8518, 812)\n",
      "(8058, 739)\n",
      "(8018, 728)\n",
      "(7550, 727)\n",
      "(7380, 767)\n",
      "(8150, 768)\n",
      "(8127, 819)\n"
     ]
    }
   ],
   "source": [
    "for i in range(11):\n",
    "    print(d[i].shape)"
   ]
  },
  {
   "cell_type": "code",
   "execution_count": 102,
   "metadata": {
    "scrolled": true
   },
   "outputs": [
    {
     "name": "stdout",
     "output_type": "stream",
     "text": [
      "1611\n",
      "2927\n",
      "482\n",
      "570\n",
      "623\n",
      "721\n",
      "741\n",
      "659\n",
      "476\n",
      "353\n",
      "428\n"
     ]
    }
   ],
   "source": [
    "# 2008년은 위암결측치가 많음;\n",
    "for i in range(11):\n",
    "    print(d[i]['DC1_dg'].isnull().sum())"
   ]
  },
  {
   "cell_type": "markdown",
   "metadata": {},
   "source": [
    "<h3> 결측변수 버리고 결측치 버리기 -> 보류"
   ]
  },
  {
   "cell_type": "code",
   "execution_count": 69,
   "metadata": {},
   "outputs": [
    {
     "name": "stderr",
     "output_type": "stream",
     "text": [
      "c:\\users\\nb-0242\\anaconda3\\envs\\ximz\\lib\\site-packages\\ipykernel_launcher.py:3: SettingWithCopyWarning: \n",
      "A value is trying to be set on a copy of a slice from a DataFrame\n",
      "\n",
      "See the caveats in the documentation: http://pandas.pydata.org/pandas-docs/stable/indexing.html#indexing-view-versus-copy\n",
      "  This is separate from the ipykernel package so we can avoid doing imports until\n"
     ]
    }
   ],
   "source": [
    "# for i in range(11):\n",
    "#     d[i] = d[i].iloc[:, d[i].isnull().sum().values <3000]\n",
    "#     d[i].dropna(inplace=True)"
   ]
  },
  {
   "cell_type": "markdown",
   "metadata": {},
   "source": [
    "<h2> 직접 분석하며 결측치 채우고 모델을 통해 데이터셋 별 중요변수 파악 -> 취합 후 최종 변수 도출"
   ]
  },
  {
   "cell_type": "markdown",
   "metadata": {},
   "source": [
    "<h4> 1. year 2007"
   ]
  },
  {
   "cell_type": "code",
   "execution_count": 155,
   "metadata": {},
   "outputs": [],
   "source": [
    "pd.set_option('display.max_rows', 100)\n",
    "pd.set_option('display.max_columns', 500)\n",
    "pd.set_option('display.width', 1000)"
   ]
  },
  {
   "cell_type": "code",
   "execution_count": 116,
   "metadata": {},
   "outputs": [],
   "source": [
    "# 여성관련 변수 제거\n",
    "r = re.compile('^HW_.*')\n",
    "w_var =list(filter(r.match, d[0].columns))\n",
    "d7 = d[0].iloc[:, ~d[0].columns.isin(w_var)]"
   ]
  },
  {
   "cell_type": "code",
   "execution_count": 117,
   "metadata": {},
   "outputs": [],
   "source": [
    "# 가중치 변수 제거\n",
    "r2 = re.compile('^wt_.*')\n",
    "weight_var = list(filter(r2.match, d7.columns))\n",
    "d7 = d7.iloc[:, ~d7.columns.isin(weight_var)]"
   ]
  },
  {
   "cell_type": "code",
   "execution_count": 125,
   "metadata": {},
   "outputs": [],
   "source": [
    "# 결측 2000개 이상변수 제거\n",
    "d7 = d7.iloc[:, d7.isnull().sum().values <1700]"
   ]
  },
  {
   "cell_type": "code",
   "execution_count": 140,
   "metadata": {
    "scrolled": true
   },
   "outputs": [],
   "source": [
    "d7_ = d7.loc[~d7['DC1_dg'].isnull(),:]"
   ]
  },
  {
   "cell_type": "code",
   "execution_count": 143,
   "metadata": {},
   "outputs": [
    {
     "data": {
      "text/plain": [
       "(2983, 955)"
      ]
     },
     "execution_count": 143,
     "metadata": {},
     "output_type": "execute_result"
    }
   ],
   "source": [
    "d7_.shape"
   ]
  },
  {
   "cell_type": "code",
   "execution_count": 144,
   "metadata": {},
   "outputs": [],
   "source": [
    "# 결측 관측치 버리기\n",
    "d7__ = d7_.dropna(inplace=False)"
   ]
  },
  {
   "cell_type": "code",
   "execution_count": 145,
   "metadata": {},
   "outputs": [
    {
     "data": {
      "text/plain": [
       "(1782, 955)"
      ]
     },
     "execution_count": 145,
     "metadata": {},
     "output_type": "execute_result"
    }
   ],
   "source": [
    "d7__.shape"
   ]
  },
  {
   "cell_type": "code",
   "execution_count": 158,
   "metadata": {},
   "outputs": [],
   "source": [
    "d7__.to_csv('c:/users/nb-0242/desktop/PHR/d7__.csv',index=False,)"
   ]
  },
  {
   "cell_type": "markdown",
   "metadata": {},
   "source": [
    "# 여기까지 ->위암관련변수 지우고 학습ㄱ"
   ]
  },
  {
   "cell_type": "code",
   "execution_count": 148,
   "metadata": {},
   "outputs": [],
   "source": [
    "wi_var = list(filter(re.compile('^DC1_.*').match, d7__.columns))"
   ]
  },
  {
   "cell_type": "code",
   "execution_count": 153,
   "metadata": {},
   "outputs": [],
   "source": [
    "X_train, X_test, y_train, y_test = train_test_split(d7__.iloc[:,3:], d7__['DC1_dg'],test_size=0.2)"
   ]
  },
  {
   "cell_type": "code",
   "execution_count": 156,
   "metadata": {},
   "outputs": [
    {
     "data": {
      "text/plain": [
       "(357, 952)"
      ]
     },
     "execution_count": 156,
     "metadata": {},
     "output_type": "execute_result"
    }
   ],
   "source": []
  },
  {
   "cell_type": "code",
   "execution_count": null,
   "metadata": {},
   "outputs": [],
   "source": []
  }
 ],
 "metadata": {
  "kernelspec": {
   "display_name": "Python 3",
   "language": "python",
   "name": "python3"
  },
  "language_info": {
   "codemirror_mode": {
    "name": "ipython",
    "version": 3
   },
   "file_extension": ".py",
   "mimetype": "text/x-python",
   "name": "python",
   "nbconvert_exporter": "python",
   "pygments_lexer": "ipython3",
   "version": "3.5.0"
  }
 },
 "nbformat": 4,
 "nbformat_minor": 2
}
