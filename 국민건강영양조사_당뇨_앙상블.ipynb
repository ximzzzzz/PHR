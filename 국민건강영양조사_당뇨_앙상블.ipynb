{
 "cells": [
  {
   "cell_type": "code",
   "execution_count": 1,
   "metadata": {},
   "outputs": [],
   "source": [
    "import pandas as pd\n",
    "import numpy as np\n",
    "import seaborn as sns\n",
    "import re\n",
    "import matplotlib.pyplot as plt\n",
    "from sklearn import metrics   #Additional scklearn functions\n",
    "from sklearn.model_selection import GridSearchCV   #Perforing grid search\n",
    "from sklearn.model_selection import cross_validate\n",
    "from sklearn.model_selection import train_test_split\n",
    "from sklearn.metrics import confusion_matrix\n",
    "from sklearn.metrics import f1_score\n",
    "\n",
    "from sklearn.ensemble import RandomForestClassifier\n",
    "import xgboost as xgb\n",
    "from xgboost.sklearn import XGBClassifier\n",
    "from sklearn import svm\n",
    "import tensorflow as tf"
   ]
  },
  {
   "cell_type": "markdown",
   "metadata": {},
   "source": [
    "# 데이터로드"
   ]
  },
  {
   "cell_type": "code",
   "execution_count": 2,
   "metadata": {},
   "outputs": [],
   "source": [
    "data = pd.read_csv('data_no8.csv')\n",
    "data_x = pd.read_csv('data_x.csv')\n",
    "data_y = pd.read_csv('data_y.csv')\n",
    "\n",
    "data_x_dnn = np.load('data_x_norm.npy')\n",
    "data_y_dnn = np.loadtxt('data_y.csv', skiprows=1, delimiter=',')\n",
    "data_y_dnn = np.array(data_y_dnn).reshape(-1,1)\n"
   ]
  },
  {
   "cell_type": "markdown",
   "metadata": {},
   "source": [
    "### 트레인 테스트셋 나누기"
   ]
  },
  {
   "cell_type": "code",
   "execution_count": 3,
   "metadata": {},
   "outputs": [],
   "source": [
    "#for dnn\n",
    "X_train_dnn, X_test_dnn, y_train_dnn, y_test_dnn = train_test_split(data_x_dnn, data_y_dnn, test_size=0.2,random_state = 42)\n",
    "#for the others\n",
    "X_train, X_test, y_train, y_test = train_test_split(data_x, data_y,test_size=0.2, random_state = 42)"
   ]
  },
  {
   "cell_type": "code",
   "execution_count": 25,
   "metadata": {},
   "outputs": [],
   "source": [
    "# X_train, X_test, y_train, y_test = train_test_split(data, data['DE1_dg'],test_size=0.2, random_state = 42)\n",
    "# X_train = X_train.iloc[:, ~X_train.columns.isin(['DE1_dg'])]\n",
    "# X_test = X_test.iloc[:, ~X_test.columns.isin(['DE1_dg'])]"
   ]
  },
  {
   "cell_type": "code",
   "execution_count": 4,
   "metadata": {},
   "outputs": [
    {
     "data": {
      "text/plain": [
       "array([[-0.25460342, -0.47701003, -1.07009819, ..., -0.33052995,\n",
       "         1.81635821,  1.29455465],\n",
       "       [ 0.16594132,  2.09639197, -1.07009819, ..., -0.15436423,\n",
       "         0.84346473, -0.23941732],\n",
       "       [ 0.37621369, -0.47701003,  0.93449369, ..., -0.27180804,\n",
       "        -0.6158755 , -0.23941732],\n",
       "       ...,\n",
       "       [-1.30596528, -0.47701003, -1.07009819, ..., -0.33052995,\n",
       "        -0.6158755 , -0.23941732],\n",
       "       [ 0.58648607, -0.47701003, -1.07009819, ..., -0.21308613,\n",
       "        -0.6158755 ,  1.29455465],\n",
       "       [ 1.00703081,  2.09639197, -1.07009819, ..., -0.27180804,\n",
       "        -0.6158755 ,  1.29455465]])"
      ]
     },
     "execution_count": 4,
     "metadata": {},
     "output_type": "execute_result"
    }
   ],
   "source": [
    "X_train_dnn"
   ]
  },
  {
   "cell_type": "code",
   "execution_count": 11,
   "metadata": {},
   "outputs": [
    {
     "data": {
      "text/plain": [
       "array([[-0.25460342, -0.47701003, -1.07009819, ..., -0.33052995,\n",
       "         1.81635821,  1.29455465],\n",
       "       [ 0.16594132,  2.09639197, -1.07009819, ..., -0.15436423,\n",
       "         0.84346473, -0.23941732],\n",
       "       [ 0.37621369, -0.47701003,  0.93449369, ..., -0.27180804,\n",
       "        -0.6158755 , -0.23941732],\n",
       "       ...,\n",
       "       [-1.30596528, -0.47701003, -1.07009819, ..., -0.33052995,\n",
       "        -0.6158755 , -0.23941732],\n",
       "       [ 0.58648607, -0.47701003, -1.07009819, ..., -0.21308613,\n",
       "        -0.6158755 ,  1.29455465],\n",
       "       [ 1.00703081,  2.09639197, -1.07009819, ..., -0.27180804,\n",
       "        -0.6158755 ,  1.29455465]])"
      ]
     },
     "execution_count": 11,
     "metadata": {},
     "output_type": "execute_result"
    }
   ],
   "source": [
    "np.array(X_train)"
   ]
  },
  {
   "cell_type": "markdown",
   "metadata": {},
   "source": [
    "# DNN"
   ]
  },
  {
   "cell_type": "code",
   "execution_count": 5,
   "metadata": {},
   "outputs": [],
   "source": [
    "X = tf.placeholder(tf.float32, shape=(None, 321))\n",
    "Y = tf.placeholder(tf.float32, shape=(None,1))\n",
    "training = tf.placeholder(tf.bool)"
   ]
  },
  {
   "cell_type": "code",
   "execution_count": 6,
   "metadata": {},
   "outputs": [],
   "source": [
    "#layers\n",
    "L = 6\n",
    "# units\n",
    "units=[X.shape[1] ,256,128,64,32,16,8,1]   \n",
    "\n",
    "W1 = tf.get_variable('W1',shape=[units[0],units[1]], initializer= tf.contrib.layers.variance_scaling_initializer())\n",
    "B1 = tf.Variable(tf.random_normal([units[1]]))\n",
    "Z1 = tf.matmul(X,W1)+B1\n",
    "Z1 = tf.layers.batch_normalization(Z1)\n",
    "A1 = tf.nn.relu(Z1)\n",
    "dropout1 = tf.layers.dropout(A1, rate=0.7, training=training)\n",
    "\n",
    "W2 = tf.get_variable('W2',shape=[ units[1],units[2]], initializer= tf.contrib.layers.variance_scaling_initializer())\n",
    "B2 = tf.Variable(tf.random_normal([units[2]]))\n",
    "Z2 = tf.matmul(A1,W2)+B2\n",
    "Z2 = tf.layers.batch_normalization(Z2)\n",
    "A2 = tf.nn.relu(Z2)\n",
    "dropout2 = tf.layers.dropout(A2, rate=0.7, training=training)\n",
    "\n",
    "W3 = tf.get_variable('W3',shape=[ units[2],units[3]], initializer= tf.contrib.layers.variance_scaling_initializer())\n",
    "B3 = tf.Variable(tf.random_normal([units[3]]))\n",
    "Z3 = tf.matmul(A2,W3)+B3\n",
    "Z3 = tf.layers.batch_normalization(Z3)\n",
    "A3 = tf.nn.relu(Z3)\n",
    "dropout3 = tf.layers.dropout(A3, rate=0.7, training=training)\n",
    "\n",
    "W4 = tf.get_variable('W4',shape=[ units[3],units[4]], initializer= tf.contrib.layers.variance_scaling_initializer())\n",
    "B4 = tf.Variable(tf.random_normal([units[4]]))\n",
    "Z4 = tf.matmul(A3,W4)+B4\n",
    "Z4 = tf.layers.batch_normalization(Z4)\n",
    "A4 = tf.nn.relu(Z4)\n",
    "dropout4 = tf.layers.dropout(A4, rate=0.7, training=training)\n",
    "\n",
    "W5 = tf.get_variable('W5', shape = [units[4], units[5]], initializer = tf.contrib.layers.variance_scaling_initializer())\n",
    "B5 = tf.Variable(tf.random_normal([units[5]]))\n",
    "Z5 = tf.matmul(A4,W5)+B5\n",
    "Z5 = tf.layers.batch_normalization(Z5)\n",
    "A5 = tf.nn.relu(Z5)\n",
    "dropout5 = tf.layers.dropout(A5, rate=0.7, training=training)\n",
    "\n",
    "W6 = tf.get_variable('W6', shape = [units[5], units[6]], initializer = tf.contrib.layers.variance_scaling_initializer())\n",
    "B6 = tf.Variable(tf.random_normal([units[6]]))\n",
    "Z6 = tf.matmul(A5,W6)+B6\n",
    "Z6 = tf.layers.batch_normalization(Z6)\n",
    "A6 = tf.nn.sigmoid(Z6)\n",
    "dropout6 = tf.layers.dropout(A6, rate=0.7, training=training)\n",
    "\n",
    "W7 = tf.get_variable('W7', shape = [units[6], units[7]], initializer = tf.contrib.layers.variance_scaling_initializer())\n",
    "B7 = tf.Variable(tf.random_normal([units[7]]))\n",
    "Z7 = tf.matmul(A6,W7)+B7\n",
    "\n",
    "cost = tf.reduce_mean(tf.reduce_sum(tf.nn.sigmoid_cross_entropy_with_logits(labels= Y, logits=Z7)))\n",
    "optimizer = tf.train.AdamOptimizer(0.001).minimize(cost)\n"
   ]
  },
  {
   "cell_type": "code",
   "execution_count": 39,
   "metadata": {},
   "outputs": [
    {
     "name": "stdout",
     "output_type": "stream",
     "text": [
      "iter : 0, cost : 401.302490234375\n",
      "iter : 200, cost : 401.302490234375\n",
      "iter : 400, cost : 401.3024597167969\n",
      "iter : 600, cost : 401.30242919921875\n",
      "iter : 800, cost : 401.30242919921875\n",
      "iter : 1000, cost : 401.30242919921875\n",
      "iter : 1200, cost : 401.30242919921875\n",
      "iter : 1400, cost : 401.30242919921875\n",
      "iter : 1600, cost : 401.30242919921875\n",
      "iter : 1800, cost : 401.30242919921875\n",
      "iter : 2000, cost : 401.30242919921875\n",
      "iter : 2200, cost : 401.30242919921875\n",
      "iter : 2400, cost : 401.30242919921875\n",
      "iter : 2600, cost : 401.30242919921875\n",
      "iter : 2800, cost : 401.30242919921875\n"
     ]
    }
   ],
   "source": [
    "# sess = tf.Session()\n",
    "# sess.run(tf.global_variables_initializer())\n",
    "\n",
    "mini = 64\n",
    "epoch= 3000\n",
    "n_mini = epoch//mini\n",
    "for i in range(epoch):\n",
    "    for j in range(n_mini):\n",
    "        c , _ = sess.run([cost, optimizer], \n",
    "                         feed_dict={X: X_train_dnn[j * mini : (j+1) * mini], Y: y_train_dnn[j * mini : (j+1) * mini],\n",
    "                                   training:True})\n",
    "    c , _ = sess.run([cost, optimizer], \n",
    "                         feed_dict={X: X_train_dnn[n_mini * mini :], Y: y_train_dnn[n_mini * mini :],\n",
    "                                   training:True})    \n",
    "    if i%200 == 0:\n",
    "        print('iter : {}, cost : {}'.format(i,c))"
   ]
  },
  {
   "cell_type": "code",
   "execution_count": 40,
   "metadata": {},
   "outputs": [],
   "source": [
    "yhat_test = sess.run(tf.round(tf.nn.sigmoid(Z7)), feed_dict={X:X_test_dnn, training:False})"
   ]
  },
  {
   "cell_type": "code",
   "execution_count": 41,
   "metadata": {
    "scrolled": true
   },
   "outputs": [
    {
     "data": {
      "text/plain": [
       "0.7437262357414448"
      ]
     },
     "execution_count": 41,
     "metadata": {},
     "output_type": "execute_result"
    }
   ],
   "source": [
    "#f1 score\n",
    "f1_score(y_test,yhat_test)"
   ]
  },
  {
   "cell_type": "code",
   "execution_count": 31,
   "metadata": {},
   "outputs": [],
   "source": [
    "dnn_yhat = sess.run(tf.nn.sigmoid(Z7), feed_dict={X:X_test_dnn, training:False})"
   ]
  },
  {
   "cell_type": "code",
   "execution_count": 68,
   "metadata": {
    "scrolled": true
   },
   "outputs": [
    {
     "data": {
      "text/plain": [
       "array([[0., 0.],\n",
       "       [0., 0.],\n",
       "       [0., 0.],\n",
       "       ...,\n",
       "       [0., 0.],\n",
       "       [0., 0.],\n",
       "       [0., 0.]])"
      ]
     },
     "execution_count": 68,
     "metadata": {},
     "output_type": "execute_result"
    }
   ],
   "source": [
    "dnn_prob = np.zeros((dnn_yhat.shape[0],2))"
   ]
  },
  {
   "cell_type": "code",
   "execution_count": 69,
   "metadata": {},
   "outputs": [],
   "source": [
    "for i in range(len(dnn_yhat)):\n",
    "    if dnn_yhat[i] < 0.5:\n",
    "        dnn_prob[i][0] = dnn_yhat[i]\n",
    "    else:\n",
    "        dnn_prob[i][1] = dnn_yhat[i] - 0.5"
   ]
  },
  {
   "cell_type": "code",
   "execution_count": 70,
   "metadata": {},
   "outputs": [
    {
     "data": {
      "text/plain": [
       "array([[0.0025641 , 0.        ],\n",
       "       [0.0025641 , 0.        ],\n",
       "       [0.        , 0.14181608],\n",
       "       ...,\n",
       "       [0.0025641 , 0.        ],\n",
       "       [0.0025641 , 0.        ],\n",
       "       [0.0025641 , 0.        ]])"
      ]
     },
     "execution_count": 70,
     "metadata": {},
     "output_type": "execute_result"
    }
   ],
   "source": [
    "dnn_prob"
   ]
  },
  {
   "cell_type": "markdown",
   "metadata": {},
   "source": [
    "# xgboost"
   ]
  },
  {
   "cell_type": "code",
   "execution_count": 34,
   "metadata": {
    "scrolled": false
   },
   "outputs": [
    {
     "name": "stderr",
     "output_type": "stream",
     "text": [
      "c:\\users\\nb-0242\\anaconda3\\envs\\ximz\\lib\\site-packages\\sklearn\\preprocessing\\label.py:219: DataConversionWarning: A column-vector y was passed when a 1d array was expected. Please change the shape of y to (n_samples, ), for example using ravel().\n",
      "  y = column_or_1d(y, warn=True)\n",
      "c:\\users\\nb-0242\\anaconda3\\envs\\ximz\\lib\\site-packages\\sklearn\\preprocessing\\label.py:252: DataConversionWarning: A column-vector y was passed when a 1d array was expected. Please change the shape of y to (n_samples, ), for example using ravel().\n",
      "  y = column_or_1d(y, warn=True)\n"
     ]
    },
    {
     "data": {
      "text/plain": [
       "XGBClassifier(base_score=0.5, booster='gbtree', colsample_bylevel=1,\n",
       "       colsample_bytree=1, gamma=0, learning_rate=0.1, max_delta_step=0,\n",
       "       max_depth=3, min_child_weight=1, missing=None, n_estimators=100,\n",
       "       n_jobs=1, nthread=None, objective='binary:logistic', random_state=0,\n",
       "       reg_alpha=0, reg_lambda=1, scale_pos_weight=1, seed=None,\n",
       "       silent=True, subsample=1)"
      ]
     },
     "execution_count": 34,
     "metadata": {},
     "output_type": "execute_result"
    }
   ],
   "source": [
    "xgb_ = XGBClassifier()\n",
    "xgb_.fit(X_train, y_train)"
   ]
  },
  {
   "cell_type": "code",
   "execution_count": 65,
   "metadata": {},
   "outputs": [],
   "source": [
    "xgb_prob = xgb_.predict_proba(X_test)"
   ]
  },
  {
   "cell_type": "code",
   "execution_count": 54,
   "metadata": {},
   "outputs": [
    {
     "data": {
      "text/plain": [
       "0.7570332480818415"
      ]
     },
     "execution_count": 54,
     "metadata": {},
     "output_type": "execute_result"
    }
   ],
   "source": [
    "xgb_yhat = xgb_.predict(X_test)\n",
    "f1_score(y_test, xgb_yhat)"
   ]
  },
  {
   "cell_type": "code",
   "execution_count": 124,
   "metadata": {},
   "outputs": [],
   "source": [
    "xgb_imp=pd.Series(xgb_.feature_importances_,index=X_train.columns)"
   ]
  },
  {
   "cell_type": "markdown",
   "metadata": {},
   "source": [
    "# svm"
   ]
  },
  {
   "cell_type": "code",
   "execution_count": 61,
   "metadata": {},
   "outputs": [
    {
     "name": "stderr",
     "output_type": "stream",
     "text": [
      "c:\\users\\nb-0242\\anaconda3\\envs\\ximz\\lib\\site-packages\\sklearn\\utils\\validation.py:752: DataConversionWarning: A column-vector y was passed when a 1d array was expected. Please change the shape of y to (n_samples, ), for example using ravel().\n",
      "  y = column_or_1d(y, warn=True)\n"
     ]
    },
    {
     "data": {
      "text/plain": [
       "SVC(C=1.0, cache_size=200, class_weight={0: 3, 1: 7}, coef0=0.0,\n",
       "  decision_function_shape='ovr', degree=3, gamma='scale', kernel='rbf',\n",
       "  max_iter=-1, probability=True, random_state=None, shrinking=True,\n",
       "  tol=0.001, verbose=False)"
      ]
     },
     "execution_count": 61,
     "metadata": {},
     "output_type": "execute_result"
    }
   ],
   "source": [
    "svm_ =svm.SVC(probability = True ,gamma='scale' ,class_weight={0:3, 1:7})\n",
    "svm_.fit(X_train,y_train)"
   ]
  },
  {
   "cell_type": "code",
   "execution_count": 64,
   "metadata": {},
   "outputs": [],
   "source": [
    "svm_prob=svm_.predict_proba(X_test)"
   ]
  },
  {
   "cell_type": "code",
   "execution_count": 62,
   "metadata": {},
   "outputs": [],
   "source": [
    "svm_yhat = svm_.predict(X_test)"
   ]
  },
  {
   "cell_type": "code",
   "execution_count": 63,
   "metadata": {},
   "outputs": [
    {
     "data": {
      "text/plain": [
       "0.7458952306489446"
      ]
     },
     "execution_count": 63,
     "metadata": {},
     "output_type": "execute_result"
    }
   ],
   "source": [
    "f1_score(y_test, svm_yhat)"
   ]
  },
  {
   "cell_type": "markdown",
   "metadata": {},
   "source": [
    "# rf"
   ]
  },
  {
   "cell_type": "code",
   "execution_count": 36,
   "metadata": {},
   "outputs": [
    {
     "name": "stderr",
     "output_type": "stream",
     "text": [
      "c:\\users\\nb-0242\\anaconda3\\envs\\ximz\\lib\\site-packages\\sklearn\\ensemble\\forest.py:248: FutureWarning: The default value of n_estimators will change from 10 in version 0.20 to 100 in 0.22.\n",
      "  \"10 in version 0.20 to 100 in 0.22.\", FutureWarning)\n",
      "c:\\users\\nb-0242\\anaconda3\\envs\\ximz\\lib\\site-packages\\ipykernel_launcher.py:2: DataConversionWarning: A column-vector y was passed when a 1d array was expected. Please change the shape of y to (n_samples,), for example using ravel().\n",
      "  \n"
     ]
    },
    {
     "data": {
      "text/plain": [
       "RandomForestClassifier(bootstrap=True, class_weight=None, criterion='gini',\n",
       "            max_depth=None, max_features='auto', max_leaf_nodes=None,\n",
       "            min_impurity_decrease=0.0, min_impurity_split=None,\n",
       "            min_samples_leaf=1, min_samples_split=2,\n",
       "            min_weight_fraction_leaf=0.0, n_estimators=10, n_jobs=-1,\n",
       "            oob_score=False, random_state=None, verbose=0,\n",
       "            warm_start=False)"
      ]
     },
     "execution_count": 36,
     "metadata": {},
     "output_type": "execute_result"
    }
   ],
   "source": [
    "rf = RandomForestClassifier(n_jobs=-1)\n",
    "rf.fit(X_train, y_train)"
   ]
  },
  {
   "cell_type": "code",
   "execution_count": 66,
   "metadata": {},
   "outputs": [],
   "source": [
    "rf_prob = rf.predict_proba(X_test)"
   ]
  },
  {
   "cell_type": "code",
   "execution_count": 123,
   "metadata": {},
   "outputs": [
    {
     "data": {
      "text/plain": [
       "0.7176258992805755"
      ]
     },
     "execution_count": 123,
     "metadata": {},
     "output_type": "execute_result"
    }
   ],
   "source": [
    "rf_yhat = rf.predict(X_test)\n",
    "rf_imp = pd.Series(rf.feature_importances_, index=X_test.columns)\n",
    "f1_score(y_test, rf_yhat)"
   ]
  },
  {
   "cell_type": "markdown",
   "metadata": {},
   "source": [
    "# ensemble ㅏㅡㅏ!!!"
   ]
  },
  {
   "cell_type": "code",
   "execution_count": 114,
   "metadata": {},
   "outputs": [],
   "source": [
    "ensemble_prob = 0.2 * dnn_prob + 0.1 * rf_prob + 0.4 * xgb_prob + 0.3 * svm_prob"
   ]
  },
  {
   "cell_type": "code",
   "execution_count": 115,
   "metadata": {},
   "outputs": [
    {
     "data": {
      "text/plain": [
       "array([[0.71710667, 0.08340617],\n",
       "       [0.7947106 , 0.00580223],\n",
       "       [0.62898112, 0.19938208],\n",
       "       ...,\n",
       "       [0.75906403, 0.04144878],\n",
       "       [0.79159122, 0.00892158],\n",
       "       [0.78646997, 0.01404285]])"
      ]
     },
     "execution_count": 115,
     "metadata": {},
     "output_type": "execute_result"
    }
   ],
   "source": [
    "ensemble_prob"
   ]
  },
  {
   "cell_type": "code",
   "execution_count": 116,
   "metadata": {},
   "outputs": [],
   "source": [
    "yhat = np.argmax(ensemble_prob,axis=1)"
   ]
  },
  {
   "cell_type": "code",
   "execution_count": 117,
   "metadata": {
    "scrolled": true
   },
   "outputs": [
    {
     "data": {
      "text/plain": [
       "array([0, 0, 0, ..., 0, 0, 0], dtype=int64)"
      ]
     },
     "execution_count": 117,
     "metadata": {},
     "output_type": "execute_result"
    }
   ],
   "source": [
    "yhat"
   ]
  },
  {
   "cell_type": "code",
   "execution_count": 118,
   "metadata": {},
   "outputs": [
    {
     "data": {
      "text/plain": [
       "0.9435318275154004"
      ]
     },
     "execution_count": 118,
     "metadata": {},
     "output_type": "execute_result"
    }
   ],
   "source": [
    "sum(np.equal(yhat.reshape(-1,1), y_test.values))[0]/len(y_test)"
   ]
  },
  {
   "cell_type": "code",
   "execution_count": 119,
   "metadata": {},
   "outputs": [
    {
     "data": {
      "text/plain": [
       "0.7717842323651453"
      ]
     },
     "execution_count": 119,
     "metadata": {},
     "output_type": "execute_result"
    }
   ],
   "source": [
    "f1_score(y_test, yhat)"
   ]
  },
  {
   "cell_type": "markdown",
   "metadata": {},
   "source": [
    "# feature importances"
   ]
  },
  {
   "cell_type": "code",
   "execution_count": 128,
   "metadata": {},
   "outputs": [],
   "source": [
    "xgb_imp_50 = xgb_imp.sort_values(ascending=False)[:50]\n",
    "rf_imp_50 = rf_imp.sort_values(ascending=False)[:50]"
   ]
  },
  {
   "cell_type": "code",
   "execution_count": 155,
   "metadata": {},
   "outputs": [
    {
     "data": {
      "text/plain": [
       "<matplotlib.axes._subplots.AxesSubplot at 0x1ccc5bdfb70>"
      ]
     },
     "execution_count": 155,
     "metadata": {},
     "output_type": "execute_result"
    },
    {
     "data": {
      "image/png": "[encoded data removed]",
      "text/plain": [
       "<Figure size 720x1080 with 1 Axes>"
      ]
     },
     "metadata": {
      "needs_background": "light"
     },
     "output_type": "display_data"
    }
   ],
   "source": [
    "plt.figure(figsize=(10,15))\n",
    "plt.figtext(.5,.9,'Feature importances Top 50', fontsize=40, ha='center')\n",
    "xgb_imp_50.plot(kind='barh',grid=True,fontsize=15, colormap='hsv')"
   ]
  },
  {
   "cell_type": "code",
   "execution_count": 132,
   "metadata": {},
   "outputs": [
    {
     "data": {
      "text/plain": [
       "<matplotlib.axes._subplots.AxesSubplot at 0x1ccc22b3860>"
      ]
     },
     "execution_count": 132,
     "metadata": {},
     "output_type": "execute_result"
    },
    {
     "data": {
      "image/png": "[encoded data removed]",
      "text/plain": [
       "<Figure size 1440x720 with 1 Axes>"
      ]
     },
     "metadata": {
      "needs_background": "light"
     },
     "output_type": "display_data"
    }
   ],
   "source": [
    "plt.figure(figsize=(20,10))\n",
    "rf_imp_50.plot(kind='bar')"
   ]
  },
  {
   "cell_type": "code",
   "execution_count": null,
   "metadata": {},
   "outputs": [],
   "source": []
  }
 ],
 "metadata": {
  "kernelspec": {
   "display_name": "Python 3",
   "language": "python",
   "name": "python3"
  },
  "language_info": {
   "codemirror_mode": {
    "name": "ipython",
    "version": 3
   },
   "file_extension": ".py",
   "mimetype": "text/x-python",
   "name": "python",
   "nbconvert_exporter": "python",
   "pygments_lexer": "ipython3",
   "version": "3.5.0"
  }
 },
 "nbformat": 4,
 "nbformat_minor": 2
}
