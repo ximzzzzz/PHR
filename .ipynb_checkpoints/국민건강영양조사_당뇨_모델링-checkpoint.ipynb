{
 "cells": [
  {
   "cell_type": "code",
   "execution_count": 1,
   "metadata": {},
   "outputs": [],
   "source": [
    "import pandas as pd\n",
    "import numpy as np\n",
    "import seaborn as sns\n",
    "import re\n",
    "from sklearn.ensemble import RandomForestClassifier\n",
    "import sklearn\n",
    "import matplotlib.pyplot as plt\n",
    "import sys\n",
    "from sklearn.model_selection import train_test_split\n",
    "from sklearn.metrics import confusion_matrix\n",
    "from sklearn.metrics import f1_score"
   ]
  },
  {
   "cell_type": "code",
   "execution_count": 2,
   "metadata": {},
   "outputs": [
    {
     "data": {
      "text/plain": [
       "11"
      ]
     },
     "execution_count": 2,
     "metadata": {},
     "output_type": "execute_result"
    }
   ],
   "source": [
    "d=[]\n",
    "for year in range(7,18):\n",
    "    if year//10==0:\n",
    "        data=pd.read_sas('c:/users/nb-0242/desktop/PHR/질병관리본부/HN'+str(0)+str(year)+'_ALL.sas7bdat', encoding='latin-1')\n",
    "        d.append(data)\n",
    "    else :\n",
    "        data=pd.read_sas('c:/users/nb-0242/desktop/PHR/질병관리본부/HN'+str(year)+'_ALL.sas7bdat', encoding='latin-1')\n",
    "        d.append(data)\n",
    "len(d)"
   ]
  },
  {
   "cell_type": "code",
   "execution_count": 77,
   "metadata": {
    "scrolled": false
   },
   "outputs": [
    {
     "data": {
      "text/plain": [
       "101"
      ]
     },
     "execution_count": 77,
     "metadata": {},
     "output_type": "execute_result"
    }
   ],
   "source": [
    "var = pd.read_csv('var.csv',header=None)\n",
    "var = list(var[0].values)\n",
    "len(var)"
   ]
  },
  {
   "cell_type": "code",
   "execution_count": 78,
   "metadata": {},
   "outputs": [],
   "source": [
    "for kill in ['EC_wht_23', 'HE_DMfh3' ,'HE_HLdg' ,'HE_Bplt', 'N_MUFA' ,'N_N3' ,'N_SFA' ,'N_N6', 'N_PUFA', 'D_8_2', 'GS_mea_r_3', 'GS_mea_l_3', 'GS_mea_r_1', 'GS_mea_r_2', 'D_8_1', 'D_8_3']:\n",
    "    \n",
    "    var.remove(kill)"
   ]
  },
  {
   "cell_type": "code",
   "execution_count": 79,
   "metadata": {},
   "outputs": [],
   "source": [
    "for kill in ['N_ASH' ,'N_FIBER', 'BS2_1', 'LQ_VAS' ,'DI1_lt']:\n",
    "    var.remove(kill)"
   ]
  },
  {
   "cell_type": "code",
   "execution_count": 80,
   "metadata": {},
   "outputs": [],
   "source": [
    "for kill in ['O_DMFTP', 'BP8' ,'OR1']:\n",
    "    var.remove(kill)"
   ]
  },
  {
   "cell_type": "code",
   "execution_count": 81,
   "metadata": {},
   "outputs": [],
   "source": [
    "var.remove('HE_HDL_st2')"
   ]
  },
  {
   "cell_type": "code",
   "execution_count": 82,
   "metadata": {},
   "outputs": [],
   "source": [
    "var.remove('HE_HbA1c')"
   ]
  },
  {
   "cell_type": "code",
   "execution_count": 83,
   "metadata": {},
   "outputs": [],
   "source": [
    "var.remove('BE3_33')"
   ]
  },
  {
   "cell_type": "code",
   "execution_count": 84,
   "metadata": {},
   "outputs": [
    {
     "data": {
      "text/plain": [
       "74"
      ]
     },
     "execution_count": 84,
     "metadata": {},
     "output_type": "execute_result"
    }
   ],
   "source": [
    "len(var)"
   ]
  },
  {
   "cell_type": "code",
   "execution_count": 72,
   "metadata": {},
   "outputs": [],
   "source": [
    "import sys\n",
    "\n",
    "mod = sys.modules[__name__]\n",
    "for i in range(11):\n",
    "    setattr(mod, 'd{}'.format(i+7), d[i][var])"
   ]
  },
  {
   "cell_type": "code",
   "execution_count": 87,
   "metadata": {},
   "outputs": [],
   "source": [
    "df=[]\n",
    "for i in range(11):\n",
    "    data = d[i][var].dropna()\n",
    "    df.append(data)"
   ]
  },
  {
   "cell_type": "code",
   "execution_count": 73,
   "metadata": {
    "scrolled": true
   },
   "outputs": [
    {
     "name": "stdout",
     "output_type": "stream",
     "text": [
      "(4594, 73)\n"
     ]
    },
    {
     "data": {
      "text/plain": [
       "HE_wt         389\n",
       "N_VITC        503\n",
       "age             0\n",
       "HE_BMI        389\n",
       "HE_wc         391\n",
       "N_FE          503\n",
       "N_B1          503\n",
       "N_B2          503\n",
       "N_CA          503\n",
       "N_CAROT       503\n",
       "N_WAT_C       503\n",
       "N_WATER       503\n",
       "N_CHO         503\n",
       "ainc_1         75\n",
       "N_VA          503\n",
       "N_RETIN       503\n",
       "N_DIET        503\n",
       "N_PROT        503\n",
       "N_PHOS        503\n",
       "N_NIAC        503\n",
       "N_NA          503\n",
       "N_EN          503\n",
       "N_FAT         503\n",
       "N_K           503\n",
       "ainc          265\n",
       "N_INTK        503\n",
       "HE_ht         389\n",
       "HE_sbp2      1021\n",
       "HE_dbp1      1021\n",
       "HE_dbp2      1021\n",
       "             ... \n",
       "DI1_ag       1611\n",
       "DI1_2        1611\n",
       "BD2          1238\n",
       "DI2_2        1611\n",
       "DI2_pt       1611\n",
       "DI1_pt       1611\n",
       "HE_DMdr       348\n",
       "educ         1238\n",
       "genertn        75\n",
       "DI2_pr       1611\n",
       "HE_PLS       1176\n",
       "cfam           75\n",
       "DI2_dg       1611\n",
       "HE_alt       1113\n",
       "HE_ast       1114\n",
       "HE_WBC       1127\n",
       "HE_crea      1113\n",
       "HE_HB        1127\n",
       "EC_pedu_1    1611\n",
       "HE_RBC       1127\n",
       "HE_HCT       1127\n",
       "HE_BUN       1113\n",
       "HE_TG        1170\n",
       "HE_chol      1170\n",
       "BM8          1611\n",
       "BM7          1611\n",
       "BE3_31       1238\n",
       "L_OUT_FQ      504\n",
       "HE_HBsAg     1113\n",
       "BD1_11       1238\n",
       "Length: 73, dtype: int64"
      ]
     },
     "execution_count": 73,
     "metadata": {},
     "output_type": "execute_result"
    }
   ],
   "source": [
    "print(d7.shape)\n",
    "d7.isnull().sum()"
   ]
  },
  {
   "cell_type": "code",
   "execution_count": 89,
   "metadata": {},
   "outputs": [],
   "source": [
    "data = pd.concat([df[0],df[1],df[2],df[3],df[4],df[5],df[6],df[7],df[8],df[9],df[10]], axis=0, ignore_index=True)"
   ]
  },
  {
   "cell_type": "code",
   "execution_count": 92,
   "metadata": {},
   "outputs": [
    {
     "data": {
      "text/plain": [
       "8.0    24620\n",
       "0.0    24040\n",
       "1.0     4021\n",
       "9.0      503\n",
       "Name: DE1_dg, dtype: int64"
      ]
     },
     "execution_count": 92,
     "metadata": {},
     "output_type": "execute_result"
    }
   ],
   "source": [
    "data['DE1_dg'].value_counts()"
   ]
  },
  {
   "cell_type": "code",
   "execution_count": 95,
   "metadata": {},
   "outputs": [
    {
     "name": "stderr",
     "output_type": "stream",
     "text": [
      "C:\\Users\\NB-0242\\Anaconda3\\lib\\site-packages\\ipykernel_launcher.py:1: SettingWithCopyWarning: \n",
      "A value is trying to be set on a copy of a slice from a DataFrame.\n",
      "Try using .loc[row_indexer,col_indexer] = value instead\n",
      "\n",
      "See the caveats in the documentation: http://pandas.pydata.org/pandas-docs/stable/indexing.html#indexing-view-versus-copy\n",
      "  \"\"\"Entry point for launching an IPython kernel.\n"
     ]
    }
   ],
   "source": [
    "data[data['DE1_dg']==0]['DE1_dg']=8.0"
   ]
  },
  {
   "cell_type": "code",
   "execution_count": 101,
   "metadata": {},
   "outputs": [],
   "source": [
    "data.loc[data['DE1_dg']==0, ['DE1_dg']] =8.0"
   ]
  },
  {
   "cell_type": "code",
   "execution_count": 104,
   "metadata": {},
   "outputs": [
    {
     "data": {
      "text/plain": [
       "8.0    48660\n",
       "1.0     4021\n",
       "Name: DE1_dg, dtype: int64"
      ]
     },
     "execution_count": 104,
     "metadata": {},
     "output_type": "execute_result"
    }
   ],
   "source": [
    "data_ = data.loc[data['DE1_dg']!=9.0, :]\n",
    "data_['DE1_dg'].value_counts()"
   ]
  },
  {
   "cell_type": "code",
   "execution_count": 105,
   "metadata": {},
   "outputs": [],
   "source": [
    "# data_.to_csv('data_.csv', index=False)"
   ]
  },
  {
   "cell_type": "code",
   "execution_count": null,
   "metadata": {},
   "outputs": [],
   "source": [
    "import pandas as pd\n",
    "import numpy as np\n",
    "import seaborn as sns\n",
    "import re\n",
    "from sklearn.ensemble import RandomForestClassifier\n",
    "import sklearn\n",
    "import matplotlib.pyplot as plt\n",
    "import sys\n",
    "from sklearn.model_selection import train_test_split\n",
    "from sklearn.metrics import confusion_matrix\n",
    "from sklearn.metrics import f1_score"
   ]
  },
  {
   "cell_type": "code",
   "execution_count": 3,
   "metadata": {},
   "outputs": [],
   "source": [
    "data_ = pd.read_csv('c:/users/nb-0242/jupyter/PHR/data_.csv')"
   ]
  },
  {
   "cell_type": "markdown",
   "metadata": {},
   "source": [
    "# 모델링 가ㅡㅏ"
   ]
  },
  {
   "cell_type": "code",
   "execution_count": 113,
   "metadata": {},
   "outputs": [],
   "source": [
    "X_train, X_test, y_train, y_test = train_test_split(data_, data_['DE1_dg'],test_size=0.2)\n",
    "X_train = X_train.iloc[:, ~X_train.columns.isin(['DE1_dg'])]\n",
    "X_test = X_test.iloc[:, ~X_test.columns.isin(['DE1_dg'])]\n",
    "rf = RandomForestClassifier(n_jobs=-1)\n",
    "rf.fit(X_train, y_train)\n",
    "rf_yhat = rf.predict(X_test)\n",
    "\n",
    "feat_importances = pd.Series(rf.feature_importances_, index=X_test.columns)\n"
   ]
  },
  {
   "cell_type": "code",
   "execution_count": 114,
   "metadata": {},
   "outputs": [
    {
     "data": {
      "text/plain": [
       "0.2829525483304042"
      ]
     },
     "execution_count": 114,
     "metadata": {},
     "output_type": "execute_result"
    }
   ],
   "source": [
    "f1_score(y_test, rf_yhat)"
   ]
  },
  {
   "cell_type": "code",
   "execution_count": 115,
   "metadata": {},
   "outputs": [
    {
     "data": {
      "text/plain": [
       "array([[ 161,  626],\n",
       "       [ 190, 9560]], dtype=int64)"
      ]
     },
     "execution_count": 115,
     "metadata": {},
     "output_type": "execute_result"
    }
   ],
   "source": [
    "confusion_matrix(y_test, rf_yhat)"
   ]
  },
  {
   "cell_type": "code",
   "execution_count": 116,
   "metadata": {},
   "outputs": [
    {
     "data": {
      "text/plain": [
       "8.0    9750\n",
       "1.0     787\n",
       "Name: DE1_dg, dtype: int64"
      ]
     },
     "execution_count": 116,
     "metadata": {},
     "output_type": "execute_result"
    }
   ],
   "source": [
    "y_test.value_counts()"
   ]
  },
  {
   "cell_type": "markdown",
   "metadata": {},
   "source": [
    "<h3> randomforest 최적화"
   ]
  },
  {
   "cell_type": "code",
   "execution_count": 131,
   "metadata": {},
   "outputs": [],
   "source": [
    "n_est = range(5,11)\n",
    "m_depth = range(30,len(X_train.columns)-1, 3)\n",
    "f1_mat=[]\n",
    "for n in n_est:\n",
    "    f1_row=[]\n",
    "    for m in m_depth:\n",
    "        rf = RandomForestClassifier(n_jobs=-1,n_estimators=n, max_depth=m )\n",
    "        rf.fit(X_train, y_train)\n",
    "        rf_yhat = rf.predict(X_test)\n",
    "        f1 = f1_score(y_test, rf_yhat)\n",
    "        f1_row.append(f1)\n",
    "    f1_mat.append(f1_row)"
   ]
  },
  {
   "cell_type": "code",
   "execution_count": 130,
   "metadata": {},
   "outputs": [
    {
     "data": {
      "text/plain": [
       "[40, 43, 46, 49, 52, 55, 58, 61, 64, 67, 70]"
      ]
     },
     "execution_count": 130,
     "metadata": {},
     "output_type": "execute_result"
    }
   ],
   "source": [
    "list(m_depth)"
   ]
  },
  {
   "cell_type": "code",
   "execution_count": 126,
   "metadata": {},
   "outputs": [
    {
     "data": {
      "text/plain": [
       "<matplotlib.axes._subplots.AxesSubplot at 0x1b7ae88e9e8>"
      ]
     },
     "execution_count": 126,
     "metadata": {},
     "output_type": "execute_result"
    },
    {
     "data": {
      "image/png": "[encoded data removed]",
      "text/plain": [
       "<Figure size 720x720 with 2 Axes>"
      ]
     },
     "metadata": {
      "needs_background": "light"
     },
     "output_type": "display_data"
    }
   ],
   "source": [
    "plt.figure(figsize=(10,10),)\n",
    "sns.heatmap(np.array(f1_mat),annot=True)"
   ]
  },
  {
   "cell_type": "code",
   "execution_count": 134,
   "metadata": {
    "scrolled": false
   },
   "outputs": [
    {
     "data": {
      "text/plain": [
       "<matplotlib.axes._subplots.AxesSubplot at 0x1b7b82d3da0>"
      ]
     },
     "execution_count": 134,
     "metadata": {},
     "output_type": "execute_result"
    },
    {
     "data": {
      "image/png": "[encoded data removed]",
      "text/plain": [
       "<Figure size 864x504 with 2 Axes>"
      ]
     },
     "metadata": {
      "needs_background": "light"
     },
     "output_type": "display_data"
    }
   ],
   "source": [
    "plt.figure(figsize=(12,7),)\n",
    "sns.heatmap(np.array(f1_mat),annot=True)"
   ]
  },
  {
   "cell_type": "markdown",
   "metadata": {},
   "source": [
    "<h3> xgboost 최적화"
   ]
  },
  {
   "cell_type": "code",
   "execution_count": 31,
   "metadata": {},
   "outputs": [
    {
     "ename": "ImportError",
     "evalue": "No module named 'sklearn.grid_search'",
     "output_type": "error",
     "traceback": [
      "\u001b[1;31m---------------------------------------------------------------------------\u001b[0m",
      "\u001b[1;31mImportError\u001b[0m                               Traceback (most recent call last)",
      "\u001b[1;32m<ipython-input-31-120060fc2e94>\u001b[0m in \u001b[0;36m<module>\u001b[1;34m\u001b[0m\n\u001b[0;32m      2\u001b[0m \u001b[1;32mfrom\u001b[0m \u001b[0mxgboost\u001b[0m\u001b[1;33m.\u001b[0m\u001b[0msklearn\u001b[0m \u001b[1;32mimport\u001b[0m \u001b[0mXGBClassifier\u001b[0m\u001b[1;33m\u001b[0m\u001b[0m\n\u001b[0;32m      3\u001b[0m \u001b[1;32mfrom\u001b[0m \u001b[0msklearn\u001b[0m \u001b[1;32mimport\u001b[0m \u001b[0mmetrics\u001b[0m   \u001b[1;31m#Additional scklearn functions\u001b[0m\u001b[1;33m\u001b[0m\u001b[0m\n\u001b[1;32m----> 4\u001b[1;33m \u001b[1;32mfrom\u001b[0m \u001b[0msklearn\u001b[0m\u001b[1;33m.\u001b[0m\u001b[0mgrid_search\u001b[0m \u001b[1;32mimport\u001b[0m \u001b[0mGridSearchCV\u001b[0m   \u001b[1;31m#Perforing grid search\u001b[0m\u001b[1;33m\u001b[0m\u001b[0m\n\u001b[0m",
      "\u001b[1;31mImportError\u001b[0m: No module named 'sklearn.grid_search'"
     ]
    }
   ],
   "source": [
    "import xgboost as xgb\n",
    "from xgboost.sklearn import XGBClassifier\n",
    "from sklearn import metrics   #Additional scklearn functions\n",
    "from sklearn.grid_search import GridSearchCV   #Perforing grid search"
   ]
  },
  {
   "cell_type": "code",
   "execution_count": 94,
   "metadata": {},
   "outputs": [],
   "source": [
    "data_.loc[data_['DE1_dg']==8,['DE1_dg']]=0\n",
    "X_train, X_test, y_train, y_test = train_test_split(data_, data_['DE1_dg'],test_size=0.2)\n",
    "X_train = X_train.iloc[:, ~X_train.columns.isin(['DE1_dg'])]\n",
    "X_test = X_test.iloc[:, ~X_test.columns.isin(['DE1_dg'])]"
   ]
  },
  {
   "cell_type": "code",
   "execution_count": null,
   "metadata": {},
   "outputs": [],
   "source": [
    "xgb.train()"
   ]
  },
  {
   "cell_type": "code",
   "execution_count": 101,
   "metadata": {},
   "outputs": [],
   "source": [
    "# Specify sufficient boosting iterations to reach a minimum\n",
    "num_round = 3000\n",
    "\n",
    "# Leave most parameters as default\n",
    "param = {'objective': 'multi:softmax', # Specify multiclass classification\n",
    "         'num_class': 2, # Number of possible output classes\n",
    "         'tree_method': 'gpu_hist' # Use GPU accelerated algorithm\n",
    "         }\n",
    "\n",
    "# Convert input data from numpy to XGBoost format\n",
    "dtrain = xgb.DMatrix(X_train, label=y_train)\n",
    "dtest = xgb.DMatrix(X_test, label=y_test)\n",
    "\n",
    "gpu_res = {} # Store accuracy result\n",
    "# Train model\n",
    "xgb_m = xgb.train(param, dtrain, num_round, evals=[(dtest, 'test')], evals_result=gpu_res,verbose_eval=False)\n"
   ]
  },
  {
   "cell_type": "code",
   "execution_count": 104,
   "metadata": {},
   "outputs": [],
   "source": [
    "xgb_m.save_model('xgb_softmax_3000.model')\n",
    "xgb_m.dump_model('dump.raw.txt')\n",
    "# xgb.dump_model('dump.raw.txt','featmap.txt')# dump model with feature map"
   ]
  },
  {
   "cell_type": "code",
   "execution_count": 102,
   "metadata": {},
   "outputs": [],
   "source": [
    "res = xgb_m.predict(dtest)"
   ]
  },
  {
   "cell_type": "code",
   "execution_count": 103,
   "metadata": {},
   "outputs": [
    {
     "data": {
      "text/plain": [
       "0.40370058873002523"
      ]
     },
     "execution_count": 103,
     "metadata": {},
     "output_type": "execute_result"
    }
   ],
   "source": [
    "f1_score(y_test, res)"
   ]
  },
  {
   "cell_type": "code",
   "execution_count": null,
   "metadata": {},
   "outputs": [],
   "source": []
  },
  {
   "cell_type": "code",
   "execution_count": 2,
   "metadata": {},
   "outputs": [
    {
     "ename": "ModuleNotFoundError",
     "evalue": "No module named 'xgboost'",
     "output_type": "error",
     "traceback": [
      "\u001b[1;31m---------------------------------------------------------------------------\u001b[0m",
      "\u001b[1;31mModuleNotFoundError\u001b[0m                       Traceback (most recent call last)",
      "\u001b[1;32m<ipython-input-2-5d385920c6f1>\u001b[0m in \u001b[0;36m<module>\u001b[1;34m()\u001b[0m\n\u001b[1;32m----> 1\u001b[1;33m \u001b[1;32mimport\u001b[0m \u001b[0mxgboost\u001b[0m \u001b[1;32mas\u001b[0m \u001b[0mxgb\u001b[0m\u001b[1;33m\u001b[0m\u001b[0m\n\u001b[0m\u001b[0;32m      2\u001b[0m \u001b[1;32mfrom\u001b[0m \u001b[0mxgboost\u001b[0m\u001b[1;33m.\u001b[0m\u001b[0msklearn\u001b[0m \u001b[1;32mimport\u001b[0m \u001b[0mXGBClassifier\u001b[0m\u001b[1;33m\u001b[0m\u001b[0m\n\u001b[0;32m      3\u001b[0m \u001b[1;32mfrom\u001b[0m \u001b[0msklearn\u001b[0m \u001b[1;32mimport\u001b[0m \u001b[0mmetrics\u001b[0m   \u001b[1;31m#Additional scklearn functions\u001b[0m\u001b[1;33m\u001b[0m\u001b[0m\n\u001b[0;32m      4\u001b[0m \u001b[1;32mfrom\u001b[0m \u001b[0msklearn\u001b[0m\u001b[1;33m.\u001b[0m\u001b[0mmodel_selection\u001b[0m \u001b[1;32mimport\u001b[0m \u001b[0mGridSearchCV\u001b[0m   \u001b[1;31m#Perforing grid search\u001b[0m\u001b[1;33m\u001b[0m\u001b[0m\n\u001b[0;32m      5\u001b[0m \u001b[1;32mfrom\u001b[0m \u001b[0msklearn\u001b[0m\u001b[1;33m.\u001b[0m\u001b[0mmodel_selection\u001b[0m \u001b[1;32mimport\u001b[0m \u001b[0mcross_validate\u001b[0m\u001b[1;33m\u001b[0m\u001b[0m\n",
      "\u001b[1;31mModuleNotFoundError\u001b[0m: No module named 'xgboost'"
     ]
    }
   ],
   "source": [
    "import xgboost as xgb\n",
    "from xgboost.sklearn import XGBClassifier\n",
    "from sklearn import metrics   #Additional scklearn functions\n",
    "from sklearn.model_selection import GridSearchCV   #Perforing grid search\n",
    "from sklearn.model_selection import cross_validate"
   ]
  },
  {
   "cell_type": "code",
   "execution_count": 55,
   "metadata": {},
   "outputs": [],
   "source": [
    "def modelfit(alg, dtrain, predictors, target, useTrainCV=True, cv_folds=5, early_stopping_rounds=50):\n",
    "    \n",
    "    if useTrainCV:\n",
    "        xgb_param = alg.get_xgb_params()\n",
    "        xgtrain = xgb.DMatrix(dtrain[predictors].values, label=dtrain[target].values)\n",
    "        cvresult = xgb.cv(xgb_param, xgtrain, num_boost_round=alg.get_params()['n_estimators'], nfold=cv_folds,\n",
    "            metrics='auc', early_stopping_rounds=early_stopping_rounds, )\n",
    "        alg.set_params(n_estimators=cvresult.shape[0])\n",
    "    \n",
    "    #Fit the algorithm on the data\n",
    "    alg.fit(dtrain[predictors], dtrain[target],eval_metric='auc')\n",
    "        \n",
    "    #Predict training set:\n",
    "    dtrain_predictions = alg.predict(dtrain[predictors])\n",
    "    dtrain_predprob = alg.predict_proba(dtrain[predictors])[:,1]\n",
    "        \n",
    "    #Print model report:\n",
    "    print(\"\\nModel Report\")\n",
    "#     print(\"Accuracy : %.4g\" % metrics.accuracy_score(dtrain['Disbursed'].values, dtrain_predictions))\n",
    "    print(\"AUC Score (Train): %f\" % metrics.roc_auc_score(dtrain[target], dtrain_predprob))\n",
    "    print('f1_score: {}'.format(f1_score(dtrain[target] , dtrain_predictions)))\n",
    "                    \n",
    "    feat_imp = pd.Series(alg.get_booster().get_fscore()).sort_values(ascending=False)\n",
    "    plt.figure(figsize=(20,10))\n",
    "    feat_imp.plot(kind='bar', title='Feature Importances')\n",
    "    plt.ylabel('Feature Importance Score')"
   ]
  },
  {
   "cell_type": "code",
   "execution_count": 87,
   "metadata": {},
   "outputs": [
    {
     "name": "stdout",
     "output_type": "stream",
     "text": [
      "\n",
      "Model Report\n",
      "AUC Score (Train): 0.965521\n",
      "f1_score: 0.5968005223636957\n"
     ]
    },
    {
     "data": {
      "image/png": "[encoded data removed]",
      "text/plain": [
       "<Figure size 1440x720 with 1 Axes>"
      ]
     },
     "metadata": {
      "needs_background": "light"
     },
     "output_type": "display_data"
    }
   ],
   "source": [
    "predictors = [x for x in data_.columns if x not in ['DE1_dg']]\n",
    "target = 'DE1_dg'\n",
    "xgb1 = XGBClassifier(\n",
    " learning_rate =0.1,\n",
    " n_estimators=5000,\n",
    " max_depth=5,\n",
    " min_child_weight=1,\n",
    " gamma=0,\n",
    " subsample=0.8,\n",
    " colsample_bytree=0.8,\n",
    " objective= 'binary:logistic',\n",
    " nthread=4,\n",
    " scale_pos_weight=1,\n",
    " seed=27)\n",
    "modelfit(xgb1, data_, predictors, target)"
   ]
  },
  {
   "cell_type": "code",
   "execution_count": 57,
   "metadata": {},
   "outputs": [
    {
     "ename": "AttributeError",
     "evalue": "'GridSearchCV' object has no attribute 'grid_scores_'",
     "output_type": "error",
     "traceback": [
      "\u001b[1;31m---------------------------------------------------------------------------\u001b[0m",
      "\u001b[1;31mAttributeError\u001b[0m                            Traceback (most recent call last)",
      "\u001b[1;32m<ipython-input-57-c868ac0a6c47>\u001b[0m in \u001b[0;36m<module>\u001b[1;34m\u001b[0m\n\u001b[0;32m      9\u001b[0m \u001b[1;33m\u001b[0m\u001b[0m\n\u001b[0;32m     10\u001b[0m \u001b[0mgsearch1\u001b[0m\u001b[1;33m.\u001b[0m\u001b[0mfit\u001b[0m\u001b[1;33m(\u001b[0m\u001b[0mdata_\u001b[0m\u001b[1;33m[\u001b[0m\u001b[0mpredictors\u001b[0m\u001b[1;33m]\u001b[0m\u001b[1;33m,\u001b[0m\u001b[0mdata_\u001b[0m\u001b[1;33m[\u001b[0m\u001b[0mtarget\u001b[0m\u001b[1;33m]\u001b[0m\u001b[1;33m)\u001b[0m\u001b[1;33m\u001b[0m\u001b[0m\n\u001b[1;32m---> 11\u001b[1;33m \u001b[0mgsearch1\u001b[0m\u001b[1;33m.\u001b[0m\u001b[0mgrid_scores_\u001b[0m\u001b[1;33m,\u001b[0m \u001b[0mgsearch1\u001b[0m\u001b[1;33m.\u001b[0m\u001b[0mbest_params_\u001b[0m\u001b[1;33m,\u001b[0m \u001b[0mgsearch1\u001b[0m\u001b[1;33m.\u001b[0m\u001b[0mbest_score_\u001b[0m\u001b[1;33m\u001b[0m\u001b[0m\n\u001b[0m",
      "\u001b[1;31mAttributeError\u001b[0m: 'GridSearchCV' object has no attribute 'grid_scores_'"
     ]
    }
   ],
   "source": [
    "param_test1 = {\n",
    " 'max_depth':range(3,10,2),\n",
    " 'min_child_weight':range(1,6,2)\n",
    "}\n",
    "gsearch1 = GridSearchCV(estimator = XGBClassifier( learning_rate =0.1, n_estimators=140, max_depth=5,\n",
    "         min_child_weight=1, gamma=0, subsample=0.8, colsample_bytree=0.8,\n",
    "         objective= 'binary:logistic', nthread=4, scale_pos_weight=1, seed=27), \n",
    "         param_grid = param_test1, scoring='roc_auc',n_jobs=4,iid=False, cv=5)\n",
    "\n",
    "gsearch1.fit(data_[predictors],data_[target])\n",
    "gsearch1.cv_results_, gsearch1.best_params_, gsearch1.best_score_"
   ]
  },
  {
   "cell_type": "code",
   "execution_count": 63,
   "metadata": {
    "scrolled": true
   },
   "outputs": [
    {
     "data": {
      "text/plain": [
       "({'mean_fit_time': array([20.28096108, 21.78055482, 21.44325538, 33.99309688, 33.42421246,\n",
       "         31.98546586, 47.84804559, 45.49295039, 44.30693579, 63.73916144,\n",
       "         58.73413301, 51.43744278]),\n",
       "  'mean_score_time': array([0.08636942, 0.09574423, 0.09195361, 0.12267094, 0.12785859,\n",
       "         0.10890779, 0.13204451, 0.13065081, 0.12606306, 0.14002581,\n",
       "         0.13523903, 0.11469555]),\n",
       "  'mean_test_score': array([0.82689871, 0.83768153, 0.84145445, 0.81758796, 0.8353894 ,\n",
       "         0.8388239 , 0.81806157, 0.83301729, 0.84044461, 0.81535407,\n",
       "         0.82939276, 0.83685751]),\n",
       "  'mean_train_score': array([0.9330369 , 0.9324974 , 0.93218055, 0.96680167, 0.96389863,\n",
       "         0.9618189 , 0.99485057, 0.99101295, 0.98793997, 0.9999697 ,\n",
       "         0.99941545, 0.99818076]),\n",
       "  'param_max_depth': masked_array(data=[3, 3, 3, 5, 5, 5, 7, 7, 7, 9, 9, 9],\n",
       "               mask=[False, False, False, False, False, False, False, False,\n",
       "                     False, False, False, False],\n",
       "         fill_value='?',\n",
       "              dtype=object),\n",
       "  'param_min_child_weight': masked_array(data=[1, 3, 5, 1, 3, 5, 1, 3, 5, 1, 3, 5],\n",
       "               mask=[False, False, False, False, False, False, False, False,\n",
       "                     False, False, False, False],\n",
       "         fill_value='?',\n",
       "              dtype=object),\n",
       "  'params': [{'max_depth': 3, 'min_child_weight': 1},\n",
       "   {'max_depth': 3, 'min_child_weight': 3},\n",
       "   {'max_depth': 3, 'min_child_weight': 5},\n",
       "   {'max_depth': 5, 'min_child_weight': 1},\n",
       "   {'max_depth': 5, 'min_child_weight': 3},\n",
       "   {'max_depth': 5, 'min_child_weight': 5},\n",
       "   {'max_depth': 7, 'min_child_weight': 1},\n",
       "   {'max_depth': 7, 'min_child_weight': 3},\n",
       "   {'max_depth': 7, 'min_child_weight': 5},\n",
       "   {'max_depth': 9, 'min_child_weight': 1},\n",
       "   {'max_depth': 9, 'min_child_weight': 3},\n",
       "   {'max_depth': 9, 'min_child_weight': 5}],\n",
       "  'rank_test_score': array([ 9,  4,  1, 11,  6,  3, 10,  7,  2, 12,  8,  5]),\n",
       "  'split0_test_score': array([0.87693349, 0.87520634, 0.87693132, 0.87089106, 0.87440575,\n",
       "         0.87219137, 0.86833096, 0.86983953, 0.87083834, 0.86818921,\n",
       "         0.86541001, 0.87038342]),\n",
       "  'split0_train_score': array([0.93660586, 0.93627791, 0.93587476, 0.96823837, 0.96597157,\n",
       "         0.9645485 , 0.99494549, 0.9913015 , 0.98916099, 0.99997045,\n",
       "         0.9993551 , 0.99813535]),\n",
       "  'split1_test_score': array([0.60329875, 0.64802337, 0.66104984, 0.57919014, 0.6621648 ,\n",
       "         0.68333579, 0.6098635 , 0.67687763, 0.70447138, 0.6074962 ,\n",
       "         0.67594627, 0.70773496]),\n",
       "  'split1_train_score': array([0.92676306, 0.92606643, 0.92586776, 0.96410971, 0.96139745,\n",
       "         0.95881592, 0.99529538, 0.99144738, 0.98732364, 0.99996941,\n",
       "         0.9994314 , 0.99841379]),\n",
       "  'split2_test_score': array([0.85022496, 0.85213971, 0.85337505, 0.84021336, 0.83146319,\n",
       "         0.82821162, 0.82454814, 0.82547273, 0.82575575, 0.81567438,\n",
       "         0.80886662, 0.81363131]),\n",
       "  'split2_train_score': array([0.93875839, 0.9382027 , 0.93804917, 0.97068152, 0.96784521,\n",
       "         0.96560675, 0.9959052 , 0.99228989, 0.98953281, 0.99997948,\n",
       "         0.99967281, 0.99828694]),\n",
       "  'split3_test_score': array([0.894707  , 0.89627771, 0.90046914, 0.89707903, 0.89831169,\n",
       "         0.89785876, 0.88879227, 0.88852069, 0.89159423, 0.89198952,\n",
       "         0.88817536, 0.88880626]),\n",
       "  'split3_train_score': array([0.9323502 , 0.93197234, 0.93114286, 0.96683002, 0.96318363,\n",
       "         0.960636  , 0.9948727 , 0.99121989, 0.987609  , 0.99998463,\n",
       "         0.99960369, 0.99826731]),\n",
       "  'split4_test_score': array([0.90932936, 0.91676054, 0.91544691, 0.90056621, 0.91060157,\n",
       "         0.91252194, 0.898773  , 0.90437589, 0.90956336, 0.89342105,\n",
       "         0.90856554, 0.90373157]),\n",
       "  'split4_train_score': array([0.93070697, 0.92996764, 0.92996821, 0.96414875, 0.96109532,\n",
       "         0.95948734, 0.99323407, 0.98880612, 0.98607339, 0.99994453,\n",
       "         0.99901423, 0.9978004 ]),\n",
       "  'std_fit_time': array([0.32832388, 0.71427275, 1.17810561, 0.72457868, 0.58202823,\n",
       "         1.88261012, 1.55763912, 0.97259246, 1.53420132, 2.40295509,\n",
       "         1.33869082, 5.74952371]),\n",
       "  'std_score_time': array([0.01304336, 0.00649521, 0.01378229, 0.00989302, 0.03488961,\n",
       "         0.01508121, 0.01594177, 0.02052696, 0.00648225, 0.01197853,\n",
       "         0.01067912, 0.02340657]),\n",
       "  'std_test_score': array([0.11352296, 0.09723618, 0.09263277, 0.12115351, 0.09073096,\n",
       "         0.08284815, 0.10717527, 0.08241974, 0.07351455, 0.10766986,\n",
       "         0.08365179, 0.07142393]),\n",
       "  'std_train_score': array([4.25990869e-03, 4.35604130e-03, 4.33382938e-03, 2.50610447e-03,\n",
       "         2.62671644e-03, 2.74415253e-03, 8.86869335e-04, 1.16751707e-03,\n",
       "         1.26503555e-03, 1.38015533e-05, 2.30888404e-04, 2.09668856e-04])},\n",
       " {'max_depth': 3, 'min_child_weight': 5},\n",
       " 0.8414544546162486)"
      ]
     },
     "execution_count": 63,
     "metadata": {},
     "output_type": "execute_result"
    }
   ],
   "source": [
    "gsearch1.cv_results_ , gsearch1.best_params_, gsearch1.best_score_"
   ]
  },
  {
   "cell_type": "code",
   "execution_count": 67,
   "metadata": {},
   "outputs": [
    {
     "data": {
      "text/plain": [
       "{'max_depth': 7, 'min_child_weight': 5}"
      ]
     },
     "execution_count": 67,
     "metadata": {},
     "output_type": "execute_result"
    }
   ],
   "source": [
    "gsearch1.cv_results_['params'][-4]"
   ]
  },
  {
   "cell_type": "code",
   "execution_count": 69,
   "metadata": {},
   "outputs": [
    {
     "name": "stderr",
     "output_type": "stream",
     "text": [
      "c:\\users\\nb-0242\\anaconda3\\envs\\ximz\\lib\\site-packages\\sklearn\\utils\\deprecation.py:125: FutureWarning: You are accessing a training score ('mean_train_score'), which will not be available by default any more in 0.21. If you need training scores, please set return_train_score=True\n",
      "  warnings.warn(*warn_args, **warn_kwargs)\n",
      "c:\\users\\nb-0242\\anaconda3\\envs\\ximz\\lib\\site-packages\\sklearn\\utils\\deprecation.py:125: FutureWarning: You are accessing a training score ('split0_train_score'), which will not be available by default any more in 0.21. If you need training scores, please set return_train_score=True\n",
      "  warnings.warn(*warn_args, **warn_kwargs)\n",
      "c:\\users\\nb-0242\\anaconda3\\envs\\ximz\\lib\\site-packages\\sklearn\\utils\\deprecation.py:125: FutureWarning: You are accessing a training score ('split1_train_score'), which will not be available by default any more in 0.21. If you need training scores, please set return_train_score=True\n",
      "  warnings.warn(*warn_args, **warn_kwargs)\n",
      "c:\\users\\nb-0242\\anaconda3\\envs\\ximz\\lib\\site-packages\\sklearn\\utils\\deprecation.py:125: FutureWarning: You are accessing a training score ('split2_train_score'), which will not be available by default any more in 0.21. If you need training scores, please set return_train_score=True\n",
      "  warnings.warn(*warn_args, **warn_kwargs)\n",
      "c:\\users\\nb-0242\\anaconda3\\envs\\ximz\\lib\\site-packages\\sklearn\\utils\\deprecation.py:125: FutureWarning: You are accessing a training score ('split3_train_score'), which will not be available by default any more in 0.21. If you need training scores, please set return_train_score=True\n",
      "  warnings.warn(*warn_args, **warn_kwargs)\n",
      "c:\\users\\nb-0242\\anaconda3\\envs\\ximz\\lib\\site-packages\\sklearn\\utils\\deprecation.py:125: FutureWarning: You are accessing a training score ('split4_train_score'), which will not be available by default any more in 0.21. If you need training scores, please set return_train_score=True\n",
      "  warnings.warn(*warn_args, **warn_kwargs)\n",
      "c:\\users\\nb-0242\\anaconda3\\envs\\ximz\\lib\\site-packages\\sklearn\\utils\\deprecation.py:125: FutureWarning: You are accessing a training score ('std_train_score'), which will not be available by default any more in 0.21. If you need training scores, please set return_train_score=True\n",
      "  warnings.warn(*warn_args, **warn_kwargs)\n"
     ]
    },
    {
     "data": {
      "text/plain": [
       "({'mean_fit_time': array([19.76813593, 18.93496675, 19.75637002, 23.70221529, 25.21616673,\n",
       "         23.93279891, 29.93813944, 29.50848842, 30.04206176, 35.93948989,\n",
       "         35.63850493, 35.01975632, 41.14778399, 39.35397329, 35.15240073]),\n",
       "  'mean_score_time': array([0.09115629, 0.08557105, 0.09175487, 0.09654212, 0.0933506 ,\n",
       "         0.07918811, 0.10033178, 0.10372243, 0.10511875, 0.11309757,\n",
       "         0.11708708, 0.09753642, 0.11708713, 0.11170115, 0.092348  ]),\n",
       "  'mean_test_score': array([0.83950299, 0.84145445, 0.84441277, 0.84055501, 0.83921945,\n",
       "         0.84532201, 0.84039414, 0.8388239 , 0.84384745, 0.83569688,\n",
       "         0.83903749, 0.84389942, 0.83598164, 0.84044461, 0.84388279]),\n",
       "  'mean_train_score': array([0.93222629, 0.93218055, 0.93195312, 0.94696142, 0.94658844,\n",
       "         0.9462765 , 0.96269251, 0.9618189 , 0.96086677, 0.97776913,\n",
       "         0.97634533, 0.9745481 , 0.98894416, 0.98793997, 0.98631805]),\n",
       "  'param_max_depth': masked_array(data=[3, 3, 3, 4, 4, 4, 5, 5, 5, 6, 6, 6, 7, 7, 7],\n",
       "               mask=[False, False, False, False, False, False, False, False,\n",
       "                     False, False, False, False, False, False, False],\n",
       "         fill_value='?',\n",
       "              dtype=object),\n",
       "  'param_min_child_weight': masked_array(data=[4, 5, 6, 4, 5, 6, 4, 5, 6, 4, 5, 6, 4, 5, 6],\n",
       "               mask=[False, False, False, False, False, False, False, False,\n",
       "                     False, False, False, False, False, False, False],\n",
       "         fill_value='?',\n",
       "              dtype=object),\n",
       "  'params': [{'max_depth': 3, 'min_child_weight': 4},\n",
       "   {'max_depth': 3, 'min_child_weight': 5},\n",
       "   {'max_depth': 3, 'min_child_weight': 6},\n",
       "   {'max_depth': 4, 'min_child_weight': 4},\n",
       "   {'max_depth': 4, 'min_child_weight': 5},\n",
       "   {'max_depth': 4, 'min_child_weight': 6},\n",
       "   {'max_depth': 5, 'min_child_weight': 4},\n",
       "   {'max_depth': 5, 'min_child_weight': 5},\n",
       "   {'max_depth': 5, 'min_child_weight': 6},\n",
       "   {'max_depth': 6, 'min_child_weight': 4},\n",
       "   {'max_depth': 6, 'min_child_weight': 5},\n",
       "   {'max_depth': 6, 'min_child_weight': 6},\n",
       "   {'max_depth': 7, 'min_child_weight': 4},\n",
       "   {'max_depth': 7, 'min_child_weight': 5},\n",
       "   {'max_depth': 7, 'min_child_weight': 6}],\n",
       "  'rank_test_score': array([10,  6,  2,  7, 11,  1,  9, 13,  5, 15, 12,  3, 14,  8,  4]),\n",
       "  'split0_test_score': array([0.87528765, 0.87693132, 0.87455293, 0.87387552, 0.87382025,\n",
       "         0.8747241 , 0.875368  , 0.87219137, 0.87115758, 0.87212334,\n",
       "         0.86993922, 0.87316383, 0.86721094, 0.87083834, 0.87092361]),\n",
       "  'split0_train_score': array([0.93568657, 0.93587476, 0.93607467, 0.95052118, 0.94973674,\n",
       "         0.94885465, 0.96544258, 0.9645485 , 0.96356226, 0.97973471,\n",
       "         0.97805931, 0.97586308, 0.98864531, 0.98916099, 0.98728056]),\n",
       "  'split1_test_score': array([0.6518383 , 0.66104984, 0.67996964, 0.66545254, 0.6654781 ,\n",
       "         0.69678938, 0.67951   , 0.68333579, 0.70722004, 0.67569405,\n",
       "         0.69083413, 0.71933093, 0.68894124, 0.70447138, 0.72982671]),\n",
       "  'split1_train_score': array([0.92594048, 0.92586776, 0.92549074, 0.9415674 , 0.9418099 ,\n",
       "         0.94152926, 0.95987574, 0.95881592, 0.95747622, 0.9768306 ,\n",
       "         0.97520375, 0.97292339, 0.98905662, 0.98732364, 0.98641385]),\n",
       "  'split2_test_score': array([0.85224387, 0.85337505, 0.85515203, 0.84750173, 0.84217911,\n",
       "         0.84111514, 0.84074656, 0.82821162, 0.83018004, 0.82886936,\n",
       "         0.83026938, 0.82654979, 0.82520927, 0.82575575, 0.82017395]),\n",
       "  'split2_train_score': array([0.93785712, 0.93804917, 0.93753493, 0.95174263, 0.95069749,\n",
       "         0.95165663, 0.96634335, 0.96560675, 0.96456042, 0.98005154,\n",
       "         0.97865794, 0.97768443, 0.99075914, 0.98953281, 0.9874753 ]),\n",
       "  'split3_test_score': array([0.89962238, 0.90046914, 0.89629381, 0.89912305, 0.89848678,\n",
       "         0.89961318, 0.89444347, 0.89785876, 0.8982754 , 0.89239581,\n",
       "         0.89110896, 0.89170229, 0.88810699, 0.89159423, 0.88916916]),\n",
       "  'split3_train_score': array([0.9315494 , 0.93114286, 0.93095366, 0.94615639, 0.94619128,\n",
       "         0.94542724, 0.96174955, 0.960636  , 0.96095174, 0.97776098,\n",
       "         0.97605757, 0.97467867, 0.98875612, 0.987609  , 0.98546334]),\n",
       "  'split4_test_score': array([0.91852275, 0.91544691, 0.91609545, 0.9168222 , 0.91613302,\n",
       "         0.91436825, 0.91190267, 0.91252194, 0.91240417, 0.90940182,\n",
       "         0.91303578, 0.90875028, 0.91043977, 0.90956336, 0.90932054]),\n",
       "  'split4_train_score': array([0.93009789, 0.92996821, 0.92971161, 0.94481948, 0.94450682,\n",
       "         0.9439147 , 0.96005134, 0.95948734, 0.95778322, 0.9744678 ,\n",
       "         0.9737481 , 0.97159093, 0.98750359, 0.98607339, 0.98495717]),\n",
       "  'std_fit_time': array([1.54280838, 0.99651927, 0.60078674, 0.99414675, 0.66410471,\n",
       "         0.74771033, 0.46004829, 0.80988787, 0.84046998, 1.06813627,\n",
       "         0.39504203, 1.35089284, 0.92012372, 0.6931504 , 5.27003672]),\n",
       "  'std_score_time': array([0.00510887, 0.01042976, 0.01088865, 0.00641452, 0.01153784,\n",
       "         0.00632681, 0.00474551, 0.01248849, 0.00645101, 0.00891163,\n",
       "         0.01323991, 0.00783232, 0.01262457, 0.00658535, 0.017767  ]),\n",
       "  'std_test_score': array([0.09645659, 0.09263277, 0.0847294 , 0.09062703, 0.09035524,\n",
       "         0.07830586, 0.08383532, 0.08284815, 0.07384053, 0.08440568,\n",
       "         0.07897242, 0.06806684, 0.07870611, 0.07351455, 0.06424182]),\n",
       "  'std_train_score': array([0.00419951, 0.00433383, 0.00438017, 0.003738  , 0.00329003,\n",
       "         0.00358966, 0.0027089 , 0.00274415, 0.00289551, 0.00204218,\n",
       "         0.00181204, 0.00214324, 0.00104945, 0.00126504, 0.00098563])},\n",
       " {'max_depth': 4, 'min_child_weight': 6},\n",
       " 0.8453220100967922)"
      ]
     },
     "execution_count": 69,
     "metadata": {},
     "output_type": "execute_result"
    }
   ],
   "source": [
    "param_test2 = {\n",
    " 'max_depth':[3,4,5,6,7],\n",
    " 'min_child_weight':[4,5,6]\n",
    "}\n",
    "gsearch2 = GridSearchCV(estimator = XGBClassifier( learning_rate=0.1, n_estimators=140, max_depth=5,\n",
    " min_child_weight=2, gamma=0, subsample=0.8, colsample_bytree=0.8,\n",
    " objective= 'binary:logistic', nthread=4, scale_pos_weight=1,seed=27), \n",
    " param_grid = param_test2, scoring='roc_auc',n_jobs=4,iid=False, cv=5)\n",
    "gsearch2.fit(data_[predictors],data_[target])\n",
    "gsearch2.cv_results_, gsearch2.best_params_, gsearch2.best_score_"
   ]
  },
  {
   "cell_type": "code",
   "execution_count": 70,
   "metadata": {},
   "outputs": [
    {
     "name": "stderr",
     "output_type": "stream",
     "text": [
      "c:\\users\\nb-0242\\anaconda3\\envs\\ximz\\lib\\site-packages\\sklearn\\utils\\deprecation.py:125: FutureWarning: You are accessing a training score ('mean_train_score'), which will not be available by default any more in 0.21. If you need training scores, please set return_train_score=True\n",
      "  warnings.warn(*warn_args, **warn_kwargs)\n",
      "c:\\users\\nb-0242\\anaconda3\\envs\\ximz\\lib\\site-packages\\sklearn\\utils\\deprecation.py:125: FutureWarning: You are accessing a training score ('split0_train_score'), which will not be available by default any more in 0.21. If you need training scores, please set return_train_score=True\n",
      "  warnings.warn(*warn_args, **warn_kwargs)\n",
      "c:\\users\\nb-0242\\anaconda3\\envs\\ximz\\lib\\site-packages\\sklearn\\utils\\deprecation.py:125: FutureWarning: You are accessing a training score ('split1_train_score'), which will not be available by default any more in 0.21. If you need training scores, please set return_train_score=True\n",
      "  warnings.warn(*warn_args, **warn_kwargs)\n",
      "c:\\users\\nb-0242\\anaconda3\\envs\\ximz\\lib\\site-packages\\sklearn\\utils\\deprecation.py:125: FutureWarning: You are accessing a training score ('split2_train_score'), which will not be available by default any more in 0.21. If you need training scores, please set return_train_score=True\n",
      "  warnings.warn(*warn_args, **warn_kwargs)\n",
      "c:\\users\\nb-0242\\anaconda3\\envs\\ximz\\lib\\site-packages\\sklearn\\utils\\deprecation.py:125: FutureWarning: You are accessing a training score ('split3_train_score'), which will not be available by default any more in 0.21. If you need training scores, please set return_train_score=True\n",
      "  warnings.warn(*warn_args, **warn_kwargs)\n",
      "c:\\users\\nb-0242\\anaconda3\\envs\\ximz\\lib\\site-packages\\sklearn\\utils\\deprecation.py:125: FutureWarning: You are accessing a training score ('split4_train_score'), which will not be available by default any more in 0.21. If you need training scores, please set return_train_score=True\n",
      "  warnings.warn(*warn_args, **warn_kwargs)\n",
      "c:\\users\\nb-0242\\anaconda3\\envs\\ximz\\lib\\site-packages\\sklearn\\utils\\deprecation.py:125: FutureWarning: You are accessing a training score ('std_train_score'), which will not be available by default any more in 0.21. If you need training scores, please set return_train_score=True\n",
      "  warnings.warn(*warn_args, **warn_kwargs)\n"
     ]
    },
    {
     "data": {
      "text/plain": [
       "({'mean_fit_time': array([23.9571331 , 25.3248868 , 25.67175951, 24.39436307, 24.01218638]),\n",
       "  'mean_score_time': array([0.08736658, 0.08856573, 0.09335074, 0.084973  , 0.07858944]),\n",
       "  'mean_test_score': array([0.84532201, 0.84533409, 0.84382367, 0.84485942, 0.8436444 ]),\n",
       "  'mean_train_score': array([0.9462765 , 0.94621441, 0.94593482, 0.94597028, 0.94591531]),\n",
       "  'param_gamma': masked_array(data=[0.0, 0.1, 0.2, 0.3, 0.4],\n",
       "               mask=[False, False, False, False, False],\n",
       "         fill_value='?',\n",
       "              dtype=object),\n",
       "  'params': [{'gamma': 0.0},\n",
       "   {'gamma': 0.1},\n",
       "   {'gamma': 0.2},\n",
       "   {'gamma': 0.3},\n",
       "   {'gamma': 0.4}],\n",
       "  'rank_test_score': array([2, 1, 4, 3, 5]),\n",
       "  'split0_test_score': array([0.8747241 , 0.87533883, 0.87645955, 0.87522363, 0.87513179]),\n",
       "  'split0_train_score': array([0.94885465, 0.94921218, 0.94915023, 0.94861739, 0.94867559]),\n",
       "  'split1_test_score': array([0.69678938, 0.69678938, 0.68753591, 0.69468401, 0.69468401]),\n",
       "  'split1_train_score': array([0.94152926, 0.94152926, 0.94042428, 0.94114948, 0.94114948]),\n",
       "  'split2_test_score': array([0.84111514, 0.84218441, 0.84133382, 0.84133203, 0.83534879]),\n",
       "  'split2_train_score': array([0.95165663, 0.95160023, 0.95132062, 0.95132002, 0.95098702]),\n",
       "  'split3_test_score': array([0.89961318, 0.89892004, 0.90035131, 0.90036421, 0.90036421]),\n",
       "  'split3_train_score': array([0.94542724, 0.94510995, 0.94515854, 0.94515283, 0.94515283]),\n",
       "  'split4_test_score': array([0.91436825, 0.91343778, 0.91343778, 0.9126932 , 0.9126932 ]),\n",
       "  'split4_train_score': array([0.9439147 , 0.94362042, 0.94362042, 0.94361166, 0.94361166]),\n",
       "  'std_fit_time': array([0.42866792, 1.37504155, 1.09643477, 0.33878512, 7.21343308]),\n",
       "  'std_score_time': array([0.01241828, 0.01360568, 0.01268802, 0.01156892, 0.01344587]),\n",
       "  'std_test_score': array([0.07830586, 0.07808368, 0.08190075, 0.07895478, 0.07903714]),\n",
       "  'std_train_score': array([0.00358966, 0.00368491, 0.00389027, 0.00360828, 0.00351974])},\n",
       " {'gamma': 0.1},\n",
       " 0.8453340879471444)"
      ]
     },
     "execution_count": 70,
     "metadata": {},
     "output_type": "execute_result"
    }
   ],
   "source": [
    "param_test3 = {\n",
    " 'gamma':[i/10.0 for i in range(0,5)]\n",
    "}\n",
    "gsearch3 = GridSearchCV(estimator = XGBClassifier( learning_rate =0.1, n_estimators=140, max_depth=4,\n",
    " min_child_weight=6, gamma=0, subsample=0.8, colsample_bytree=0.8,\n",
    " objective= 'binary:logistic', nthread=4, scale_pos_weight=1,seed=27), \n",
    " param_grid = param_test3, scoring='roc_auc',n_jobs=4,iid=False, cv=5)\n",
    "gsearch3.fit(data_[predictors],data_[target])\n",
    "gsearch3.cv_results_, gsearch3.best_params_, gsearch3.best_score_"
   ]
  },
  {
   "cell_type": "code",
   "execution_count": 72,
   "metadata": {
    "scrolled": true
   },
   "outputs": [
    {
     "name": "stdout",
     "output_type": "stream",
     "text": [
      "\n",
      "Model Report\n",
      "AUC Score (Train): 0.950363\n",
      "f1_score: 0.5265643447461629\n"
     ]
    },
    {
     "data": {
      "image/png": "[encoded data removed]",
      "text/plain": [
       "<Figure size 1440x720 with 1 Axes>"
      ]
     },
     "metadata": {
      "needs_background": "light"
     },
     "output_type": "display_data"
    }
   ],
   "source": [
    "xgb2 = XGBClassifier(\n",
    " learning_rate =0.1,\n",
    " n_estimators=1000,\n",
    " max_depth=4,\n",
    " min_child_weight=6,\n",
    " gamma=0.1,\n",
    " subsample=0.8,\n",
    " colsample_bytree=0.8,\n",
    " objective= 'binary:logistic',\n",
    " nthread=4,\n",
    " scale_pos_weight=1,\n",
    " seed=27)\n",
    "modelfit(xgb2, data_, predictors,target)"
   ]
  },
  {
   "cell_type": "code",
   "execution_count": 82,
   "metadata": {},
   "outputs": [
    {
     "name": "stderr",
     "output_type": "stream",
     "text": [
      "c:\\users\\nb-0242\\anaconda3\\envs\\ximz\\lib\\site-packages\\sklearn\\utils\\deprecation.py:125: FutureWarning: You are accessing a training score ('mean_train_score'), which will not be available by default any more in 0.21. If you need training scores, please set return_train_score=True\n",
      "  warnings.warn(*warn_args, **warn_kwargs)\n",
      "c:\\users\\nb-0242\\anaconda3\\envs\\ximz\\lib\\site-packages\\sklearn\\utils\\deprecation.py:125: FutureWarning: You are accessing a training score ('split0_train_score'), which will not be available by default any more in 0.21. If you need training scores, please set return_train_score=True\n",
      "  warnings.warn(*warn_args, **warn_kwargs)\n",
      "c:\\users\\nb-0242\\anaconda3\\envs\\ximz\\lib\\site-packages\\sklearn\\utils\\deprecation.py:125: FutureWarning: You are accessing a training score ('split1_train_score'), which will not be available by default any more in 0.21. If you need training scores, please set return_train_score=True\n",
      "  warnings.warn(*warn_args, **warn_kwargs)\n",
      "c:\\users\\nb-0242\\anaconda3\\envs\\ximz\\lib\\site-packages\\sklearn\\utils\\deprecation.py:125: FutureWarning: You are accessing a training score ('split2_train_score'), which will not be available by default any more in 0.21. If you need training scores, please set return_train_score=True\n",
      "  warnings.warn(*warn_args, **warn_kwargs)\n",
      "c:\\users\\nb-0242\\anaconda3\\envs\\ximz\\lib\\site-packages\\sklearn\\utils\\deprecation.py:125: FutureWarning: You are accessing a training score ('split3_train_score'), which will not be available by default any more in 0.21. If you need training scores, please set return_train_score=True\n",
      "  warnings.warn(*warn_args, **warn_kwargs)\n",
      "c:\\users\\nb-0242\\anaconda3\\envs\\ximz\\lib\\site-packages\\sklearn\\utils\\deprecation.py:125: FutureWarning: You are accessing a training score ('split4_train_score'), which will not be available by default any more in 0.21. If you need training scores, please set return_train_score=True\n",
      "  warnings.warn(*warn_args, **warn_kwargs)\n",
      "c:\\users\\nb-0242\\anaconda3\\envs\\ximz\\lib\\site-packages\\sklearn\\utils\\deprecation.py:125: FutureWarning: You are accessing a training score ('std_train_score'), which will not be available by default any more in 0.21. If you need training scores, please set return_train_score=True\n",
      "  warnings.warn(*warn_args, **warn_kwargs)\n"
     ]
    },
    {
     "data": {
      "text/plain": [
       "({'mean_fit_time': array([16.29641552, 19.24555178, 22.63408594, 24.05666747]),\n",
       "  'mean_score_time': array([0.09075704, 0.0961391 , 0.09594364, 0.0817811 ]),\n",
       "  'mean_test_score': array([0.8858309 , 0.87117356, 0.86567032, 0.86223501]),\n",
       "  'mean_train_score': array([0.930286  , 0.94065855, 0.94461561, 0.94715169]),\n",
       "  'param_subsample': masked_array(data=[0.1, 0.2, 0.3, 0.4],\n",
       "               mask=[False, False, False, False],\n",
       "         fill_value='?',\n",
       "              dtype=object),\n",
       "  'params': [{'subsample': 0.1},\n",
       "   {'subsample': 0.2},\n",
       "   {'subsample': 0.3},\n",
       "   {'subsample': 0.4}],\n",
       "  'rank_test_score': array([1, 2, 3, 4]),\n",
       "  'split0_test_score': array([0.86713704, 0.87432987, 0.87625481, 0.8774839 ]),\n",
       "  'split0_train_score': array([0.93480905, 0.9438041 , 0.94734846, 0.95034836]),\n",
       "  'split1_test_score': array([0.88993656, 0.81226139, 0.78274357, 0.76527939]),\n",
       "  'split1_train_score': array([0.92510383, 0.93602473, 0.93961585, 0.94301725]),\n",
       "  'split2_test_score': array([0.86560748, 0.85347001, 0.84398433, 0.84496068]),\n",
       "  'split2_train_score': array([0.93434629, 0.94621615, 0.94915832, 0.95084503]),\n",
       "  'split3_test_score': array([0.90090329, 0.90193619, 0.90549769, 0.90511798]),\n",
       "  'split3_train_score': array([0.92975444, 0.94061721, 0.94392086, 0.94634263]),\n",
       "  'split4_test_score': array([0.90557015, 0.91387033, 0.91987121, 0.91833309]),\n",
       "  'split4_train_score': array([0.9274164 , 0.93663057, 0.94303458, 0.94520519]),\n",
       "  'std_fit_time': array([0.4456461 , 0.9649808 , 0.82948568, 0.60111088]),\n",
       "  'std_score_time': array([0.00839159, 0.00607289, 0.00986096, 0.01049835]),\n",
       "  'std_test_score': array([0.01668603, 0.03623086, 0.04895531, 0.054621  ]),\n",
       "  'std_train_score': array([0.00380305, 0.00396182, 0.00334917, 0.00301319])},\n",
       " {'subsample': 0.1},\n",
       " 0.8858309030873237)"
      ]
     },
     "execution_count": 82,
     "metadata": {},
     "output_type": "execute_result"
    }
   ],
   "source": [
    "param_test4 = {\n",
    " 'subsample':[0.1,0.2, 0.3, 0.4]\n",
    "}\n",
    "gsearch4 = GridSearchCV(estimator = XGBClassifier( learning_rate =0.1, n_estimators=177, max_depth=4,\n",
    " min_child_weight=6, gamma=0.1, subsample=0.8, colsample_bytree=0.6,\n",
    " objective= 'binary:logistic', nthread=4, scale_pos_weight=1,seed=27), \n",
    " param_grid = param_test4, scoring='roc_auc',n_jobs=4,iid=False, cv=5)\n",
    "gsearch4.fit(data_[predictors],data_[target])\n",
    "gsearch4.cv_results_, gsearch4.best_params_, gsearch4.best_score_"
   ]
  },
  {
   "cell_type": "code",
   "execution_count": 84,
   "metadata": {},
   "outputs": [
    {
     "name": "stderr",
     "output_type": "stream",
     "text": [
      "c:\\users\\nb-0242\\anaconda3\\envs\\ximz\\lib\\site-packages\\sklearn\\utils\\deprecation.py:125: FutureWarning: You are accessing a training score ('mean_train_score'), which will not be available by default any more in 0.21. If you need training scores, please set return_train_score=True\n",
      "  warnings.warn(*warn_args, **warn_kwargs)\n",
      "c:\\users\\nb-0242\\anaconda3\\envs\\ximz\\lib\\site-packages\\sklearn\\utils\\deprecation.py:125: FutureWarning: You are accessing a training score ('split0_train_score'), which will not be available by default any more in 0.21. If you need training scores, please set return_train_score=True\n",
      "  warnings.warn(*warn_args, **warn_kwargs)\n",
      "c:\\users\\nb-0242\\anaconda3\\envs\\ximz\\lib\\site-packages\\sklearn\\utils\\deprecation.py:125: FutureWarning: You are accessing a training score ('split1_train_score'), which will not be available by default any more in 0.21. If you need training scores, please set return_train_score=True\n",
      "  warnings.warn(*warn_args, **warn_kwargs)\n",
      "c:\\users\\nb-0242\\anaconda3\\envs\\ximz\\lib\\site-packages\\sklearn\\utils\\deprecation.py:125: FutureWarning: You are accessing a training score ('split2_train_score'), which will not be available by default any more in 0.21. If you need training scores, please set return_train_score=True\n",
      "  warnings.warn(*warn_args, **warn_kwargs)\n",
      "c:\\users\\nb-0242\\anaconda3\\envs\\ximz\\lib\\site-packages\\sklearn\\utils\\deprecation.py:125: FutureWarning: You are accessing a training score ('split3_train_score'), which will not be available by default any more in 0.21. If you need training scores, please set return_train_score=True\n",
      "  warnings.warn(*warn_args, **warn_kwargs)\n",
      "c:\\users\\nb-0242\\anaconda3\\envs\\ximz\\lib\\site-packages\\sklearn\\utils\\deprecation.py:125: FutureWarning: You are accessing a training score ('split4_train_score'), which will not be available by default any more in 0.21. If you need training scores, please set return_train_score=True\n",
      "  warnings.warn(*warn_args, **warn_kwargs)\n",
      "c:\\users\\nb-0242\\anaconda3\\envs\\ximz\\lib\\site-packages\\sklearn\\utils\\deprecation.py:125: FutureWarning: You are accessing a training score ('std_train_score'), which will not be available by default any more in 0.21. If you need training scores, please set return_train_score=True\n",
      "  warnings.warn(*warn_args, **warn_kwargs)\n"
     ]
    },
    {
     "data": {
      "text/plain": [
       "({'mean_fit_time': array([15.96749654, 15.49915013, 16.3466855 , 16.27727103]),\n",
       "  'mean_score_time': array([0.090558  , 0.08178105, 0.10132937, 0.08457365]),\n",
       "  'mean_test_score': array([0.88639549, 0.88654175, 0.88815458, 0.88754202]),\n",
       "  'mean_train_score': array([0.93035392, 0.93019148, 0.9302181 , 0.93058644]),\n",
       "  'param_reg_alpha': masked_array(data=[0.03, 0.05, 0.1, 0.5],\n",
       "               mask=[False, False, False, False],\n",
       "         fill_value='?',\n",
       "              dtype=object),\n",
       "  'params': [{'reg_alpha': 0.03},\n",
       "   {'reg_alpha': 0.05},\n",
       "   {'reg_alpha': 0.1},\n",
       "   {'reg_alpha': 0.5}],\n",
       "  'rank_test_score': array([4, 3, 1, 2]),\n",
       "  'split0_test_score': array([0.87016119, 0.87023701, 0.86899924, 0.86878467]),\n",
       "  'split0_train_score': array([0.93449428, 0.93383294, 0.93464002, 0.935044  ]),\n",
       "  'split1_test_score': array([0.89051058, 0.89141121, 0.89219938, 0.89462994]),\n",
       "  'split1_train_score': array([0.92533418, 0.92617667, 0.92653436, 0.9263191 ]),\n",
       "  'split2_test_score': array([0.86380674, 0.86546639, 0.86984659, 0.86495952]),\n",
       "  'split2_train_score': array([0.9335587 , 0.93407434, 0.93362175, 0.93459445]),\n",
       "  'split3_test_score': array([0.90267605, 0.89911762, 0.90099333, 0.90138907]),\n",
       "  'split3_train_score': array([0.93060872, 0.929422  , 0.92893844, 0.93036488]),\n",
       "  'split4_test_score': array([0.90482289, 0.90647653, 0.90873437, 0.90794691]),\n",
       "  'split4_train_score': array([0.92777373, 0.92745144, 0.92735594, 0.9266098 ]),\n",
       "  'std_fit_time': array([0.3819122 , 0.24810302, 0.9479026 , 0.33166676]),\n",
       "  'std_score_time': array([0.01107734, 0.00817585, 0.01701433, 0.01634466]),\n",
       "  'std_test_score': array([0.01670547, 0.01605786, 0.01616682, 0.01743643]),\n",
       "  'std_train_score': array([0.0034448 , 0.00324208, 0.00330265, 0.00374184])},\n",
       " {'reg_alpha': 0.1},\n",
       " 0.8881545800431383)"
      ]
     },
     "execution_count": 84,
     "metadata": {},
     "output_type": "execute_result"
    }
   ],
   "source": [
    "param_test6 = {\n",
    " 'reg_alpha':[0.03, 0.05, 0.1, 0.5]\n",
    "}\n",
    "gsearch6 = GridSearchCV(estimator = XGBClassifier( learning_rate =0.1, n_estimators=177, max_depth=4,\n",
    " min_child_weight=6, gamma=0.1, subsample=0.1, colsample_bytree=0.6,\n",
    " objective= 'binary:logistic', nthread=4, scale_pos_weight=1,seed=27), \n",
    " param_grid = param_test6, scoring='roc_auc',n_jobs=4,iid=False, cv=5)\n",
    "gsearch6.fit(data_[predictors],data_[target])\n",
    "gsearch6.cv_results_, gsearch6.best_params_, gsearch6.best_score_"
   ]
  },
  {
   "cell_type": "code",
   "execution_count": 86,
   "metadata": {},
   "outputs": [
    {
     "name": "stdout",
     "output_type": "stream",
     "text": [
      "\n",
      "Model Report\n",
      "AUC Score (Train): 0.935648\n",
      "f1_score: 0.4653397391901167\n"
     ]
    },
    {
     "data": {
      "image/png": "[encoded data removed]",
      "text/plain": [
       "<Figure size 1440x720 with 1 Axes>"
      ]
     },
     "metadata": {
      "needs_background": "light"
     },
     "output_type": "display_data"
    }
   ],
   "source": [
    "xgb4 = XGBClassifier(\n",
    " learning_rate =0.01,\n",
    " n_estimators=5000,\n",
    " max_depth=4,\n",
    " min_child_weight=6,\n",
    " gamma=0.1,\n",
    " subsample=0.1,\n",
    " colsample_bytree=0.6,\n",
    " reg_alpha=0.1,\n",
    " objective= 'binary:logistic',\n",
    " nthread=4,\n",
    " scale_pos_weight=1,\n",
    " seed=27)\n",
    "modelfit(xgb4, data_, predictors,target)"
   ]
  },
  {
   "cell_type": "code",
   "execution_count": 91,
   "metadata": {},
   "outputs": [
    {
     "name": "stderr",
     "output_type": "stream",
     "text": [
      "c:\\users\\nb-0242\\anaconda3\\envs\\ximz\\lib\\site-packages\\sklearn\\utils\\deprecation.py:125: FutureWarning: You are accessing a training score ('mean_train_score'), which will not be available by default any more in 0.21. If you need training scores, please set return_train_score=True\n",
      "  warnings.warn(*warn_args, **warn_kwargs)\n",
      "c:\\users\\nb-0242\\anaconda3\\envs\\ximz\\lib\\site-packages\\sklearn\\utils\\deprecation.py:125: FutureWarning: You are accessing a training score ('split0_train_score'), which will not be available by default any more in 0.21. If you need training scores, please set return_train_score=True\n",
      "  warnings.warn(*warn_args, **warn_kwargs)\n",
      "c:\\users\\nb-0242\\anaconda3\\envs\\ximz\\lib\\site-packages\\sklearn\\utils\\deprecation.py:125: FutureWarning: You are accessing a training score ('split1_train_score'), which will not be available by default any more in 0.21. If you need training scores, please set return_train_score=True\n",
      "  warnings.warn(*warn_args, **warn_kwargs)\n",
      "c:\\users\\nb-0242\\anaconda3\\envs\\ximz\\lib\\site-packages\\sklearn\\utils\\deprecation.py:125: FutureWarning: You are accessing a training score ('split2_train_score'), which will not be available by default any more in 0.21. If you need training scores, please set return_train_score=True\n",
      "  warnings.warn(*warn_args, **warn_kwargs)\n",
      "c:\\users\\nb-0242\\anaconda3\\envs\\ximz\\lib\\site-packages\\sklearn\\utils\\deprecation.py:125: FutureWarning: You are accessing a training score ('split3_train_score'), which will not be available by default any more in 0.21. If you need training scores, please set return_train_score=True\n",
      "  warnings.warn(*warn_args, **warn_kwargs)\n",
      "c:\\users\\nb-0242\\anaconda3\\envs\\ximz\\lib\\site-packages\\sklearn\\utils\\deprecation.py:125: FutureWarning: You are accessing a training score ('split4_train_score'), which will not be available by default any more in 0.21. If you need training scores, please set return_train_score=True\n",
      "  warnings.warn(*warn_args, **warn_kwargs)\n",
      "c:\\users\\nb-0242\\anaconda3\\envs\\ximz\\lib\\site-packages\\sklearn\\utils\\deprecation.py:125: FutureWarning: You are accessing a training score ('std_train_score'), which will not be available by default any more in 0.21. If you need training scores, please set return_train_score=True\n",
      "  warnings.warn(*warn_args, **warn_kwargs)\n"
     ]
    },
    {
     "data": {
      "text/plain": [
       "({'mean_fit_time': array([15.80313663, 15.60945697, 16.41031537, 15.87295156, 12.5707828 ]),\n",
       "  'mean_score_time': array([0.09713993, 0.09155507, 0.09933448, 0.10272527, 0.07340393]),\n",
       "  'mean_test_score': array([0.87061837, 0.88426633, 0.88815458, 0.80276911, 0.79226109]),\n",
       "  'mean_train_score': array([0.87769391, 0.89434747, 0.9302181 , 0.88332391, 0.83812549]),\n",
       "  'param_learning_rate': masked_array(data=[1e-05, 0.01, 0.1, 0.5, 1],\n",
       "               mask=[False, False, False, False, False],\n",
       "         fill_value='?',\n",
       "              dtype=object),\n",
       "  'params': [{'learning_rate': 1e-05},\n",
       "   {'learning_rate': 0.01},\n",
       "   {'learning_rate': 0.1},\n",
       "   {'learning_rate': 0.5},\n",
       "   {'learning_rate': 1}],\n",
       "  'rank_test_score': array([3, 2, 1, 4, 5]),\n",
       "  'split0_test_score': array([0.83963029, 0.85748463, 0.86899924, 0.78813455, 0.7750231 ]),\n",
       "  'split0_train_score': array([0.881712  , 0.89810117, 0.93464002, 0.88970705, 0.84828426]),\n",
       "  'split1_test_score': array([0.86494336, 0.87967549, 0.89219938, 0.79945998, 0.76850124]),\n",
       "  'split1_train_score': array([0.87804516, 0.89427183, 0.92653436, 0.87595417, 0.83134497]),\n",
       "  'split2_test_score': array([0.87037902, 0.88418043, 0.86984659, 0.79131719, 0.78200136]),\n",
       "  'split2_train_score': array([0.8779065 , 0.89520328, 0.93362175, 0.89032917, 0.8316517 ]),\n",
       "  'split3_test_score': array([0.8845855 , 0.89666265, 0.90099333, 0.81361048, 0.80547555]),\n",
       "  'split3_train_score': array([0.87578396, 0.89248   , 0.92893844, 0.88249511, 0.83833711]),\n",
       "  'split4_test_score': array([0.89355371, 0.90332848, 0.90873437, 0.82132334, 0.8303042 ]),\n",
       "  'split4_train_score': array([0.87502194, 0.89168108, 0.92735594, 0.87813402, 0.84100941]),\n",
       "  'std_fit_time': array([0.50595529, 0.86319767, 0.4191334 , 0.40581024, 3.14429774]),\n",
       "  'std_score_time': array([0.01097183, 0.0167532 , 0.02384126, 0.016653  , 0.01077097]),\n",
       "  'std_test_score': array([0.01851288, 0.01584536, 0.01616682, 0.01279111, 0.02275452]),\n",
       "  'std_train_score': array([0.00232813, 0.00225502, 0.00330265, 0.00586094, 0.00631582])},\n",
       " {'reg_alpha': 0.1},\n",
       " 0.8881545800431383)"
      ]
     },
     "execution_count": 91,
     "metadata": {},
     "output_type": "execute_result"
    }
   ],
   "source": [
    "param_test7 = {\n",
    " 'learning_rate':[1e-5, 1e-2, 0.1, 0.5, 1]\n",
    "}\n",
    "gsearch7 = GridSearchCV(estimator = XGBClassifier( learning_rate =0.1, n_estimators=177, max_depth=4,\n",
    " min_child_weight=6, gamma=0.1, subsample=0.1, colsample_bytree=0.6,\n",
    " objective= 'binary:logistic', nthread=4, scale_pos_weight=1,seed=27,reg_alpha=0.1,), \n",
    " param_grid = param_test7, scoring='roc_auc',n_jobs=4,iid=False, cv=5)\n",
    "gsearch7.fit(data_[predictors],data_[target])\n",
    "gsearch7.cv_results_, gsearch6.best_params_, gsearch6.best_score_"
   ]
  },
  {
   "cell_type": "markdown",
   "metadata": {},
   "source": [
    "# 바뀐 하이퍼 파라미터로 다시 시도 "
   ]
  },
  {
   "cell_type": "code",
   "execution_count": 96,
   "metadata": {},
   "outputs": [],
   "source": [
    "f_xgb = XGBClassifier( learning_rate =0.1, n_estimators=3000, max_depth=4,\n",
    " min_child_weight=6, gamma=0.1, subsample=0.1, colsample_bytree=0.6,\n",
    " objective= 'binary:logistic', nthread=4, scale_pos_weight=1,seed=27,reg_alpha=0.1,)"
   ]
  },
  {
   "cell_type": "code",
   "execution_count": 97,
   "metadata": {},
   "outputs": [
    {
     "data": {
      "text/plain": [
       "XGBClassifier(base_score=0.5, booster='gbtree', colsample_bylevel=1,\n",
       "       colsample_bytree=0.6, gamma=0.1, learning_rate=0.1,\n",
       "       max_delta_step=0, max_depth=4, min_child_weight=6, missing=None,\n",
       "       n_estimators=3000, n_jobs=1, nthread=4, objective='binary:logistic',\n",
       "       random_state=0, reg_alpha=0.1, reg_lambda=1, scale_pos_weight=1,\n",
       "       seed=27, silent=True, subsample=0.1)"
      ]
     },
     "execution_count": 97,
     "metadata": {},
     "output_type": "execute_result"
    }
   ],
   "source": [
    "f_xgb.fit(X_train,y_train)"
   ]
  },
  {
   "cell_type": "code",
   "execution_count": 98,
   "metadata": {},
   "outputs": [],
   "source": [
    "xg_res = f_xgb.predict(X_test)"
   ]
  },
  {
   "cell_type": "code",
   "execution_count": 99,
   "metadata": {},
   "outputs": [
    {
     "data": {
      "text/plain": [
       "0.3739130434782608"
      ]
     },
     "execution_count": 99,
     "metadata": {},
     "output_type": "execute_result"
    }
   ],
   "source": [
    "f1_score(y_test, xg_res)"
   ]
  },
  {
   "cell_type": "code",
   "execution_count": 106,
   "metadata": {},
   "outputs": [
    {
     "data": {
      "text/plain": [
       "(52681,)"
      ]
     },
     "execution_count": 106,
     "metadata": {},
     "output_type": "execute_result"
    }
   ],
   "source": [
    "data_['DE1_dg'].shape"
   ]
  },
  {
   "cell_type": "code",
   "execution_count": null,
   "metadata": {},
   "outputs": [],
   "source": []
  }
 ],
 "metadata": {
  "kernelspec": {
   "display_name": "Python 3",
   "language": "python",
   "name": "python3"
  },
  "language_info": {
   "codemirror_mode": {
    "name": "ipython",
    "version": 3
   },
   "file_extension": ".py",
   "mimetype": "text/x-python",
   "name": "python",
   "nbconvert_exporter": "python",
   "pygments_lexer": "ipython3",
   "version": "3.6.4"
  }
 },
 "nbformat": 4,
 "nbformat_minor": 2
}
