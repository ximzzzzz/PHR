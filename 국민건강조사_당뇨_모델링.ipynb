{
 "cells": [
  {
   "cell_type": "code",
   "execution_count": 1,
   "metadata": {},
   "outputs": [],
   "source": [
    "import pandas as pd\n",
    "import numpy as np\n",
    "import seaborn as sns\n",
    "import re\n",
    "from sklearn.ensemble import RandomForestClassifier\n",
    "import sklearn\n",
    "import matplotlib.pyplot as plt\n",
    "import sys\n",
    "from sklearn.model_selection import train_test_split\n",
    "from sklearn.metrics import confusion_matrix\n",
    "from sklearn.metrics import f1_score"
   ]
  },
  {
   "cell_type": "code",
   "execution_count": 2,
   "metadata": {},
   "outputs": [
    {
     "data": {
      "text/plain": [
       "11"
      ]
     },
     "execution_count": 2,
     "metadata": {},
     "output_type": "execute_result"
    }
   ],
   "source": [
    "d=[]\n",
    "for year in range(7,18):\n",
    "    if year//10==0:\n",
    "        data=pd.read_sas('c:/users/nb-0242/desktop/PHR/질병관리본부/HN'+str(0)+str(year)+'_ALL.sas7bdat', encoding='latin-1')\n",
    "        d.append(data)\n",
    "    else :\n",
    "        data=pd.read_sas('c:/users/nb-0242/desktop/PHR/질병관리본부/HN'+str(year)+'_ALL.sas7bdat', encoding='latin-1')\n",
    "        d.append(data)\n",
    "len(d)"
   ]
  },
  {
   "cell_type": "code",
   "execution_count": 77,
   "metadata": {
    "scrolled": false
   },
   "outputs": [
    {
     "data": {
      "text/plain": [
       "101"
      ]
     },
     "execution_count": 77,
     "metadata": {},
     "output_type": "execute_result"
    }
   ],
   "source": [
    "var = pd.read_csv('var.csv',header=None)\n",
    "var = list(var[0].values)\n",
    "len(var)"
   ]
  },
  {
   "cell_type": "code",
   "execution_count": 78,
   "metadata": {},
   "outputs": [],
   "source": [
    "for kill in ['EC_wht_23', 'HE_DMfh3' ,'HE_HLdg' ,'HE_Bplt', 'N_MUFA' ,'N_N3' ,'N_SFA' ,'N_N6', 'N_PUFA', 'D_8_2', 'GS_mea_r_3', 'GS_mea_l_3', 'GS_mea_r_1', 'GS_mea_r_2', 'D_8_1', 'D_8_3']:\n",
    "    \n",
    "    var.remove(kill)"
   ]
  },
  {
   "cell_type": "code",
   "execution_count": 79,
   "metadata": {},
   "outputs": [],
   "source": [
    "for kill in ['N_ASH' ,'N_FIBER', 'BS2_1', 'LQ_VAS' ,'DI1_lt']:\n",
    "    var.remove(kill)"
   ]
  },
  {
   "cell_type": "code",
   "execution_count": 80,
   "metadata": {},
   "outputs": [],
   "source": [
    "for kill in ['O_DMFTP', 'BP8' ,'OR1']:\n",
    "    var.remove(kill)"
   ]
  },
  {
   "cell_type": "code",
   "execution_count": 81,
   "metadata": {},
   "outputs": [],
   "source": [
    "var.remove('HE_HDL_st2')"
   ]
  },
  {
   "cell_type": "code",
   "execution_count": 82,
   "metadata": {},
   "outputs": [],
   "source": [
    "var.remove('HE_HbA1c')"
   ]
  },
  {
   "cell_type": "code",
   "execution_count": 83,
   "metadata": {},
   "outputs": [],
   "source": [
    "var.remove('BE3_33')"
   ]
  },
  {
   "cell_type": "code",
   "execution_count": 84,
   "metadata": {},
   "outputs": [
    {
     "data": {
      "text/plain": [
       "74"
      ]
     },
     "execution_count": 84,
     "metadata": {},
     "output_type": "execute_result"
    }
   ],
   "source": [
    "len(var)"
   ]
  },
  {
   "cell_type": "code",
   "execution_count": 72,
   "metadata": {},
   "outputs": [],
   "source": [
    "import sys\n",
    "\n",
    "mod = sys.modules[__name__]\n",
    "for i in range(11):\n",
    "    setattr(mod, 'd{}'.format(i+7), d[i][var])"
   ]
  },
  {
   "cell_type": "code",
   "execution_count": 87,
   "metadata": {},
   "outputs": [],
   "source": [
    "df=[]\n",
    "for i in range(11):\n",
    "    data = d[i][var].dropna()\n",
    "    df.append(data)"
   ]
  },
  {
   "cell_type": "code",
   "execution_count": 73,
   "metadata": {
    "scrolled": true
   },
   "outputs": [
    {
     "name": "stdout",
     "output_type": "stream",
     "text": [
      "(4594, 73)\n"
     ]
    },
    {
     "data": {
      "text/plain": [
       "HE_wt         389\n",
       "N_VITC        503\n",
       "age             0\n",
       "HE_BMI        389\n",
       "HE_wc         391\n",
       "N_FE          503\n",
       "N_B1          503\n",
       "N_B2          503\n",
       "N_CA          503\n",
       "N_CAROT       503\n",
       "N_WAT_C       503\n",
       "N_WATER       503\n",
       "N_CHO         503\n",
       "ainc_1         75\n",
       "N_VA          503\n",
       "N_RETIN       503\n",
       "N_DIET        503\n",
       "N_PROT        503\n",
       "N_PHOS        503\n",
       "N_NIAC        503\n",
       "N_NA          503\n",
       "N_EN          503\n",
       "N_FAT         503\n",
       "N_K           503\n",
       "ainc          265\n",
       "N_INTK        503\n",
       "HE_ht         389\n",
       "HE_sbp2      1021\n",
       "HE_dbp1      1021\n",
       "HE_dbp2      1021\n",
       "             ... \n",
       "DI1_ag       1611\n",
       "DI1_2        1611\n",
       "BD2          1238\n",
       "DI2_2        1611\n",
       "DI2_pt       1611\n",
       "DI1_pt       1611\n",
       "HE_DMdr       348\n",
       "educ         1238\n",
       "genertn        75\n",
       "DI2_pr       1611\n",
       "HE_PLS       1176\n",
       "cfam           75\n",
       "DI2_dg       1611\n",
       "HE_alt       1113\n",
       "HE_ast       1114\n",
       "HE_WBC       1127\n",
       "HE_crea      1113\n",
       "HE_HB        1127\n",
       "EC_pedu_1    1611\n",
       "HE_RBC       1127\n",
       "HE_HCT       1127\n",
       "HE_BUN       1113\n",
       "HE_TG        1170\n",
       "HE_chol      1170\n",
       "BM8          1611\n",
       "BM7          1611\n",
       "BE3_31       1238\n",
       "L_OUT_FQ      504\n",
       "HE_HBsAg     1113\n",
       "BD1_11       1238\n",
       "Length: 73, dtype: int64"
      ]
     },
     "execution_count": 73,
     "metadata": {},
     "output_type": "execute_result"
    }
   ],
   "source": [
    "print(d7.shape)\n",
    "d7.isnull().sum()"
   ]
  },
  {
   "cell_type": "code",
   "execution_count": 89,
   "metadata": {},
   "outputs": [],
   "source": [
    "data = pd.concat([df[0],df[1],df[2],df[3],df[4],df[5],df[6],df[7],df[8],df[9],df[10]], axis=0, ignore_index=True)"
   ]
  },
  {
   "cell_type": "code",
   "execution_count": 92,
   "metadata": {},
   "outputs": [
    {
     "data": {
      "text/plain": [
       "8.0    24620\n",
       "0.0    24040\n",
       "1.0     4021\n",
       "9.0      503\n",
       "Name: DE1_dg, dtype: int64"
      ]
     },
     "execution_count": 92,
     "metadata": {},
     "output_type": "execute_result"
    }
   ],
   "source": [
    "data['DE1_dg'].value_counts()"
   ]
  },
  {
   "cell_type": "code",
   "execution_count": 95,
   "metadata": {},
   "outputs": [
    {
     "name": "stderr",
     "output_type": "stream",
     "text": [
      "C:\\Users\\NB-0242\\Anaconda3\\lib\\site-packages\\ipykernel_launcher.py:1: SettingWithCopyWarning: \n",
      "A value is trying to be set on a copy of a slice from a DataFrame.\n",
      "Try using .loc[row_indexer,col_indexer] = value instead\n",
      "\n",
      "See the caveats in the documentation: http://pandas.pydata.org/pandas-docs/stable/indexing.html#indexing-view-versus-copy\n",
      "  \"\"\"Entry point for launching an IPython kernel.\n"
     ]
    }
   ],
   "source": [
    "data[data['DE1_dg']==0]['DE1_dg']=8.0"
   ]
  },
  {
   "cell_type": "code",
   "execution_count": 101,
   "metadata": {},
   "outputs": [],
   "source": [
    "data.loc[data['DE1_dg']==0, ['DE1_dg']] =8.0"
   ]
  },
  {
   "cell_type": "code",
   "execution_count": 104,
   "metadata": {},
   "outputs": [
    {
     "data": {
      "text/plain": [
       "8.0    48660\n",
       "1.0     4021\n",
       "Name: DE1_dg, dtype: int64"
      ]
     },
     "execution_count": 104,
     "metadata": {},
     "output_type": "execute_result"
    }
   ],
   "source": [
    "data_ = data.loc[data['DE1_dg']!=9.0, :]\n",
    "data_['DE1_dg'].value_counts()"
   ]
  },
  {
   "cell_type": "code",
   "execution_count": 105,
   "metadata": {},
   "outputs": [],
   "source": [
    "# data_.to_csv('data_.csv', index=False)"
   ]
  },
  {
   "cell_type": "code",
   "execution_count": null,
   "metadata": {},
   "outputs": [],
   "source": [
    "import pandas as pd\n",
    "import numpy as np\n",
    "import seaborn as sns\n",
    "import re\n",
    "from sklearn.ensemble import RandomForestClassifier\n",
    "import sklearn\n",
    "import matplotlib.pyplot as plt\n",
    "import sys\n",
    "from sklearn.model_selection import train_test_split\n",
    "from sklearn.metrics import confusion_matrix\n",
    "from sklearn.metrics import f1_score"
   ]
  },
  {
   "cell_type": "code",
   "execution_count": 6,
   "metadata": {},
   "outputs": [],
   "source": [
    "data_ = pd.read_csv('c:/users/nb-0242/jupyter/PHR/data_.csv')"
   ]
  },
  {
   "cell_type": "markdown",
   "metadata": {},
   "source": [
    "# 모델링 가ㅡㅏ"
   ]
  },
  {
   "cell_type": "code",
   "execution_count": 113,
   "metadata": {},
   "outputs": [],
   "source": [
    "X_train, X_test, y_train, y_test = train_test_split(data_, data_['DE1_dg'],test_size=0.2)\n",
    "X_train = X_train.iloc[:, ~X_train.columns.isin(['DE1_dg'])]\n",
    "X_test = X_test.iloc[:, ~X_test.columns.isin(['DE1_dg'])]\n",
    "rf = RandomForestClassifier(n_jobs=-1)\n",
    "rf.fit(X_train, y_train)\n",
    "rf_yhat = rf.predict(X_test)\n",
    "\n",
    "feat_importances = pd.Series(rf.feature_importances_, index=X_test.columns)\n"
   ]
  },
  {
   "cell_type": "code",
   "execution_count": 114,
   "metadata": {},
   "outputs": [
    {
     "data": {
      "text/plain": [
       "0.2829525483304042"
      ]
     },
     "execution_count": 114,
     "metadata": {},
     "output_type": "execute_result"
    }
   ],
   "source": [
    "f1_score(y_test, rf_yhat)"
   ]
  },
  {
   "cell_type": "code",
   "execution_count": 115,
   "metadata": {},
   "outputs": [
    {
     "data": {
      "text/plain": [
       "array([[ 161,  626],\n",
       "       [ 190, 9560]], dtype=int64)"
      ]
     },
     "execution_count": 115,
     "metadata": {},
     "output_type": "execute_result"
    }
   ],
   "source": [
    "confusion_matrix(y_test, rf_yhat)"
   ]
  },
  {
   "cell_type": "code",
   "execution_count": 116,
   "metadata": {},
   "outputs": [
    {
     "data": {
      "text/plain": [
       "8.0    9750\n",
       "1.0     787\n",
       "Name: DE1_dg, dtype: int64"
      ]
     },
     "execution_count": 116,
     "metadata": {},
     "output_type": "execute_result"
    }
   ],
   "source": [
    "y_test.value_counts()"
   ]
  },
  {
   "cell_type": "markdown",
   "metadata": {},
   "source": [
    "<h3> randomforest 최적화"
   ]
  },
  {
   "cell_type": "code",
   "execution_count": 131,
   "metadata": {},
   "outputs": [],
   "source": [
    "n_est = range(5,11)\n",
    "m_depth = range(30,len(X_train.columns)-1, 3)\n",
    "f1_mat=[]\n",
    "for n in n_est:\n",
    "    f1_row=[]\n",
    "    for m in m_depth:\n",
    "        rf = RandomForestClassifier(n_jobs=-1,n_estimators=n, max_depth=m )\n",
    "        rf.fit(X_train, y_train)\n",
    "        rf_yhat = rf.predict(X_test)\n",
    "        f1 = f1_score(y_test, rf_yhat)\n",
    "        f1_row.append(f1)\n",
    "    f1_mat.append(f1_row)"
   ]
  },
  {
   "cell_type": "code",
   "execution_count": 130,
   "metadata": {},
   "outputs": [
    {
     "data": {
      "text/plain": [
       "[40, 43, 46, 49, 52, 55, 58, 61, 64, 67, 70]"
      ]
     },
     "execution_count": 130,
     "metadata": {},
     "output_type": "execute_result"
    }
   ],
   "source": [
    "list(m_depth)"
   ]
  },
  {
   "cell_type": "code",
   "execution_count": 126,
   "metadata": {},
   "outputs": [
    {
     "data": {
      "text/plain": [
       "<matplotlib.axes._subplots.AxesSubplot at 0x1b7ae88e9e8>"
      ]
     },
     "execution_count": 126,
     "metadata": {},
     "output_type": "execute_result"
    },
    {
     "data": {
      "image/png": "[encoded data removed]",
      "text/plain": [
       "<Figure size 720x720 with 2 Axes>"
      ]
     },
     "metadata": {
      "needs_background": "light"
     },
     "output_type": "display_data"
    }
   ],
   "source": [
    "plt.figure(figsize=(10,10),)\n",
    "sns.heatmap(np.array(f1_mat),annot=True)"
   ]
  },
  {
   "cell_type": "code",
   "execution_count": 134,
   "metadata": {
    "scrolled": false
   },
   "outputs": [
    {
     "data": {
      "text/plain": [
       "<matplotlib.axes._subplots.AxesSubplot at 0x1b7b82d3da0>"
      ]
     },
     "execution_count": 134,
     "metadata": {},
     "output_type": "execute_result"
    },
    {
     "data": {
      "image/png": "[encoded data removed]",
      "text/plain": [
       "<Figure size 864x504 with 2 Axes>"
      ]
     },
     "metadata": {
      "needs_background": "light"
     },
     "output_type": "display_data"
    }
   ],
   "source": [
    "plt.figure(figsize=(12,7),)\n",
    "sns.heatmap(np.array(f1_mat),annot=True)"
   ]
  },
  {
   "cell_type": "markdown",
   "metadata": {},
   "source": [
    "<h3> xgboost 최적화"
   ]
  },
  {
   "cell_type": "code",
   "execution_count": 18,
   "metadata": {},
   "outputs": [],
   "source": [
    "data_.loc[data_['DE1_dg']==8,['DE1_dg']]=0\n",
    "X_train, X_test, y_train, y_test = train_test_split(data_, data_['DE1_dg'],test_size=0.2)\n",
    "X_train = X_train.iloc[:, ~X_train.columns.isin(['DE1_dg'])]\n",
    "X_test = X_test.iloc[:, ~X_test.columns.isin(['DE1_dg'])]"
   ]
  },
  {
   "cell_type": "code",
   "execution_count": 24,
   "metadata": {},
   "outputs": [
    {
     "name": "stdout",
     "output_type": "stream",
     "text": [
      "[0]\ttest-merror:0.078106\n",
      "[1]\ttest-merror:0.076587\n",
      "[2]\ttest-merror:0.076208\n",
      "[3]\ttest-merror:0.074499\n",
      "[4]\ttest-merror:0.074594\n",
      "[5]\ttest-merror:0.073645\n",
      "[6]\ttest-merror:0.072886\n",
      "[7]\ttest-merror:0.072411\n",
      "[8]\ttest-merror:0.072696\n",
      "[9]\ttest-merror:0.07355\n",
      "[10]\ttest-merror:0.073171\n",
      "[11]\ttest-merror:0.072981\n",
      "[12]\ttest-merror:0.072696\n",
      "[13]\ttest-merror:0.072411\n",
      "[14]\ttest-merror:0.071747\n",
      "[15]\ttest-merror:0.072791\n",
      "[16]\ttest-merror:0.072317\n",
      "[17]\ttest-merror:0.072411\n",
      "[18]\ttest-merror:0.072127\n",
      "[19]\ttest-merror:0.072886\n",
      "[20]\ttest-merror:0.072791\n",
      "[21]\ttest-merror:0.072696\n",
      "[22]\ttest-merror:0.071462\n",
      "[23]\ttest-merror:0.070608\n",
      "[24]\ttest-merror:0.070229\n",
      "[25]\ttest-merror:0.069754\n",
      "[26]\ttest-merror:0.070134\n",
      "[27]\ttest-merror:0.070039\n",
      "[28]\ttest-merror:0.069564\n",
      "[29]\ttest-merror:0.069754\n",
      "[30]\ttest-merror:0.069564\n",
      "[31]\ttest-merror:0.069564\n",
      "[32]\ttest-merror:0.069469\n",
      "[33]\ttest-merror:0.069375\n",
      "[34]\ttest-merror:0.070324\n",
      "[35]\ttest-merror:0.070039\n",
      "[36]\ttest-merror:0.070703\n",
      "[37]\ttest-merror:0.070608\n",
      "[38]\ttest-merror:0.070608\n",
      "[39]\ttest-merror:0.069944\n",
      "[40]\ttest-merror:0.070608\n",
      "[41]\ttest-merror:0.070513\n",
      "[42]\ttest-merror:0.070703\n",
      "[43]\ttest-merror:0.070324\n",
      "[44]\ttest-merror:0.070134\n",
      "[45]\ttest-merror:0.070608\n",
      "[46]\ttest-merror:0.070798\n",
      "[47]\ttest-merror:0.070134\n",
      "[48]\ttest-merror:0.070513\n",
      "[49]\ttest-merror:0.070039\n",
      "[50]\ttest-merror:0.070134\n",
      "[51]\ttest-merror:0.070134\n",
      "[52]\ttest-merror:0.070039\n",
      "[53]\ttest-merror:0.069944\n",
      "[54]\ttest-merror:0.070324\n",
      "[55]\ttest-merror:0.070798\n",
      "[56]\ttest-merror:0.070513\n",
      "[57]\ttest-merror:0.071747\n",
      "[58]\ttest-merror:0.071083\n",
      "[59]\ttest-merror:0.070703\n",
      "[60]\ttest-merror:0.070513\n",
      "[61]\ttest-merror:0.071368\n",
      "[62]\ttest-merror:0.070893\n",
      "[63]\ttest-merror:0.071178\n",
      "[64]\ttest-merror:0.070798\n",
      "[65]\ttest-merror:0.071747\n",
      "[66]\ttest-merror:0.071557\n",
      "[67]\ttest-merror:0.071652\n",
      "[68]\ttest-merror:0.071652\n",
      "[69]\ttest-merror:0.071368\n",
      "[70]\ttest-merror:0.071178\n",
      "[71]\ttest-merror:0.071557\n",
      "[72]\ttest-merror:0.070988\n",
      "[73]\ttest-merror:0.071178\n",
      "[74]\ttest-merror:0.070608\n",
      "[75]\ttest-merror:0.070608\n",
      "[76]\ttest-merror:0.071083\n",
      "[77]\ttest-merror:0.071178\n",
      "[78]\ttest-merror:0.071842\n",
      "[79]\ttest-merror:0.071842\n",
      "[80]\ttest-merror:0.071937\n",
      "[81]\ttest-merror:0.072317\n",
      "[82]\ttest-merror:0.072222\n",
      "[83]\ttest-merror:0.072411\n",
      "[84]\ttest-merror:0.071747\n",
      "[85]\ttest-merror:0.071652\n",
      "[86]\ttest-merror:0.071462\n",
      "[87]\ttest-merror:0.071842\n",
      "[88]\ttest-merror:0.072222\n",
      "[89]\ttest-merror:0.071842\n",
      "[90]\ttest-merror:0.071937\n",
      "[91]\ttest-merror:0.071652\n",
      "[92]\ttest-merror:0.072032\n",
      "[93]\ttest-merror:0.071937\n",
      "[94]\ttest-merror:0.071747\n",
      "[95]\ttest-merror:0.071462\n",
      "[96]\ttest-merror:0.071462\n",
      "[97]\ttest-merror:0.071842\n",
      "[98]\ttest-merror:0.071842\n",
      "[99]\ttest-merror:0.072032\n",
      "[100]\ttest-merror:0.071937\n",
      "[101]\ttest-merror:0.071842\n",
      "[102]\ttest-merror:0.072696\n",
      "[103]\ttest-merror:0.071842\n",
      "[104]\ttest-merror:0.071842\n",
      "[105]\ttest-merror:0.071462\n",
      "[106]\ttest-merror:0.071462\n",
      "[107]\ttest-merror:0.071178\n",
      "[108]\ttest-merror:0.070419\n",
      "[109]\ttest-merror:0.070134\n",
      "[110]\ttest-merror:0.070229\n",
      "[111]\ttest-merror:0.071083\n",
      "[112]\ttest-merror:0.071178\n",
      "[113]\ttest-merror:0.070798\n",
      "[114]\ttest-merror:0.070229\n",
      "[115]\ttest-merror:0.070324\n",
      "[116]\ttest-merror:0.070798\n",
      "[117]\ttest-merror:0.070608\n",
      "[118]\ttest-merror:0.070893\n",
      "[119]\ttest-merror:0.070324\n",
      "[120]\ttest-merror:0.071273\n",
      "[121]\ttest-merror:0.071368\n",
      "[122]\ttest-merror:0.071368\n",
      "[123]\ttest-merror:0.071273\n",
      "[124]\ttest-merror:0.071462\n",
      "[125]\ttest-merror:0.071557\n",
      "[126]\ttest-merror:0.071557\n",
      "[127]\ttest-merror:0.071083\n",
      "[128]\ttest-merror:0.071273\n",
      "[129]\ttest-merror:0.071178\n",
      "[130]\ttest-merror:0.070988\n",
      "[131]\ttest-merror:0.070893\n",
      "[132]\ttest-merror:0.071368\n",
      "[133]\ttest-merror:0.070988\n",
      "[134]\ttest-merror:0.071273\n",
      "[135]\ttest-merror:0.071083\n",
      "[136]\ttest-merror:0.071652\n",
      "[137]\ttest-merror:0.070893\n",
      "[138]\ttest-merror:0.070608\n",
      "[139]\ttest-merror:0.070798\n",
      "[140]\ttest-merror:0.070893\n",
      "[141]\ttest-merror:0.070798\n",
      "[142]\ttest-merror:0.070893\n",
      "[143]\ttest-merror:0.070893\n",
      "[144]\ttest-merror:0.071557\n",
      "[145]\ttest-merror:0.071652\n",
      "[146]\ttest-merror:0.071273\n",
      "[147]\ttest-merror:0.071462\n",
      "[148]\ttest-merror:0.071747\n",
      "[149]\ttest-merror:0.071652\n",
      "[150]\ttest-merror:0.071273\n",
      "[151]\ttest-merror:0.071273\n",
      "[152]\ttest-merror:0.071747\n",
      "[153]\ttest-merror:0.071462\n",
      "[154]\ttest-merror:0.071652\n",
      "[155]\ttest-merror:0.071937\n",
      "[156]\ttest-merror:0.071937\n",
      "[157]\ttest-merror:0.071557\n",
      "[158]\ttest-merror:0.071842\n",
      "[159]\ttest-merror:0.071747\n",
      "[160]\ttest-merror:0.071462\n",
      "[161]\ttest-merror:0.072032\n",
      "[162]\ttest-merror:0.072032\n",
      "[163]\ttest-merror:0.072032\n",
      "[164]\ttest-merror:0.071652\n",
      "[165]\ttest-merror:0.071557\n",
      "[166]\ttest-merror:0.071462\n",
      "[167]\ttest-merror:0.071937\n",
      "[168]\ttest-merror:0.071462\n",
      "[169]\ttest-merror:0.071368\n",
      "[170]\ttest-merror:0.071652\n",
      "[171]\ttest-merror:0.071557\n",
      "[172]\ttest-merror:0.071842\n",
      "[173]\ttest-merror:0.071652\n",
      "[174]\ttest-merror:0.071652\n",
      "[175]\ttest-merror:0.071273\n",
      "[176]\ttest-merror:0.071178\n",
      "[177]\ttest-merror:0.070513\n",
      "[178]\ttest-merror:0.070893\n",
      "[179]\ttest-merror:0.070229\n",
      "[180]\ttest-merror:0.070513\n",
      "[181]\ttest-merror:0.070988\n",
      "[182]\ttest-merror:0.071178\n",
      "[183]\ttest-merror:0.070893\n",
      "[184]\ttest-merror:0.070988\n",
      "[185]\ttest-merror:0.071083\n",
      "[186]\ttest-merror:0.071273\n",
      "[187]\ttest-merror:0.071273\n",
      "[188]\ttest-merror:0.071747\n",
      "[189]\ttest-merror:0.071652\n",
      "[190]\ttest-merror:0.072032\n",
      "[191]\ttest-merror:0.071747\n",
      "[192]\ttest-merror:0.071842\n",
      "[193]\ttest-merror:0.071842\n",
      "[194]\ttest-merror:0.071652\n",
      "[195]\ttest-merror:0.071842\n",
      "[196]\ttest-merror:0.071368\n",
      "[197]\ttest-merror:0.071652\n",
      "[198]\ttest-merror:0.072032\n",
      "[199]\ttest-merror:0.072222\n"
     ]
    }
   ],
   "source": [
    "import xgboost as xgb\n",
    "\n",
    "\n",
    "# Specify sufficient boosting iterations to reach a minimum\n",
    "num_round = 200\n",
    "\n",
    "# Leave most parameters as default\n",
    "param = {'objective': 'multi:softmax', # Specify multiclass classification\n",
    "         'num_class': 2, # Number of possible output classes\n",
    "         'tree_method': 'gpu_hist' # Use GPU accelerated algorithm\n",
    "         }\n",
    "\n",
    "# Convert input data from numpy to XGBoost format\n",
    "dtrain = xgb.DMatrix(X_train, label=y_train)\n",
    "dtest = xgb.DMatrix(X_test, label=y_test)\n",
    "\n",
    "gpu_res = {} # Store accuracy result\n",
    "# Train model\n",
    "xgb = xgb.train(param, dtrain, num_round, evals=[(dtest, 'test')], evals_result=gpu_res)\n",
    "\n"
   ]
  },
  {
   "cell_type": "code",
   "execution_count": 27,
   "metadata": {},
   "outputs": [],
   "source": [
    "res = xgb.predict(dtest)"
   ]
  },
  {
   "cell_type": "code",
   "execution_count": 29,
   "metadata": {},
   "outputs": [
    {
     "data": {
      "text/plain": [
       "0.3887550200803213"
      ]
     },
     "execution_count": 29,
     "metadata": {},
     "output_type": "execute_result"
    }
   ],
   "source": [
    "f1_score(y_test, res)"
   ]
  },
  {
   "cell_type": "code",
   "execution_count": null,
   "metadata": {},
   "outputs": [],
   "source": []
  }
 ],
 "metadata": {
  "kernelspec": {
   "display_name": "Python 3",
   "language": "python",
   "name": "python3"
  },
  "language_info": {
   "codemirror_mode": {
    "name": "ipython",
    "version": 3
   },
   "file_extension": ".py",
   "mimetype": "text/x-python",
   "name": "python",
   "nbconvert_exporter": "python",
   "pygments_lexer": "ipython3",
   "version": "3.5.0"
  }
 },
 "nbformat": 4,
 "nbformat_minor": 2
}
